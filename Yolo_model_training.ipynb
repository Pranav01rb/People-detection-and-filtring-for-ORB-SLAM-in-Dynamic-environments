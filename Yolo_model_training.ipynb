{
  "cells": [
    {
      "cell_type": "code",
      "execution_count": null,
      "metadata": {
        "colab": {
          "base_uri": "https://localhost:8080/"
        },
        "id": "0t-tbbiGGnd2",
        "outputId": "b9ec0b45-ddd8-4e0d-b699-632ab9a5214f"
      },
      "outputs": [
        {
          "name": "stdout",
          "output_type": "stream",
          "text": [
            "Mounted at /content/gdrive\n"
          ]
        }
      ],
      "source": [
        "from google.colab import drive\n",
        "drive.mount('/content/gdrive')"
      ]
    },
    {
      "cell_type": "code",
      "execution_count": null,
      "metadata": {
        "id": "BJkBS9Y-KXe0"
      },
      "outputs": [],
      "source": [
        "DATA_DIR = '/content/gdrive/MyDrive/Photos/Training'"
      ]
    },
    {
      "cell_type": "code",
      "execution_count": null,
      "metadata": {
        "colab": {
          "base_uri": "https://localhost:8080/"
        },
        "id": "-OKZfnEiJ9Y7",
        "outputId": "f4baed70-e38e-42de-f444-ebb4b8c8a2be"
      },
      "outputs": [
        {
          "name": "stdout",
          "output_type": "stream",
          "text": [
            "Collecting ultralytics\n",
            "  Downloading ultralytics-8.1.45-py3-none-any.whl (749 kB)\n",
            "\u001b[2K     \u001b[90m━━━━━━━━━━━━━━━━━━━━━━━━━━━━━━━━━━━━━━━━\u001b[0m \u001b[32m749.6/749.6 kB\u001b[0m \u001b[31m5.1 MB/s\u001b[0m eta \u001b[36m0:00:00\u001b[0m\n",
            "\u001b[?25hRequirement already satisfied: matplotlib>=3.3.0 in /usr/local/lib/python3.10/dist-packages (from ultralytics) (3.7.1)\n",
            "Requirement already satisfied: opencv-python>=4.6.0 in /usr/local/lib/python3.10/dist-packages (from ultralytics) (4.9.0.80)\n",
            "Requirement already satisfied: pillow>=7.1.2 in /usr/local/lib/python3.10/dist-packages (from ultralytics) (10.3.0)\n",
            "Requirement already satisfied: pyyaml>=5.3.1 in /usr/local/lib/python3.10/dist-packages (from ultralytics) (6.0.1)\n",
            "Requirement already satisfied: requests>=2.23.0 in /usr/local/lib/python3.10/dist-packages (from ultralytics) (2.31.0)\n",
            "Requirement already satisfied: scipy>=1.4.1 in /usr/local/lib/python3.10/dist-packages (from ultralytics) (1.11.4)\n",
            "Requirement already satisfied: torch>=1.8.0 in /usr/local/lib/python3.10/dist-packages (from ultralytics) (2.2.0+cpu)\n",
            "Requirement already satisfied: torchvision>=0.9.0 in /usr/local/lib/python3.10/dist-packages (from ultralytics) (0.17.0+cpu)\n",
            "Requirement already satisfied: tqdm>=4.64.0 in /usr/local/lib/python3.10/dist-packages (from ultralytics) (4.66.2)\n",
            "Requirement already satisfied: psutil in /usr/local/lib/python3.10/dist-packages (from ultralytics) (5.9.5)\n",
            "Collecting py-cpuinfo (from ultralytics)\n",
            "  Downloading py_cpuinfo-9.0.0-py3-none-any.whl (22 kB)\n",
            "Collecting thop>=0.1.1 (from ultralytics)\n",
            "  Downloading thop-0.1.1.post2209072238-py3-none-any.whl (15 kB)\n",
            "Requirement already satisfied: pandas>=1.1.4 in /usr/local/lib/python3.10/dist-packages (from ultralytics) (2.0.3)\n",
            "Requirement already satisfied: seaborn>=0.11.0 in /usr/local/lib/python3.10/dist-packages (from ultralytics) (0.13.1)\n",
            "Requirement already satisfied: contourpy>=1.0.1 in /usr/local/lib/python3.10/dist-packages (from matplotlib>=3.3.0->ultralytics) (1.2.0)\n",
            "Requirement already satisfied: cycler>=0.10 in /usr/local/lib/python3.10/dist-packages (from matplotlib>=3.3.0->ultralytics) (0.12.1)\n",
            "Requirement already satisfied: fonttools>=4.22.0 in /usr/local/lib/python3.10/dist-packages (from matplotlib>=3.3.0->ultralytics) (4.50.0)\n",
            "Requirement already satisfied: kiwisolver>=1.0.1 in /usr/local/lib/python3.10/dist-packages (from matplotlib>=3.3.0->ultralytics) (1.4.5)\n",
            "Requirement already satisfied: numpy>=1.20 in /usr/local/lib/python3.10/dist-packages (from matplotlib>=3.3.0->ultralytics) (1.25.2)\n",
            "Requirement already satisfied: packaging>=20.0 in /usr/local/lib/python3.10/dist-packages (from matplotlib>=3.3.0->ultralytics) (24.0)\n",
            "Requirement already satisfied: pyparsing>=2.3.1 in /usr/local/lib/python3.10/dist-packages (from matplotlib>=3.3.0->ultralytics) (3.1.2)\n",
            "Requirement already satisfied: python-dateutil>=2.7 in /usr/local/lib/python3.10/dist-packages (from matplotlib>=3.3.0->ultralytics) (2.9.0.post0)\n",
            "Requirement already satisfied: pytz>=2020.1 in /usr/local/lib/python3.10/dist-packages (from pandas>=1.1.4->ultralytics) (2024.1)\n",
            "Requirement already satisfied: tzdata>=2022.1 in /usr/local/lib/python3.10/dist-packages (from pandas>=1.1.4->ultralytics) (2024.1)\n",
            "Requirement already satisfied: charset-normalizer<4,>=2 in /usr/local/lib/python3.10/dist-packages (from requests>=2.23.0->ultralytics) (3.3.2)\n",
            "Requirement already satisfied: idna<4,>=2.5 in /usr/local/lib/python3.10/dist-packages (from requests>=2.23.0->ultralytics) (3.6)\n",
            "Requirement already satisfied: urllib3<3,>=1.21.1 in /usr/local/lib/python3.10/dist-packages (from requests>=2.23.0->ultralytics) (2.0.7)\n",
            "Requirement already satisfied: certifi>=2017.4.17 in /usr/local/lib/python3.10/dist-packages (from requests>=2.23.0->ultralytics) (2024.2.2)\n",
            "Requirement already satisfied: filelock in /usr/local/lib/python3.10/dist-packages (from torch>=1.8.0->ultralytics) (3.13.3)\n",
            "Requirement already satisfied: typing-extensions>=4.8.0 in /usr/local/lib/python3.10/dist-packages (from torch>=1.8.0->ultralytics) (4.10.0)\n",
            "Requirement already satisfied: sympy in /usr/local/lib/python3.10/dist-packages (from torch>=1.8.0->ultralytics) (1.12)\n",
            "Requirement already satisfied: networkx in /usr/local/lib/python3.10/dist-packages (from torch>=1.8.0->ultralytics) (3.2.1)\n",
            "Requirement already satisfied: jinja2 in /usr/local/lib/python3.10/dist-packages (from torch>=1.8.0->ultralytics) (3.1.3)\n",
            "Requirement already satisfied: fsspec in /usr/local/lib/python3.10/dist-packages (from torch>=1.8.0->ultralytics) (2024.3.1)\n",
            "Requirement already satisfied: six>=1.5 in /usr/local/lib/python3.10/dist-packages (from python-dateutil>=2.7->matplotlib>=3.3.0->ultralytics) (1.16.0)\n",
            "Requirement already satisfied: MarkupSafe>=2.0 in /usr/local/lib/python3.10/dist-packages (from jinja2->torch>=1.8.0->ultralytics) (2.1.5)\n",
            "Requirement already satisfied: mpmath>=0.19 in /usr/local/lib/python3.10/dist-packages (from sympy->torch>=1.8.0->ultralytics) (1.3.0)\n",
            "Installing collected packages: py-cpuinfo, thop, ultralytics\n",
            "Successfully installed py-cpuinfo-9.0.0 thop-0.1.1.post2209072238 ultralytics-8.1.45\n"
          ]
        }
      ],
      "source": [
        "!pip install ultralytics\n"
      ]
    },
    {
      "cell_type": "code",
      "execution_count": null,
      "metadata": {
        "colab": {
          "base_uri": "https://localhost:8080/"
        },
        "id": "Fqka0VZLKhF4",
        "outputId": "d41d05a4-ae29-4cff-9695-89cea2c8db2c"
      },
      "outputs": [
        {
          "name": "stdout",
          "output_type": "stream",
          "text": [
            "Ultralytics YOLOv8.1.45 🚀 Python-3.10.12 torch-2.2.0+cpu CPU (Intel Xeon 2.00GHz)\n",
            "\u001b[34m\u001b[1mengine/trainer: \u001b[0mtask=segment, mode=train, model=yolov8n-seg.pt, data=/content/gdrive/MyDrive/Photos/Training/config.yaml, epochs=10, time=None, patience=100, batch=16, imgsz=640, save=True, save_period=-1, cache=False, device=None, workers=8, project=None, name=train4, exist_ok=False, pretrained=True, optimizer=auto, verbose=True, seed=0, deterministic=True, single_cls=False, rect=False, cos_lr=False, close_mosaic=10, resume=False, amp=True, fraction=1.0, profile=False, freeze=None, multi_scale=False, overlap_mask=True, mask_ratio=4, dropout=0.0, val=True, split=val, save_json=False, save_hybrid=False, conf=None, iou=0.7, max_det=300, half=False, dnn=False, plots=True, source=None, vid_stride=1, stream_buffer=False, visualize=False, augment=False, agnostic_nms=False, classes=None, retina_masks=False, embed=None, show=False, save_frames=False, save_txt=False, save_conf=False, save_crop=False, show_labels=True, show_conf=True, show_boxes=True, line_width=None, format=torchscript, keras=False, optimize=False, int8=False, dynamic=False, simplify=False, opset=None, workspace=4, nms=False, lr0=0.01, lrf=0.01, momentum=0.937, weight_decay=0.0005, warmup_epochs=3.0, warmup_momentum=0.8, warmup_bias_lr=0.1, box=7.5, cls=0.5, dfl=1.5, pose=12.0, kobj=1.0, label_smoothing=0.0, nbs=64, hsv_h=0.015, hsv_s=0.7, hsv_v=0.4, degrees=0.0, translate=0.1, scale=0.5, shear=0.0, perspective=0.0, flipud=0.0, fliplr=0.5, bgr=0.0, mosaic=1.0, mixup=0.0, copy_paste=0.0, auto_augment=randaugment, erasing=0.4, crop_fraction=1.0, cfg=None, tracker=botsort.yaml, save_dir=runs/segment/train4\n",
            "Downloading https://ultralytics.com/assets/Arial.ttf to '/root/.config/Ultralytics/Arial.ttf'...\n"
          ]
        },
        {
          "name": "stderr",
          "output_type": "stream",
          "text": [
            "100%|██████████| 755k/755k [00:00<00:00, 16.5MB/s]\n"
          ]
        },
        {
          "name": "stdout",
          "output_type": "stream",
          "text": [
            "Overriding model.yaml nc=80 with nc=1\n",
            "\n",
            "                   from  n    params  module                                       arguments                     \n",
            "  0                  -1  1       464  ultralytics.nn.modules.conv.Conv             [3, 16, 3, 2]                 \n",
            "  1                  -1  1      4672  ultralytics.nn.modules.conv.Conv             [16, 32, 3, 2]                \n",
            "  2                  -1  1      7360  ultralytics.nn.modules.block.C2f             [32, 32, 1, True]             \n",
            "  3                  -1  1     18560  ultralytics.nn.modules.conv.Conv             [32, 64, 3, 2]                \n",
            "  4                  -1  2     49664  ultralytics.nn.modules.block.C2f             [64, 64, 2, True]             \n",
            "  5                  -1  1     73984  ultralytics.nn.modules.conv.Conv             [64, 128, 3, 2]               \n",
            "  6                  -1  2    197632  ultralytics.nn.modules.block.C2f             [128, 128, 2, True]           \n",
            "  7                  -1  1    295424  ultralytics.nn.modules.conv.Conv             [128, 256, 3, 2]              \n",
            "  8                  -1  1    460288  ultralytics.nn.modules.block.C2f             [256, 256, 1, True]           \n",
            "  9                  -1  1    164608  ultralytics.nn.modules.block.SPPF            [256, 256, 5]                 \n",
            " 10                  -1  1         0  torch.nn.modules.upsampling.Upsample         [None, 2, 'nearest']          \n",
            " 11             [-1, 6]  1         0  ultralytics.nn.modules.conv.Concat           [1]                           \n",
            " 12                  -1  1    148224  ultralytics.nn.modules.block.C2f             [384, 128, 1]                 \n",
            " 13                  -1  1         0  torch.nn.modules.upsampling.Upsample         [None, 2, 'nearest']          \n",
            " 14             [-1, 4]  1         0  ultralytics.nn.modules.conv.Concat           [1]                           \n",
            " 15                  -1  1     37248  ultralytics.nn.modules.block.C2f             [192, 64, 1]                  \n",
            " 16                  -1  1     36992  ultralytics.nn.modules.conv.Conv             [64, 64, 3, 2]                \n",
            " 17            [-1, 12]  1         0  ultralytics.nn.modules.conv.Concat           [1]                           \n",
            " 18                  -1  1    123648  ultralytics.nn.modules.block.C2f             [192, 128, 1]                 \n",
            " 19                  -1  1    147712  ultralytics.nn.modules.conv.Conv             [128, 128, 3, 2]              \n",
            " 20             [-1, 9]  1         0  ultralytics.nn.modules.conv.Concat           [1]                           \n",
            " 21                  -1  1    493056  ultralytics.nn.modules.block.C2f             [384, 256, 1]                 \n",
            " 22        [15, 18, 21]  1   1004275  ultralytics.nn.modules.head.Segment          [1, 32, 64, [64, 128, 256]]   \n",
            "YOLOv8n-seg summary: 261 layers, 3263811 parameters, 3263795 gradients, 12.1 GFLOPs\n",
            "\n",
            "Transferred 381/417 items from pretrained weights\n",
            "\u001b[34m\u001b[1mTensorBoard: \u001b[0mStart with 'tensorboard --logdir runs/segment/train4', view at http://localhost:6006/\n",
            "Freezing layer 'model.22.dfl.conv.weight'\n"
          ]
        },
        {
          "name": "stderr",
          "output_type": "stream",
          "text": [
            "\u001b[34m\u001b[1mtrain: \u001b[0mScanning /content/gdrive/MyDrive/Photos/Training/labels/train... 540 images, 0 backgrounds, 0 corrupt: 100%|██████████| 540/540 [00:21<00:00, 24.88it/s]\n"
          ]
        },
        {
          "name": "stdout",
          "output_type": "stream",
          "text": [
            "\u001b[34m\u001b[1mtrain: \u001b[0mNew cache created: /content/gdrive/MyDrive/Photos/Training/labels/train.cache\n"
          ]
        },
        {
          "name": "stderr",
          "output_type": "stream",
          "text": [
            "\u001b[34m\u001b[1mval: \u001b[0mScanning /content/gdrive/MyDrive/Photos/Training/labels/val.cache... 50 images, 0 backgrounds, 0 corrupt: 100%|██████████| 50/50 [00:00<?, ?it/s]\n"
          ]
        },
        {
          "name": "stdout",
          "output_type": "stream",
          "text": [
            "Plotting labels to runs/segment/train4/labels.jpg... \n",
            "\u001b[34m\u001b[1moptimizer:\u001b[0m 'optimizer=auto' found, ignoring 'lr0=0.01' and 'momentum=0.937' and determining best 'optimizer', 'lr0' and 'momentum' automatically... \n",
            "\u001b[34m\u001b[1moptimizer:\u001b[0m AdamW(lr=0.002, momentum=0.9) with parameter groups 66 weight(decay=0.0), 77 weight(decay=0.0005), 76 bias(decay=0.0)\n",
            "\u001b[34m\u001b[1mTensorBoard: \u001b[0mmodel graph visualization added ✅\n",
            "Image sizes 640 train, 640 val\n",
            "Using 0 dataloader workers\n",
            "Logging results to \u001b[1mruns/segment/train4\u001b[0m\n",
            "Starting training for 10 epochs...\n",
            "Closing dataloader mosaic\n",
            "\n",
            "      Epoch    GPU_mem   box_loss   seg_loss   cls_loss   dfl_loss  Instances       Size\n"
          ]
        },
        {
          "name": "stderr",
          "output_type": "stream",
          "text": [
            "       1/10         0G      1.246      2.659      2.317      1.349         17        640: 100%|██████████| 34/34 [00:51<00:00,  1.53s/it]\n",
            "                 Class     Images  Instances      Box(P          R      mAP50  mAP50-95)     Mask(P          R      mAP50  mAP50-95): 100%|██████████| 2/2 [00:15<00:00,  7.73s/it]"
          ]
        },
        {
          "name": "stdout",
          "output_type": "stream",
          "text": [
            "                   all         50         51      0.851      0.373      0.777      0.502      0.806      0.353      0.739      0.552\n"
          ]
        },
        {
          "name": "stderr",
          "output_type": "stream",
          "text": [
            "\n"
          ]
        },
        {
          "name": "stdout",
          "output_type": "stream",
          "text": [
            "\n",
            "      Epoch    GPU_mem   box_loss   seg_loss   cls_loss   dfl_loss  Instances       Size\n"
          ]
        },
        {
          "name": "stderr",
          "output_type": "stream",
          "text": [
            "       2/10         0G      1.457      2.869      2.192      1.536         46        640: 100%|██████████| 34/34 [00:48<00:00,  1.43s/it]\n",
            "                 Class     Images  Instances      Box(P          R      mAP50  mAP50-95)     Mask(P          R      mAP50  mAP50-95): 100%|██████████| 2/2 [00:01<00:00,  1.21it/s]"
          ]
        },
        {
          "name": "stdout",
          "output_type": "stream",
          "text": [
            "                   all         50         51      0.726      0.364      0.601      0.338      0.576      0.275      0.397      0.142\n"
          ]
        },
        {
          "name": "stderr",
          "output_type": "stream",
          "text": [
            "\n"
          ]
        },
        {
          "name": "stdout",
          "output_type": "stream",
          "text": [
            "\n",
            "      Epoch    GPU_mem   box_loss   seg_loss   cls_loss   dfl_loss  Instances       Size\n"
          ]
        },
        {
          "name": "stderr",
          "output_type": "stream",
          "text": [
            "       3/10         0G      1.589      3.081      2.148      1.621         52        640: 100%|██████████| 34/34 [00:47<00:00,  1.41s/it]\n",
            "                 Class     Images  Instances      Box(P          R      mAP50  mAP50-95)     Mask(P          R      mAP50  mAP50-95): 100%|██████████| 2/2 [00:01<00:00,  1.13it/s]"
          ]
        },
        {
          "name": "stdout",
          "output_type": "stream",
          "text": [
            "                   all         50         51      0.758      0.765      0.837      0.538      0.758      0.765      0.829      0.502\n"
          ]
        },
        {
          "name": "stderr",
          "output_type": "stream",
          "text": [
            "\n"
          ]
        },
        {
          "name": "stdout",
          "output_type": "stream",
          "text": [
            "\n",
            "      Epoch    GPU_mem   box_loss   seg_loss   cls_loss   dfl_loss  Instances       Size\n"
          ]
        },
        {
          "name": "stderr",
          "output_type": "stream",
          "text": [
            "       4/10         0G      1.578      3.019      2.051      1.635         35        640: 100%|██████████| 34/34 [00:48<00:00,  1.42s/it]\n",
            "                 Class     Images  Instances      Box(P          R      mAP50  mAP50-95)     Mask(P          R      mAP50  mAP50-95): 100%|██████████| 2/2 [00:01<00:00,  1.15it/s]"
          ]
        },
        {
          "name": "stdout",
          "output_type": "stream",
          "text": [
            "                   all         50         51      0.505      0.686      0.637      0.332      0.491      0.608      0.613      0.342\n"
          ]
        },
        {
          "name": "stderr",
          "output_type": "stream",
          "text": [
            "\n"
          ]
        },
        {
          "name": "stdout",
          "output_type": "stream",
          "text": [
            "\n",
            "      Epoch    GPU_mem   box_loss   seg_loss   cls_loss   dfl_loss  Instances       Size\n"
          ]
        },
        {
          "name": "stderr",
          "output_type": "stream",
          "text": [
            "       5/10         0G      1.541      3.024      1.935      1.626         29        640: 100%|██████████| 34/34 [00:47<00:00,  1.40s/it]\n",
            "                 Class     Images  Instances      Box(P          R      mAP50  mAP50-95)     Mask(P          R      mAP50  mAP50-95): 100%|██████████| 2/2 [00:01<00:00,  1.35it/s]"
          ]
        },
        {
          "name": "stdout",
          "output_type": "stream",
          "text": [
            "                   all         50         51      0.294       0.44      0.268      0.119      0.326      0.314      0.181     0.0487\n"
          ]
        },
        {
          "name": "stderr",
          "output_type": "stream",
          "text": [
            "\n"
          ]
        },
        {
          "name": "stdout",
          "output_type": "stream",
          "text": [
            "\n",
            "      Epoch    GPU_mem   box_loss   seg_loss   cls_loss   dfl_loss  Instances       Size\n"
          ]
        },
        {
          "name": "stderr",
          "output_type": "stream",
          "text": [
            "       6/10         0G      1.529      3.001      1.874      1.601         42        640: 100%|██████████| 34/34 [00:47<00:00,  1.39s/it]\n",
            "                 Class     Images  Instances      Box(P          R      mAP50  mAP50-95)     Mask(P          R      mAP50  mAP50-95): 100%|██████████| 2/2 [00:01<00:00,  1.25it/s]"
          ]
        },
        {
          "name": "stdout",
          "output_type": "stream",
          "text": [
            "                   all         50         51      0.796      0.745      0.868      0.595      0.796      0.745      0.854      0.538\n"
          ]
        },
        {
          "name": "stderr",
          "output_type": "stream",
          "text": [
            "\n"
          ]
        },
        {
          "name": "stdout",
          "output_type": "stream",
          "text": [
            "\n",
            "      Epoch    GPU_mem   box_loss   seg_loss   cls_loss   dfl_loss  Instances       Size\n"
          ]
        },
        {
          "name": "stderr",
          "output_type": "stream",
          "text": [
            "       7/10         0G      1.425      2.788      1.778      1.535         19        640: 100%|██████████| 34/34 [00:46<00:00,  1.37s/it]\n",
            "                 Class     Images  Instances      Box(P          R      mAP50  mAP50-95)     Mask(P          R      mAP50  mAP50-95): 100%|██████████| 2/2 [00:01<00:00,  1.17it/s]"
          ]
        },
        {
          "name": "stdout",
          "output_type": "stream",
          "text": [
            "                   all         50         51      0.985      0.863      0.969       0.77      0.985      0.863      0.965      0.728\n"
          ]
        },
        {
          "name": "stderr",
          "output_type": "stream",
          "text": [
            "\n"
          ]
        },
        {
          "name": "stdout",
          "output_type": "stream",
          "text": [
            "\n",
            "      Epoch    GPU_mem   box_loss   seg_loss   cls_loss   dfl_loss  Instances       Size\n"
          ]
        },
        {
          "name": "stderr",
          "output_type": "stream",
          "text": [
            "       8/10         0G      1.375      2.711      1.607      1.455         39        640: 100%|██████████| 34/34 [00:47<00:00,  1.40s/it]\n",
            "                 Class     Images  Instances      Box(P          R      mAP50  mAP50-95)     Mask(P          R      mAP50  mAP50-95): 100%|██████████| 2/2 [00:01<00:00,  1.33it/s]"
          ]
        },
        {
          "name": "stdout",
          "output_type": "stream",
          "text": [
            "                   all         50         51      0.941      0.938       0.98      0.769      0.941      0.938       0.98      0.784\n"
          ]
        },
        {
          "name": "stderr",
          "output_type": "stream",
          "text": [
            "\n"
          ]
        },
        {
          "name": "stdout",
          "output_type": "stream",
          "text": [
            "\n",
            "      Epoch    GPU_mem   box_loss   seg_loss   cls_loss   dfl_loss  Instances       Size\n"
          ]
        },
        {
          "name": "stderr",
          "output_type": "stream",
          "text": [
            "       9/10         0G      1.275      2.593      1.482      1.412         28        640: 100%|██████████| 34/34 [00:48<00:00,  1.41s/it]\n",
            "                 Class     Images  Instances      Box(P          R      mAP50  mAP50-95)     Mask(P          R      mAP50  mAP50-95): 100%|██████████| 2/2 [00:01<00:00,  1.23it/s]"
          ]
        },
        {
          "name": "stdout",
          "output_type": "stream",
          "text": [
            "                   all         50         51      0.822       0.98      0.958      0.726      0.897      0.882      0.957      0.792\n"
          ]
        },
        {
          "name": "stderr",
          "output_type": "stream",
          "text": [
            "\n"
          ]
        },
        {
          "name": "stdout",
          "output_type": "stream",
          "text": [
            "\n",
            "      Epoch    GPU_mem   box_loss   seg_loss   cls_loss   dfl_loss  Instances       Size\n"
          ]
        },
        {
          "name": "stderr",
          "output_type": "stream",
          "text": [
            "      10/10         0G      1.196       2.43      1.427      1.366         19        640: 100%|██████████| 34/34 [00:49<00:00,  1.45s/it]\n",
            "                 Class     Images  Instances      Box(P          R      mAP50  mAP50-95)     Mask(P          R      mAP50  mAP50-95): 100%|██████████| 2/2 [00:01<00:00,  1.33it/s]"
          ]
        },
        {
          "name": "stdout",
          "output_type": "stream",
          "text": [
            "                   all         50         51      0.916      0.902      0.969      0.765      0.916      0.902      0.968      0.827\n"
          ]
        },
        {
          "name": "stderr",
          "output_type": "stream",
          "text": [
            "\n"
          ]
        },
        {
          "name": "stdout",
          "output_type": "stream",
          "text": [
            "\n",
            "10 epochs completed in 0.145 hours.\n",
            "Optimizer stripped from runs/segment/train4/weights/last.pt, 6.8MB\n",
            "Optimizer stripped from runs/segment/train4/weights/best.pt, 6.8MB\n",
            "\n",
            "Validating runs/segment/train4/weights/best.pt...\n",
            "Ultralytics YOLOv8.1.45 🚀 Python-3.10.12 torch-2.2.0+cpu CPU (Intel Xeon 2.00GHz)\n",
            "YOLOv8n-seg summary (fused): 195 layers, 3258259 parameters, 0 gradients, 12.0 GFLOPs\n"
          ]
        },
        {
          "name": "stderr",
          "output_type": "stream",
          "text": [
            "                 Class     Images  Instances      Box(P          R      mAP50  mAP50-95)     Mask(P          R      mAP50  mAP50-95): 100%|██████████| 2/2 [00:01<00:00,  1.22it/s]\n"
          ]
        },
        {
          "name": "stdout",
          "output_type": "stream",
          "text": [
            "                   all         50         51      0.938       0.89      0.969      0.766      0.938       0.89      0.968      0.828\n",
            "Speed: 0.3ms preprocess, 17.3ms inference, 0.0ms loss, 1.1ms postprocess per image\n",
            "Results saved to \u001b[1mruns/segment/train4\u001b[0m\n"
          ]
        },
        {
          "data": {
            "text/plain": [
              "ultralytics.utils.metrics.SegmentMetrics object with attributes:\n",
              "\n",
              "ap_class_index: array([0])\n",
              "box: ultralytics.utils.metrics.Metric object\n",
              "confusion_matrix: <ultralytics.utils.metrics.ConfusionMatrix object at 0x7b04b94a27a0>\n",
              "curves: ['Precision-Recall(B)', 'F1-Confidence(B)', 'Precision-Confidence(B)', 'Recall-Confidence(B)', 'Precision-Recall(M)', 'F1-Confidence(M)', 'Precision-Confidence(M)', 'Recall-Confidence(M)']\n",
              "curves_results: [[array([          0,    0.001001,    0.002002,    0.003003,    0.004004,    0.005005,    0.006006,    0.007007,    0.008008,    0.009009,     0.01001,    0.011011,    0.012012,    0.013013,    0.014014,    0.015015,    0.016016,    0.017017,    0.018018,    0.019019,     0.02002,    0.021021,    0.022022,    0.023023,\n",
              "          0.024024,    0.025025,    0.026026,    0.027027,    0.028028,    0.029029,     0.03003,    0.031031,    0.032032,    0.033033,    0.034034,    0.035035,    0.036036,    0.037037,    0.038038,    0.039039,     0.04004,    0.041041,    0.042042,    0.043043,    0.044044,    0.045045,    0.046046,    0.047047,\n",
              "          0.048048,    0.049049,     0.05005,    0.051051,    0.052052,    0.053053,    0.054054,    0.055055,    0.056056,    0.057057,    0.058058,    0.059059,     0.06006,    0.061061,    0.062062,    0.063063,    0.064064,    0.065065,    0.066066,    0.067067,    0.068068,    0.069069,     0.07007,    0.071071,\n",
              "          0.072072,    0.073073,    0.074074,    0.075075,    0.076076,    0.077077,    0.078078,    0.079079,     0.08008,    0.081081,    0.082082,    0.083083,    0.084084,    0.085085,    0.086086,    0.087087,    0.088088,    0.089089,     0.09009,    0.091091,    0.092092,    0.093093,    0.094094,    0.095095,\n",
              "          0.096096,    0.097097,    0.098098,    0.099099,      0.1001,      0.1011,      0.1021,      0.1031,      0.1041,     0.10511,     0.10611,     0.10711,     0.10811,     0.10911,     0.11011,     0.11111,     0.11211,     0.11311,     0.11411,     0.11512,     0.11612,     0.11712,     0.11812,     0.11912,\n",
              "           0.12012,     0.12112,     0.12212,     0.12312,     0.12412,     0.12513,     0.12613,     0.12713,     0.12813,     0.12913,     0.13013,     0.13113,     0.13213,     0.13313,     0.13413,     0.13514,     0.13614,     0.13714,     0.13814,     0.13914,     0.14014,     0.14114,     0.14214,     0.14314,\n",
              "           0.14414,     0.14515,     0.14615,     0.14715,     0.14815,     0.14915,     0.15015,     0.15115,     0.15215,     0.15315,     0.15415,     0.15516,     0.15616,     0.15716,     0.15816,     0.15916,     0.16016,     0.16116,     0.16216,     0.16316,     0.16416,     0.16517,     0.16617,     0.16717,\n",
              "           0.16817,     0.16917,     0.17017,     0.17117,     0.17217,     0.17317,     0.17417,     0.17518,     0.17618,     0.17718,     0.17818,     0.17918,     0.18018,     0.18118,     0.18218,     0.18318,     0.18418,     0.18519,     0.18619,     0.18719,     0.18819,     0.18919,     0.19019,     0.19119,\n",
              "           0.19219,     0.19319,     0.19419,      0.1952,      0.1962,      0.1972,      0.1982,      0.1992,      0.2002,      0.2012,      0.2022,      0.2032,      0.2042,     0.20521,     0.20621,     0.20721,     0.20821,     0.20921,     0.21021,     0.21121,     0.21221,     0.21321,     0.21421,     0.21522,\n",
              "           0.21622,     0.21722,     0.21822,     0.21922,     0.22022,     0.22122,     0.22222,     0.22322,     0.22422,     0.22523,     0.22623,     0.22723,     0.22823,     0.22923,     0.23023,     0.23123,     0.23223,     0.23323,     0.23423,     0.23524,     0.23624,     0.23724,     0.23824,     0.23924,\n",
              "           0.24024,     0.24124,     0.24224,     0.24324,     0.24424,     0.24525,     0.24625,     0.24725,     0.24825,     0.24925,     0.25025,     0.25125,     0.25225,     0.25325,     0.25425,     0.25526,     0.25626,     0.25726,     0.25826,     0.25926,     0.26026,     0.26126,     0.26226,     0.26326,\n",
              "           0.26426,     0.26527,     0.26627,     0.26727,     0.26827,     0.26927,     0.27027,     0.27127,     0.27227,     0.27327,     0.27427,     0.27528,     0.27628,     0.27728,     0.27828,     0.27928,     0.28028,     0.28128,     0.28228,     0.28328,     0.28428,     0.28529,     0.28629,     0.28729,\n",
              "           0.28829,     0.28929,     0.29029,     0.29129,     0.29229,     0.29329,     0.29429,      0.2953,      0.2963,      0.2973,      0.2983,      0.2993,      0.3003,      0.3013,      0.3023,      0.3033,      0.3043,     0.30531,     0.30631,     0.30731,     0.30831,     0.30931,     0.31031,     0.31131,\n",
              "           0.31231,     0.31331,     0.31431,     0.31532,     0.31632,     0.31732,     0.31832,     0.31932,     0.32032,     0.32132,     0.32232,     0.32332,     0.32432,     0.32533,     0.32633,     0.32733,     0.32833,     0.32933,     0.33033,     0.33133,     0.33233,     0.33333,     0.33433,     0.33534,\n",
              "           0.33634,     0.33734,     0.33834,     0.33934,     0.34034,     0.34134,     0.34234,     0.34334,     0.34434,     0.34535,     0.34635,     0.34735,     0.34835,     0.34935,     0.35035,     0.35135,     0.35235,     0.35335,     0.35435,     0.35536,     0.35636,     0.35736,     0.35836,     0.35936,\n",
              "           0.36036,     0.36136,     0.36236,     0.36336,     0.36436,     0.36537,     0.36637,     0.36737,     0.36837,     0.36937,     0.37037,     0.37137,     0.37237,     0.37337,     0.37437,     0.37538,     0.37638,     0.37738,     0.37838,     0.37938,     0.38038,     0.38138,     0.38238,     0.38338,\n",
              "           0.38438,     0.38539,     0.38639,     0.38739,     0.38839,     0.38939,     0.39039,     0.39139,     0.39239,     0.39339,     0.39439,      0.3954,      0.3964,      0.3974,      0.3984,      0.3994,      0.4004,      0.4014,      0.4024,      0.4034,      0.4044,     0.40541,     0.40641,     0.40741,\n",
              "           0.40841,     0.40941,     0.41041,     0.41141,     0.41241,     0.41341,     0.41441,     0.41542,     0.41642,     0.41742,     0.41842,     0.41942,     0.42042,     0.42142,     0.42242,     0.42342,     0.42442,     0.42543,     0.42643,     0.42743,     0.42843,     0.42943,     0.43043,     0.43143,\n",
              "           0.43243,     0.43343,     0.43443,     0.43544,     0.43644,     0.43744,     0.43844,     0.43944,     0.44044,     0.44144,     0.44244,     0.44344,     0.44444,     0.44545,     0.44645,     0.44745,     0.44845,     0.44945,     0.45045,     0.45145,     0.45245,     0.45345,     0.45445,     0.45546,\n",
              "           0.45646,     0.45746,     0.45846,     0.45946,     0.46046,     0.46146,     0.46246,     0.46346,     0.46446,     0.46547,     0.46647,     0.46747,     0.46847,     0.46947,     0.47047,     0.47147,     0.47247,     0.47347,     0.47447,     0.47548,     0.47648,     0.47748,     0.47848,     0.47948,\n",
              "           0.48048,     0.48148,     0.48248,     0.48348,     0.48448,     0.48549,     0.48649,     0.48749,     0.48849,     0.48949,     0.49049,     0.49149,     0.49249,     0.49349,     0.49449,      0.4955,      0.4965,      0.4975,      0.4985,      0.4995,      0.5005,      0.5015,      0.5025,      0.5035,\n",
              "            0.5045,     0.50551,     0.50651,     0.50751,     0.50851,     0.50951,     0.51051,     0.51151,     0.51251,     0.51351,     0.51451,     0.51552,     0.51652,     0.51752,     0.51852,     0.51952,     0.52052,     0.52152,     0.52252,     0.52352,     0.52452,     0.52553,     0.52653,     0.52753,\n",
              "           0.52853,     0.52953,     0.53053,     0.53153,     0.53253,     0.53353,     0.53453,     0.53554,     0.53654,     0.53754,     0.53854,     0.53954,     0.54054,     0.54154,     0.54254,     0.54354,     0.54454,     0.54555,     0.54655,     0.54755,     0.54855,     0.54955,     0.55055,     0.55155,\n",
              "           0.55255,     0.55355,     0.55455,     0.55556,     0.55656,     0.55756,     0.55856,     0.55956,     0.56056,     0.56156,     0.56256,     0.56356,     0.56456,     0.56557,     0.56657,     0.56757,     0.56857,     0.56957,     0.57057,     0.57157,     0.57257,     0.57357,     0.57457,     0.57558,\n",
              "           0.57658,     0.57758,     0.57858,     0.57958,     0.58058,     0.58158,     0.58258,     0.58358,     0.58458,     0.58559,     0.58659,     0.58759,     0.58859,     0.58959,     0.59059,     0.59159,     0.59259,     0.59359,     0.59459,      0.5956,      0.5966,      0.5976,      0.5986,      0.5996,\n",
              "            0.6006,      0.6016,      0.6026,      0.6036,      0.6046,     0.60561,     0.60661,     0.60761,     0.60861,     0.60961,     0.61061,     0.61161,     0.61261,     0.61361,     0.61461,     0.61562,     0.61662,     0.61762,     0.61862,     0.61962,     0.62062,     0.62162,     0.62262,     0.62362,\n",
              "           0.62462,     0.62563,     0.62663,     0.62763,     0.62863,     0.62963,     0.63063,     0.63163,     0.63263,     0.63363,     0.63463,     0.63564,     0.63664,     0.63764,     0.63864,     0.63964,     0.64064,     0.64164,     0.64264,     0.64364,     0.64464,     0.64565,     0.64665,     0.64765,\n",
              "           0.64865,     0.64965,     0.65065,     0.65165,     0.65265,     0.65365,     0.65465,     0.65566,     0.65666,     0.65766,     0.65866,     0.65966,     0.66066,     0.66166,     0.66266,     0.66366,     0.66466,     0.66567,     0.66667,     0.66767,     0.66867,     0.66967,     0.67067,     0.67167,\n",
              "           0.67267,     0.67367,     0.67467,     0.67568,     0.67668,     0.67768,     0.67868,     0.67968,     0.68068,     0.68168,     0.68268,     0.68368,     0.68468,     0.68569,     0.68669,     0.68769,     0.68869,     0.68969,     0.69069,     0.69169,     0.69269,     0.69369,     0.69469,      0.6957,\n",
              "            0.6967,      0.6977,      0.6987,      0.6997,      0.7007,      0.7017,      0.7027,      0.7037,      0.7047,     0.70571,     0.70671,     0.70771,     0.70871,     0.70971,     0.71071,     0.71171,     0.71271,     0.71371,     0.71471,     0.71572,     0.71672,     0.71772,     0.71872,     0.71972,\n",
              "           0.72072,     0.72172,     0.72272,     0.72372,     0.72472,     0.72573,     0.72673,     0.72773,     0.72873,     0.72973,     0.73073,     0.73173,     0.73273,     0.73373,     0.73473,     0.73574,     0.73674,     0.73774,     0.73874,     0.73974,     0.74074,     0.74174,     0.74274,     0.74374,\n",
              "           0.74474,     0.74575,     0.74675,     0.74775,     0.74875,     0.74975,     0.75075,     0.75175,     0.75275,     0.75375,     0.75475,     0.75576,     0.75676,     0.75776,     0.75876,     0.75976,     0.76076,     0.76176,     0.76276,     0.76376,     0.76476,     0.76577,     0.76677,     0.76777,\n",
              "           0.76877,     0.76977,     0.77077,     0.77177,     0.77277,     0.77377,     0.77477,     0.77578,     0.77678,     0.77778,     0.77878,     0.77978,     0.78078,     0.78178,     0.78278,     0.78378,     0.78478,     0.78579,     0.78679,     0.78779,     0.78879,     0.78979,     0.79079,     0.79179,\n",
              "           0.79279,     0.79379,     0.79479,      0.7958,      0.7968,      0.7978,      0.7988,      0.7998,      0.8008,      0.8018,      0.8028,      0.8038,      0.8048,     0.80581,     0.80681,     0.80781,     0.80881,     0.80981,     0.81081,     0.81181,     0.81281,     0.81381,     0.81481,     0.81582,\n",
              "           0.81682,     0.81782,     0.81882,     0.81982,     0.82082,     0.82182,     0.82282,     0.82382,     0.82482,     0.82583,     0.82683,     0.82783,     0.82883,     0.82983,     0.83083,     0.83183,     0.83283,     0.83383,     0.83483,     0.83584,     0.83684,     0.83784,     0.83884,     0.83984,\n",
              "           0.84084,     0.84184,     0.84284,     0.84384,     0.84484,     0.84585,     0.84685,     0.84785,     0.84885,     0.84985,     0.85085,     0.85185,     0.85285,     0.85385,     0.85485,     0.85586,     0.85686,     0.85786,     0.85886,     0.85986,     0.86086,     0.86186,     0.86286,     0.86386,\n",
              "           0.86486,     0.86587,     0.86687,     0.86787,     0.86887,     0.86987,     0.87087,     0.87187,     0.87287,     0.87387,     0.87487,     0.87588,     0.87688,     0.87788,     0.87888,     0.87988,     0.88088,     0.88188,     0.88288,     0.88388,     0.88488,     0.88589,     0.88689,     0.88789,\n",
              "           0.88889,     0.88989,     0.89089,     0.89189,     0.89289,     0.89389,     0.89489,      0.8959,      0.8969,      0.8979,      0.8989,      0.8999,      0.9009,      0.9019,      0.9029,      0.9039,      0.9049,     0.90591,     0.90691,     0.90791,     0.90891,     0.90991,     0.91091,     0.91191,\n",
              "           0.91291,     0.91391,     0.91491,     0.91592,     0.91692,     0.91792,     0.91892,     0.91992,     0.92092,     0.92192,     0.92292,     0.92392,     0.92492,     0.92593,     0.92693,     0.92793,     0.92893,     0.92993,     0.93093,     0.93193,     0.93293,     0.93393,     0.93493,     0.93594,\n",
              "           0.93694,     0.93794,     0.93894,     0.93994,     0.94094,     0.94194,     0.94294,     0.94394,     0.94494,     0.94595,     0.94695,     0.94795,     0.94895,     0.94995,     0.95095,     0.95195,     0.95295,     0.95395,     0.95495,     0.95596,     0.95696,     0.95796,     0.95896,     0.95996,\n",
              "           0.96096,     0.96196,     0.96296,     0.96396,     0.96496,     0.96597,     0.96697,     0.96797,     0.96897,     0.96997,     0.97097,     0.97197,     0.97297,     0.97397,     0.97497,     0.97598,     0.97698,     0.97798,     0.97898,     0.97998,     0.98098,     0.98198,     0.98298,     0.98398,\n",
              "           0.98498,     0.98599,     0.98699,     0.98799,     0.98899,     0.98999,     0.99099,     0.99199,     0.99299,     0.99399,     0.99499,       0.996,       0.997,       0.998,       0.999,           1]), array([[          1,           1,           1,           1,           1,           1,           1,           1,           1,           1,           1,           1,           1,           1,           1,           1,           1,           1,           1,           1,           1,           1,           1,\n",
              "                  1,           1,           1,           1,           1,           1,           1,           1,           1,           1,           1,           1,           1,           1,           1,           1,           1,           1,           1,           1,           1,           1,           1,\n",
              "                  1,           1,           1,           1,           1,           1,           1,           1,           1,           1,           1,           1,           1,           1,           1,           1,           1,           1,           1,           1,           1,           1,           1,\n",
              "                  1,           1,           1,           1,           1,           1,           1,           1,           1,           1,           1,           1,           1,           1,           1,           1,           1,           1,           1,           1,           1,           1,           1,\n",
              "                  1,           1,           1,           1,           1,           1,           1,           1,           1,           1,           1,           1,           1,           1,           1,           1,           1,           1,           1,           1,           1,           1,           1,\n",
              "                  1,           1,           1,           1,           1,           1,           1,           1,           1,           1,           1,           1,           1,           1,           1,           1,           1,           1,           1,           1,           1,           1,           1,\n",
              "                  1,           1,           1,           1,           1,           1,           1,           1,           1,           1,           1,           1,           1,           1,           1,           1,           1,           1,           1,           1,           1,           1,           1,\n",
              "                  1,           1,           1,           1,           1,           1,           1,           1,           1,           1,           1,           1,           1,           1,           1,           1,           1,           1,           1,           1,           1,           1,           1,\n",
              "                  1,           1,           1,           1,           1,           1,           1,           1,           1,           1,           1,           1,           1,           1,           1,           1,           1,           1,           1,           1,           1,           1,           1,\n",
              "                  1,           1,           1,           1,           1,           1,           1,           1,           1,           1,           1,           1,           1,           1,           1,           1,           1,           1,           1,           1,           1,           1,           1,\n",
              "                  1,           1,           1,           1,           1,           1,           1,           1,           1,           1,           1,           1,           1,           1,           1,           1,           1,           1,           1,           1,           1,           1,           1,\n",
              "                  1,           1,           1,           1,           1,           1,           1,           1,           1,           1,           1,           1,           1,           1,           1,           1,           1,           1,           1,           1,           1,           1,           1,\n",
              "                  1,           1,           1,           1,           1,           1,           1,           1,           1,           1,           1,           1,           1,           1,           1,           1,           1,           1,           1,           1,           1,           1,           1,\n",
              "                  1,           1,           1,           1,           1,           1,           1,           1,           1,           1,           1,           1,           1,           1,           1,           1,           1,           1,           1,           1,           1,           1,           1,\n",
              "                  1,           1,           1,           1,           1,           1,           1,           1,           1,           1,           1,           1,           1,           1,           1,           1,           1,           1,           1,           1,           1,           1,           1,\n",
              "                  1,           1,           1,           1,           1,           1,           1,           1,           1,           1,           1,           1,           1,           1,           1,           1,           1,           1,           1,           1,           1,           1,           1,\n",
              "                  1,           1,           1,           1,           1,           1,           1,           1,           1,           1,           1,           1,           1,           1,           1,           1,           1,           1,           1,           1,           1,           1,           1,\n",
              "                  1,           1,           1,           1,           1,           1,           1,           1,           1,           1,           1,           1,           1,           1,           1,           1,           1,           1,           1,           1,           1,           1,           1,\n",
              "                  1,           1,           1,           1,           1,           1,           1,           1,           1,           1,           1,           1,           1,           1,           1,           1,           1,           1,           1,           1,           1,           1,           1,\n",
              "                  1,           1,           1,           1,           1,           1,           1,           1,           1,           1,           1,           1,           1,           1,           1,           1,           1,           1,           1,           1,           1,           1,           1,\n",
              "                  1,           1,           1,           1,           1,           1,           1,           1,           1,           1,           1,           1,           1,           1,           1,           1,           1,           1,           1,           1,           1,           1,           1,\n",
              "                  1,           1,           1,           1,           1,           1,           1,           1,           1,           1,           1,           1,           1,           1,           1,           1,           1,           1,           1,           1,           1,           1,           1,\n",
              "                  1,           1,           1,           1,           1,           1,           1,           1,           1,           1,           1,           1,           1,           1,           1,           1,           1,           1,           1,           1,           1,           1,           1,\n",
              "                  1,           1,           1,           1,           1,           1,           1,           1,           1,           1,           1,           1,           1,           1,           1,           1,           1,           1,           1,           1,           1,           1,           1,\n",
              "                  1,           1,           1,           1,           1,           1,           1,           1,           1,           1,           1,           1,           1,           1,           1,           1,           1,           1,           1,           1,           1,           1,           1,\n",
              "                  1,           1,           1,           1,           1,           1,           1,           1,           1,           1,           1,           1,           1,           1,           1,           1,           1,           1,           1,           1,           1,           1,           1,\n",
              "                  1,           1,           1,           1,           1,           1,           1,           1,           1,           1,           1,           1,           1,           1,           1,           1,           1,           1,           1,           1,           1,           1,           1,\n",
              "                  1,           1,           1,           1,           1,           1,           1,           1,           1,           1,           1,           1,           1,           1,           1,           1,           1,           1,           1,           1,           1,           1,           1,\n",
              "                  1,           1,           1,           1,           1,           1,           1,           1,           1,           1,           1,           1,           1,           1,           1,           1,           1,           1,           1,           1,           1,           1,           1,\n",
              "                  1,           1,           1,           1,           1,           1,           1,           1,           1,           1,           1,           1,           1,           1,           1,           1,           1,           1,           1,           1,           1,           1,           1,\n",
              "                  1,           1,           1,           1,           1,           1,           1,           1,           1,           1,           1,           1,           1,           1,           1,           1,           1,           1,           1,           1,           1,           1,           1,\n",
              "                  1,           1,           1,           1,           1,           1,           1,           1,           1,           1,           1,           1,     0.97674,     0.97674,     0.97674,     0.97674,     0.97674,     0.97674,     0.97674,     0.97674,     0.97674,     0.97674,     0.97674,\n",
              "            0.97674,     0.97674,     0.97674,     0.97674,     0.97674,     0.97674,     0.97674,     0.97674,     0.97674,     0.97674,     0.97674,     0.97674,     0.97674,     0.97674,     0.97674,     0.97674,     0.97674,     0.97674,     0.97674,     0.97674,     0.97674,     0.97674,     0.97674,\n",
              "            0.97674,     0.97674,     0.97674,     0.97674,     0.97674,     0.97674,     0.97674,     0.97674,     0.97674,     0.97674,     0.97674,     0.97674,     0.97674,     0.97674,     0.97674,     0.97674,     0.97674,     0.97674,     0.97674,     0.97674,     0.97674,     0.97674,     0.97674,\n",
              "            0.97674,     0.97674,     0.97674,     0.97674,     0.97674,     0.97674,     0.97674,     0.97674,     0.97674,     0.97674,     0.97674,     0.97674,     0.97674,     0.97674,     0.97674,     0.97674,     0.97674,     0.97674,     0.97674,     0.97674,     0.97674,     0.97674,     0.97674,\n",
              "            0.97674,     0.97674,     0.97674,     0.97674,     0.97674,     0.97674,     0.97674,     0.97674,     0.97674,     0.97674,     0.97674,     0.97674,     0.97674,     0.97674,     0.97674,     0.97674,     0.97674,     0.97674,     0.95745,     0.95745,     0.95745,     0.95745,     0.95745,\n",
              "            0.95745,     0.95745,     0.95745,     0.95745,     0.95745,     0.95745,     0.95745,     0.95745,     0.95745,     0.95745,     0.95745,     0.95745,     0.95745,     0.95745,     0.95745,     0.95745,     0.95745,     0.95745,     0.95745,     0.95745,     0.95745,     0.95745,     0.95745,\n",
              "            0.95745,     0.95745,     0.95745,     0.95745,     0.95745,     0.95745,     0.95745,     0.95745,     0.95745,     0.95745,     0.95745,     0.95745,     0.95745,     0.95745,     0.95745,     0.95745,     0.95745,     0.95745,     0.95745,     0.95745,     0.95745,     0.95745,     0.95745,\n",
              "            0.95745,     0.95745,     0.95745,     0.95745,     0.95745,     0.95745,     0.95745,     0.95745,     0.93878,     0.93878,     0.93878,     0.93878,     0.93878,     0.93878,     0.93878,     0.93878,     0.93878,     0.93878,     0.93878,     0.93878,     0.93878,     0.93878,     0.93878,\n",
              "            0.93878,     0.93878,     0.93878,     0.93878,     0.93878,     0.88889,     0.88889,     0.88889,     0.88889,     0.88889,     0.88889,     0.88889,     0.88889,     0.88889,     0.88889,     0.88889,     0.88889,     0.88889,     0.88889,     0.88889,     0.88889,     0.88889,     0.88889,\n",
              "            0.88889,     0.88889,     0.88889,     0.88889,     0.88889,     0.88889,     0.88889,     0.88889,     0.88889,     0.88889,     0.88889,     0.88889,     0.88889,     0.88889,     0.88889,     0.88889,     0.88889,     0.88889,     0.88889,     0.88889,     0.88889,       0.875,       0.875,\n",
              "              0.875,       0.875,       0.875,       0.875,       0.875,       0.875,       0.875,       0.875,       0.875,       0.875,       0.875,       0.875,       0.875,       0.875,       0.875,       0.875,       0.875,     0.81967,     0.81967,     0.81967,     0.81967,     0.81967,     0.81967,\n",
              "            0.81967,     0.81967,     0.81967,     0.81967,     0.81967,     0.81967,     0.81967,     0.81967,     0.81967,     0.81967,     0.81967,     0.81967,     0.81967,     0.81967,    0.071932,    0.071932,    0.071932,    0.071932,    0.071932,    0.071932,    0.071932,    0.071932,    0.071932,\n",
              "           0.071932,    0.071932,    0.071932,    0.071932,    0.071932,    0.071932,    0.071932,    0.071932,    0.071932,    0.071932,           0]]), 'Recall', 'Precision'], [array([          0,    0.001001,    0.002002,    0.003003,    0.004004,    0.005005,    0.006006,    0.007007,    0.008008,    0.009009,     0.01001,    0.011011,    0.012012,    0.013013,    0.014014,    0.015015,    0.016016,    0.017017,    0.018018,    0.019019,     0.02002,    0.021021,    0.022022,    0.023023,\n",
              "          0.024024,    0.025025,    0.026026,    0.027027,    0.028028,    0.029029,     0.03003,    0.031031,    0.032032,    0.033033,    0.034034,    0.035035,    0.036036,    0.037037,    0.038038,    0.039039,     0.04004,    0.041041,    0.042042,    0.043043,    0.044044,    0.045045,    0.046046,    0.047047,\n",
              "          0.048048,    0.049049,     0.05005,    0.051051,    0.052052,    0.053053,    0.054054,    0.055055,    0.056056,    0.057057,    0.058058,    0.059059,     0.06006,    0.061061,    0.062062,    0.063063,    0.064064,    0.065065,    0.066066,    0.067067,    0.068068,    0.069069,     0.07007,    0.071071,\n",
              "          0.072072,    0.073073,    0.074074,    0.075075,    0.076076,    0.077077,    0.078078,    0.079079,     0.08008,    0.081081,    0.082082,    0.083083,    0.084084,    0.085085,    0.086086,    0.087087,    0.088088,    0.089089,     0.09009,    0.091091,    0.092092,    0.093093,    0.094094,    0.095095,\n",
              "          0.096096,    0.097097,    0.098098,    0.099099,      0.1001,      0.1011,      0.1021,      0.1031,      0.1041,     0.10511,     0.10611,     0.10711,     0.10811,     0.10911,     0.11011,     0.11111,     0.11211,     0.11311,     0.11411,     0.11512,     0.11612,     0.11712,     0.11812,     0.11912,\n",
              "           0.12012,     0.12112,     0.12212,     0.12312,     0.12412,     0.12513,     0.12613,     0.12713,     0.12813,     0.12913,     0.13013,     0.13113,     0.13213,     0.13313,     0.13413,     0.13514,     0.13614,     0.13714,     0.13814,     0.13914,     0.14014,     0.14114,     0.14214,     0.14314,\n",
              "           0.14414,     0.14515,     0.14615,     0.14715,     0.14815,     0.14915,     0.15015,     0.15115,     0.15215,     0.15315,     0.15415,     0.15516,     0.15616,     0.15716,     0.15816,     0.15916,     0.16016,     0.16116,     0.16216,     0.16316,     0.16416,     0.16517,     0.16617,     0.16717,\n",
              "           0.16817,     0.16917,     0.17017,     0.17117,     0.17217,     0.17317,     0.17417,     0.17518,     0.17618,     0.17718,     0.17818,     0.17918,     0.18018,     0.18118,     0.18218,     0.18318,     0.18418,     0.18519,     0.18619,     0.18719,     0.18819,     0.18919,     0.19019,     0.19119,\n",
              "           0.19219,     0.19319,     0.19419,      0.1952,      0.1962,      0.1972,      0.1982,      0.1992,      0.2002,      0.2012,      0.2022,      0.2032,      0.2042,     0.20521,     0.20621,     0.20721,     0.20821,     0.20921,     0.21021,     0.21121,     0.21221,     0.21321,     0.21421,     0.21522,\n",
              "           0.21622,     0.21722,     0.21822,     0.21922,     0.22022,     0.22122,     0.22222,     0.22322,     0.22422,     0.22523,     0.22623,     0.22723,     0.22823,     0.22923,     0.23023,     0.23123,     0.23223,     0.23323,     0.23423,     0.23524,     0.23624,     0.23724,     0.23824,     0.23924,\n",
              "           0.24024,     0.24124,     0.24224,     0.24324,     0.24424,     0.24525,     0.24625,     0.24725,     0.24825,     0.24925,     0.25025,     0.25125,     0.25225,     0.25325,     0.25425,     0.25526,     0.25626,     0.25726,     0.25826,     0.25926,     0.26026,     0.26126,     0.26226,     0.26326,\n",
              "           0.26426,     0.26527,     0.26627,     0.26727,     0.26827,     0.26927,     0.27027,     0.27127,     0.27227,     0.27327,     0.27427,     0.27528,     0.27628,     0.27728,     0.27828,     0.27928,     0.28028,     0.28128,     0.28228,     0.28328,     0.28428,     0.28529,     0.28629,     0.28729,\n",
              "           0.28829,     0.28929,     0.29029,     0.29129,     0.29229,     0.29329,     0.29429,      0.2953,      0.2963,      0.2973,      0.2983,      0.2993,      0.3003,      0.3013,      0.3023,      0.3033,      0.3043,     0.30531,     0.30631,     0.30731,     0.30831,     0.30931,     0.31031,     0.31131,\n",
              "           0.31231,     0.31331,     0.31431,     0.31532,     0.31632,     0.31732,     0.31832,     0.31932,     0.32032,     0.32132,     0.32232,     0.32332,     0.32432,     0.32533,     0.32633,     0.32733,     0.32833,     0.32933,     0.33033,     0.33133,     0.33233,     0.33333,     0.33433,     0.33534,\n",
              "           0.33634,     0.33734,     0.33834,     0.33934,     0.34034,     0.34134,     0.34234,     0.34334,     0.34434,     0.34535,     0.34635,     0.34735,     0.34835,     0.34935,     0.35035,     0.35135,     0.35235,     0.35335,     0.35435,     0.35536,     0.35636,     0.35736,     0.35836,     0.35936,\n",
              "           0.36036,     0.36136,     0.36236,     0.36336,     0.36436,     0.36537,     0.36637,     0.36737,     0.36837,     0.36937,     0.37037,     0.37137,     0.37237,     0.37337,     0.37437,     0.37538,     0.37638,     0.37738,     0.37838,     0.37938,     0.38038,     0.38138,     0.38238,     0.38338,\n",
              "           0.38438,     0.38539,     0.38639,     0.38739,     0.38839,     0.38939,     0.39039,     0.39139,     0.39239,     0.39339,     0.39439,      0.3954,      0.3964,      0.3974,      0.3984,      0.3994,      0.4004,      0.4014,      0.4024,      0.4034,      0.4044,     0.40541,     0.40641,     0.40741,\n",
              "           0.40841,     0.40941,     0.41041,     0.41141,     0.41241,     0.41341,     0.41441,     0.41542,     0.41642,     0.41742,     0.41842,     0.41942,     0.42042,     0.42142,     0.42242,     0.42342,     0.42442,     0.42543,     0.42643,     0.42743,     0.42843,     0.42943,     0.43043,     0.43143,\n",
              "           0.43243,     0.43343,     0.43443,     0.43544,     0.43644,     0.43744,     0.43844,     0.43944,     0.44044,     0.44144,     0.44244,     0.44344,     0.44444,     0.44545,     0.44645,     0.44745,     0.44845,     0.44945,     0.45045,     0.45145,     0.45245,     0.45345,     0.45445,     0.45546,\n",
              "           0.45646,     0.45746,     0.45846,     0.45946,     0.46046,     0.46146,     0.46246,     0.46346,     0.46446,     0.46547,     0.46647,     0.46747,     0.46847,     0.46947,     0.47047,     0.47147,     0.47247,     0.47347,     0.47447,     0.47548,     0.47648,     0.47748,     0.47848,     0.47948,\n",
              "           0.48048,     0.48148,     0.48248,     0.48348,     0.48448,     0.48549,     0.48649,     0.48749,     0.48849,     0.48949,     0.49049,     0.49149,     0.49249,     0.49349,     0.49449,      0.4955,      0.4965,      0.4975,      0.4985,      0.4995,      0.5005,      0.5015,      0.5025,      0.5035,\n",
              "            0.5045,     0.50551,     0.50651,     0.50751,     0.50851,     0.50951,     0.51051,     0.51151,     0.51251,     0.51351,     0.51451,     0.51552,     0.51652,     0.51752,     0.51852,     0.51952,     0.52052,     0.52152,     0.52252,     0.52352,     0.52452,     0.52553,     0.52653,     0.52753,\n",
              "           0.52853,     0.52953,     0.53053,     0.53153,     0.53253,     0.53353,     0.53453,     0.53554,     0.53654,     0.53754,     0.53854,     0.53954,     0.54054,     0.54154,     0.54254,     0.54354,     0.54454,     0.54555,     0.54655,     0.54755,     0.54855,     0.54955,     0.55055,     0.55155,\n",
              "           0.55255,     0.55355,     0.55455,     0.55556,     0.55656,     0.55756,     0.55856,     0.55956,     0.56056,     0.56156,     0.56256,     0.56356,     0.56456,     0.56557,     0.56657,     0.56757,     0.56857,     0.56957,     0.57057,     0.57157,     0.57257,     0.57357,     0.57457,     0.57558,\n",
              "           0.57658,     0.57758,     0.57858,     0.57958,     0.58058,     0.58158,     0.58258,     0.58358,     0.58458,     0.58559,     0.58659,     0.58759,     0.58859,     0.58959,     0.59059,     0.59159,     0.59259,     0.59359,     0.59459,      0.5956,      0.5966,      0.5976,      0.5986,      0.5996,\n",
              "            0.6006,      0.6016,      0.6026,      0.6036,      0.6046,     0.60561,     0.60661,     0.60761,     0.60861,     0.60961,     0.61061,     0.61161,     0.61261,     0.61361,     0.61461,     0.61562,     0.61662,     0.61762,     0.61862,     0.61962,     0.62062,     0.62162,     0.62262,     0.62362,\n",
              "           0.62462,     0.62563,     0.62663,     0.62763,     0.62863,     0.62963,     0.63063,     0.63163,     0.63263,     0.63363,     0.63463,     0.63564,     0.63664,     0.63764,     0.63864,     0.63964,     0.64064,     0.64164,     0.64264,     0.64364,     0.64464,     0.64565,     0.64665,     0.64765,\n",
              "           0.64865,     0.64965,     0.65065,     0.65165,     0.65265,     0.65365,     0.65465,     0.65566,     0.65666,     0.65766,     0.65866,     0.65966,     0.66066,     0.66166,     0.66266,     0.66366,     0.66466,     0.66567,     0.66667,     0.66767,     0.66867,     0.66967,     0.67067,     0.67167,\n",
              "           0.67267,     0.67367,     0.67467,     0.67568,     0.67668,     0.67768,     0.67868,     0.67968,     0.68068,     0.68168,     0.68268,     0.68368,     0.68468,     0.68569,     0.68669,     0.68769,     0.68869,     0.68969,     0.69069,     0.69169,     0.69269,     0.69369,     0.69469,      0.6957,\n",
              "            0.6967,      0.6977,      0.6987,      0.6997,      0.7007,      0.7017,      0.7027,      0.7037,      0.7047,     0.70571,     0.70671,     0.70771,     0.70871,     0.70971,     0.71071,     0.71171,     0.71271,     0.71371,     0.71471,     0.71572,     0.71672,     0.71772,     0.71872,     0.71972,\n",
              "           0.72072,     0.72172,     0.72272,     0.72372,     0.72472,     0.72573,     0.72673,     0.72773,     0.72873,     0.72973,     0.73073,     0.73173,     0.73273,     0.73373,     0.73473,     0.73574,     0.73674,     0.73774,     0.73874,     0.73974,     0.74074,     0.74174,     0.74274,     0.74374,\n",
              "           0.74474,     0.74575,     0.74675,     0.74775,     0.74875,     0.74975,     0.75075,     0.75175,     0.75275,     0.75375,     0.75475,     0.75576,     0.75676,     0.75776,     0.75876,     0.75976,     0.76076,     0.76176,     0.76276,     0.76376,     0.76476,     0.76577,     0.76677,     0.76777,\n",
              "           0.76877,     0.76977,     0.77077,     0.77177,     0.77277,     0.77377,     0.77477,     0.77578,     0.77678,     0.77778,     0.77878,     0.77978,     0.78078,     0.78178,     0.78278,     0.78378,     0.78478,     0.78579,     0.78679,     0.78779,     0.78879,     0.78979,     0.79079,     0.79179,\n",
              "           0.79279,     0.79379,     0.79479,      0.7958,      0.7968,      0.7978,      0.7988,      0.7998,      0.8008,      0.8018,      0.8028,      0.8038,      0.8048,     0.80581,     0.80681,     0.80781,     0.80881,     0.80981,     0.81081,     0.81181,     0.81281,     0.81381,     0.81481,     0.81582,\n",
              "           0.81682,     0.81782,     0.81882,     0.81982,     0.82082,     0.82182,     0.82282,     0.82382,     0.82482,     0.82583,     0.82683,     0.82783,     0.82883,     0.82983,     0.83083,     0.83183,     0.83283,     0.83383,     0.83483,     0.83584,     0.83684,     0.83784,     0.83884,     0.83984,\n",
              "           0.84084,     0.84184,     0.84284,     0.84384,     0.84484,     0.84585,     0.84685,     0.84785,     0.84885,     0.84985,     0.85085,     0.85185,     0.85285,     0.85385,     0.85485,     0.85586,     0.85686,     0.85786,     0.85886,     0.85986,     0.86086,     0.86186,     0.86286,     0.86386,\n",
              "           0.86486,     0.86587,     0.86687,     0.86787,     0.86887,     0.86987,     0.87087,     0.87187,     0.87287,     0.87387,     0.87487,     0.87588,     0.87688,     0.87788,     0.87888,     0.87988,     0.88088,     0.88188,     0.88288,     0.88388,     0.88488,     0.88589,     0.88689,     0.88789,\n",
              "           0.88889,     0.88989,     0.89089,     0.89189,     0.89289,     0.89389,     0.89489,      0.8959,      0.8969,      0.8979,      0.8989,      0.8999,      0.9009,      0.9019,      0.9029,      0.9039,      0.9049,     0.90591,     0.90691,     0.90791,     0.90891,     0.90991,     0.91091,     0.91191,\n",
              "           0.91291,     0.91391,     0.91491,     0.91592,     0.91692,     0.91792,     0.91892,     0.91992,     0.92092,     0.92192,     0.92292,     0.92392,     0.92492,     0.92593,     0.92693,     0.92793,     0.92893,     0.92993,     0.93093,     0.93193,     0.93293,     0.93393,     0.93493,     0.93594,\n",
              "           0.93694,     0.93794,     0.93894,     0.93994,     0.94094,     0.94194,     0.94294,     0.94394,     0.94494,     0.94595,     0.94695,     0.94795,     0.94895,     0.94995,     0.95095,     0.95195,     0.95295,     0.95395,     0.95495,     0.95596,     0.95696,     0.95796,     0.95896,     0.95996,\n",
              "           0.96096,     0.96196,     0.96296,     0.96396,     0.96496,     0.96597,     0.96697,     0.96797,     0.96897,     0.96997,     0.97097,     0.97197,     0.97297,     0.97397,     0.97497,     0.97598,     0.97698,     0.97798,     0.97898,     0.97998,     0.98098,     0.98198,     0.98298,     0.98398,\n",
              "           0.98498,     0.98599,     0.98699,     0.98799,     0.98899,     0.98999,     0.99099,     0.99199,     0.99299,     0.99399,     0.99499,       0.996,       0.997,       0.998,       0.999,           1]), array([[  0.0087509,   0.0087556,     0.01198,    0.030616,    0.088288,     0.13773,     0.16944,     0.20006,     0.22881,     0.25471,      0.2774,     0.29421,     0.31292,     0.33915,     0.35357,     0.36678,     0.37669,     0.39073,      0.4036,     0.42362,     0.43818,      0.4475,     0.45942,\n",
              "            0.46938,     0.47965,     0.48614,      0.4951,     0.49718,     0.49941,     0.50851,     0.51202,     0.53046,     0.53573,     0.53816,     0.53906,     0.53996,     0.54437,     0.55107,     0.55568,     0.56379,     0.56926,     0.57352,      0.5818,     0.58422,     0.58632,     0.58936,\n",
              "            0.60341,     0.61362,     0.61491,      0.6162,     0.61783,     0.62133,     0.62419,     0.63369,     0.63871,     0.64094,     0.65096,     0.65898,     0.66208,     0.66402,     0.66589,     0.66768,     0.66941,     0.67113,     0.67828,     0.68212,     0.68605,      0.6889,     0.69472,\n",
              "            0.69731,     0.69976,     0.70177,     0.70377,     0.70981,     0.71201,     0.71421,     0.71928,     0.72127,     0.72317,     0.72622,     0.73088,     0.73291,     0.73494,     0.73842,      0.7416,     0.74383,     0.74606,     0.75079,      0.7577,     0.75907,     0.76044,      0.7618,\n",
              "            0.76316,     0.76361,      0.7639,     0.76419,     0.76448,     0.76477,     0.76506,     0.76535,     0.76564,     0.76593,     0.76622,     0.76651,      0.7668,     0.76709,     0.76738,     0.76767,     0.76796,     0.76825,     0.76854,     0.76883,     0.76912,     0.77349,     0.77691,\n",
              "            0.77916,     0.78131,     0.78212,     0.78293,     0.78374,     0.78455,     0.78536,     0.78616,     0.78697,     0.78918,     0.79302,     0.79378,     0.79393,     0.79409,     0.79424,     0.79439,     0.79455,      0.7947,     0.79486,     0.79501,     0.79516,     0.79532,     0.79547,\n",
              "            0.79562,     0.79578,     0.79593,     0.79608,     0.79624,     0.79639,     0.79654,      0.7967,     0.79685,       0.797,     0.79716,     0.79731,     0.79746,     0.79761,     0.79777,     0.79792,     0.79807,     0.79823,     0.79838,     0.79853,     0.79868,     0.79884,     0.79899,\n",
              "            0.79914,     0.79929,     0.79945,      0.7996,     0.79975,      0.7999,     0.80032,      0.8012,     0.80208,     0.80296,     0.80383,     0.80471,     0.80558,     0.80646,     0.81016,     0.81459,     0.81987,     0.82058,      0.8213,     0.82201,     0.82273,     0.82344,     0.82415,\n",
              "            0.82487,     0.82558,     0.82629,     0.83175,     0.83356,     0.83385,     0.83414,     0.83444,     0.83473,     0.83502,     0.83531,      0.8356,      0.8359,     0.83619,     0.83648,     0.83677,     0.83706,     0.83735,     0.83764,     0.83793,     0.83822,     0.83852,     0.83881,\n",
              "             0.8391,     0.83939,     0.83968,     0.83996,     0.84025,     0.84757,     0.84787,     0.84816,     0.84846,     0.84875,     0.84905,     0.84934,     0.84964,     0.84993,     0.85023,     0.85052,     0.85081,     0.85111,      0.8514,     0.85169,     0.85199,     0.85228,     0.85257,\n",
              "            0.85287,     0.85316,     0.85345,     0.85374,     0.85404,     0.85433,     0.85462,     0.85678,     0.85967,     0.86233,     0.86395,     0.86556,     0.86716,     0.86876,     0.86974,     0.87009,     0.87043,     0.87078,     0.87113,     0.87148,     0.87182,     0.87217,     0.87252,\n",
              "            0.87287,     0.87321,     0.87356,      0.8739,     0.87425,     0.87459,     0.87494,     0.87528,     0.87563,     0.87597,     0.87632,     0.87666,     0.87701,     0.87728,     0.87746,     0.87764,     0.87782,       0.878,     0.87818,     0.87836,     0.87855,     0.87873,     0.87891,\n",
              "            0.87909,     0.87927,     0.87945,     0.87963,     0.87981,     0.87999,     0.88017,     0.88035,     0.88053,     0.88071,      0.8809,     0.88108,     0.88126,     0.88144,     0.88162,      0.8818,     0.88198,     0.88216,     0.88234,     0.88252,      0.8827,     0.88288,     0.88305,\n",
              "            0.88323,     0.88341,     0.88359,     0.88377,     0.88395,     0.88413,     0.88431,     0.88449,     0.88467,     0.88485,      0.8851,     0.88546,     0.88581,     0.88617,     0.88653,     0.88689,     0.88724,      0.8876,     0.88796,     0.88831,     0.88867,     0.88902,     0.88938,\n",
              "            0.88973,     0.89009,     0.89044,      0.8908,     0.89115,     0.89151,     0.89186,     0.89221,     0.89257,     0.89255,     0.89077,     0.88899,      0.8872,     0.88541,     0.88362,     0.88291,     0.88297,     0.88302,     0.88308,     0.88313,     0.88319,     0.88324,     0.88329,\n",
              "            0.88335,      0.8834,     0.88346,     0.88351,     0.88357,     0.88362,     0.88367,     0.88373,     0.88378,     0.88384,     0.88389,     0.88394,       0.884,     0.88405,     0.88411,     0.88416,     0.88421,     0.88427,     0.88432,     0.88438,     0.88443,     0.88448,     0.88454,\n",
              "            0.88459,     0.88465,      0.8847,     0.88476,     0.88481,     0.88486,     0.88492,     0.88497,     0.88503,     0.88508,     0.88513,     0.88519,     0.88524,     0.88529,     0.88535,      0.8854,     0.88546,     0.88551,     0.88556,     0.88562,     0.88567,     0.88573,     0.88578,\n",
              "            0.88583,     0.88589,     0.88594,       0.886,     0.88605,      0.8861,     0.88616,     0.88621,     0.88627,     0.88632,     0.88637,     0.88643,     0.88648,     0.88653,     0.88659,     0.88664,      0.8867,     0.88675,      0.8868,     0.88686,     0.88691,     0.88697,     0.88702,\n",
              "            0.88707,     0.88713,     0.88718,     0.88723,     0.88729,     0.88734,      0.8874,     0.88745,      0.8875,     0.88756,     0.88761,     0.88766,     0.88772,     0.88777,     0.88783,     0.88788,     0.88793,     0.88799,     0.88804,     0.88809,     0.88815,      0.8882,     0.88825,\n",
              "            0.88831,     0.88836,     0.88842,     0.88847,     0.88852,     0.88858,     0.88863,     0.88868,     0.88874,     0.88879,     0.88884,      0.8889,     0.88895,     0.88901,     0.88906,     0.88911,     0.88917,     0.88922,     0.88927,     0.88933,     0.88938,     0.88943,     0.88949,\n",
              "            0.88954,     0.88959,     0.88965,      0.8897,     0.88975,     0.88981,     0.88986,     0.88992,     0.88997,     0.89002,     0.89008,     0.89013,     0.89018,     0.89024,     0.89029,     0.89034,      0.8904,     0.89045,      0.8905,     0.89056,     0.89061,     0.89066,     0.89072,\n",
              "            0.89077,     0.89082,     0.89088,     0.89104,     0.89138,     0.89171,     0.89205,     0.89238,     0.89271,     0.89305,     0.89338,     0.89371,     0.89405,     0.89438,     0.89471,     0.89504,     0.89538,     0.89571,     0.89604,     0.89637,      0.8967,     0.89703,     0.89736,\n",
              "            0.89769,     0.89802,     0.89835,     0.89868,     0.89901,     0.89994,     0.90104,     0.90214,     0.90323,     0.90432,     0.90541,     0.90649,     0.90766,     0.90933,       0.911,     0.91266,     0.91431,     0.91585,     0.91491,     0.91398,     0.91304,     0.91211,     0.91117,\n",
              "            0.91023,     0.90929,     0.90835,      0.9074,     0.90646,     0.90599,     0.90814,     0.91028,     0.91242,     0.91353,     0.90712,     0.90309,     0.90156,     0.90002,     0.89848,     0.89694,      0.8954,     0.89385,     0.89381,     0.89483,     0.89586,     0.89688,      0.8979,\n",
              "            0.89892,     0.89994,     0.90095,     0.90196,     0.90245,     0.90293,     0.90342,      0.9039,     0.90439,     0.90487,     0.90536,     0.90584,     0.90632,      0.9068,     0.90728,     0.90776,     0.90824,     0.90872,      0.9092,     0.90968,     0.91016,     0.91064,     0.91168,\n",
              "            0.91334,       0.915,     0.91665,     0.91829,     0.91993,      0.9198,     0.91959,     0.91939,     0.91918,     0.91897,     0.91876,     0.91855,     0.91835,     0.91814,     0.91793,     0.91772,     0.91751,     0.91731,      0.9171,     0.91689,     0.91668,     0.91647,     0.91626,\n",
              "            0.91605,     0.91585,     0.91564,     0.91543,     0.91522,     0.91501,      0.9148,     0.91459,     0.91438,     0.91417,     0.91396,     0.91375,     0.91354,     0.91333,     0.91312,     0.91291,     0.91271,      0.9125,     0.91229,     0.91208,     0.91186,     0.91165,     0.91144,\n",
              "            0.91123,     0.91102,     0.91081,      0.9106,     0.91039,     0.91018,     0.90997,     0.90976,     0.90955,     0.90934,     0.90913,     0.91605,     0.91809,      0.9177,     0.91731,     0.91691,     0.91652,     0.91613,     0.91574,     0.91535,     0.91496,     0.91456,     0.91417,\n",
              "            0.91378,     0.91338,     0.91299,      0.9126,      0.9122,     0.91181,     0.91141,     0.91102,     0.91062,     0.91023,     0.90983,     0.90944,     0.90904,     0.90864,     0.90825,     0.90785,     0.90745,     0.90627,     0.90391,     0.90153,     0.89915,     0.89677,      0.8953,\n",
              "            0.89443,     0.89355,     0.89268,      0.8918,     0.89092,     0.89004,     0.88916,     0.88827,     0.88739,     0.88651,     0.88562,     0.88473,     0.88427,     0.88442,     0.88456,     0.88471,     0.88486,       0.885,     0.88515,      0.8853,     0.88544,     0.88559,     0.88573,\n",
              "            0.88588,     0.88603,     0.88617,     0.88632,     0.88646,     0.88661,     0.88675,      0.8869,     0.88705,     0.88719,     0.88734,     0.88748,     0.88763,     0.88777,     0.88792,     0.88806,     0.88821,     0.88835,      0.8885,     0.88864,     0.88879,     0.88893,     0.88908,\n",
              "            0.88922,     0.88937,     0.88951,     0.88965,      0.8898,     0.88994,     0.89009,     0.89023,     0.89038,     0.89052,     0.89066,     0.89081,     0.89095,      0.8911,     0.89124,     0.89138,     0.89153,     0.89167,     0.89182,     0.89196,      0.8921,     0.89225,     0.89239,\n",
              "            0.89253,     0.89268,     0.89282,     0.89296,     0.89311,     0.89325,     0.89339,     0.89354,     0.89269,     0.89053,     0.88836,     0.88618,       0.884,      0.8818,     0.88078,     0.87981,     0.87883,     0.87785,     0.87687,     0.87589,      0.8749,     0.87392,     0.87293,\n",
              "            0.87194,     0.87095,     0.86996,     0.86785,     0.86502,     0.86217,     0.85931,     0.85679,     0.85535,     0.85391,     0.85247,     0.85102,     0.84957,     0.84812,     0.84666,      0.8452,     0.84358,     0.84177,     0.83996,     0.83815,     0.83633,      0.8345,     0.83267,\n",
              "            0.83175,     0.83261,     0.83347,     0.83433,     0.83518,     0.83603,     0.83688,     0.83773,     0.83857,     0.83941,     0.84025,     0.83995,     0.83536,     0.83074,     0.82725,     0.82618,     0.82512,     0.82405,     0.82299,     0.82192,     0.82085,     0.81977,      0.8187,\n",
              "            0.81762,     0.81654,     0.81546,     0.81437,     0.80977,     0.80287,     0.79912,     0.79761,      0.7961,     0.79458,     0.79307,     0.79154,     0.79002,     0.78849,     0.78696,     0.78525,     0.78282,     0.78037,     0.77792,     0.77546,     0.77298,     0.76396,     0.75576,\n",
              "             0.7553,     0.75485,     0.75439,     0.75393,     0.75347,     0.75301,     0.75256,      0.7521,     0.75164,     0.75118,     0.75072,     0.75026,      0.7498,     0.74934,     0.74888,     0.74841,     0.74795,     0.74749,     0.74703,     0.74657,      0.7461,     0.74564,     0.74517,\n",
              "            0.74471,     0.74425,     0.74378,     0.74332,     0.74285,     0.74238,     0.74192,     0.74145,     0.74098,     0.72451,     0.72215,     0.71978,     0.71741,     0.71503,     0.71263,     0.71023,     0.69222,     0.69081,     0.68939,     0.68798,     0.68655,     0.68513,      0.6837,\n",
              "            0.68227,     0.68084,      0.6794,     0.67796,     0.67652,     0.67441,     0.66913,     0.66382,     0.65846,     0.65547,     0.65275,     0.65002,     0.64728,     0.64452,     0.64176,     0.63418,     0.61877,      0.6057,     0.60144,     0.59977,     0.59809,     0.59641,     0.59473,\n",
              "            0.59304,     0.59134,     0.58964,     0.58794,     0.58624,     0.58453,     0.57918,     0.56536,      0.5348,     0.51989,     0.51434,     0.50875,     0.50312,     0.47525,     0.46966,     0.46402,     0.45834,     0.44399,     0.42946,     0.42723,     0.42499,     0.42274,     0.42049,\n",
              "            0.41823,     0.41597,      0.4137,     0.41142,     0.40913,     0.40684,      0.3774,     0.36642,     0.35529,     0.35113,     0.34726,     0.34336,     0.33944,     0.33551,     0.33156,     0.32665,     0.30937,     0.28784,     0.26933,     0.26432,     0.25927,      0.2542,     0.24909,\n",
              "            0.24396,     0.23578,     0.22447,     0.21301,     0.20287,     0.19303,     0.18308,     0.17428,     0.16643,     0.15851,     0.15053,     0.14249,     0.13442,     0.12627,     0.11806,    0.087919,    0.059918,    0.042629,           0,           0,           0,           0,           0,\n",
              "                  0,           0,           0,           0,           0,           0,           0,           0,           0,           0,           0,           0,           0,           0,           0,           0,           0,           0,           0,           0,           0,           0,           0,\n",
              "                  0,           0,           0,           0,           0,           0,           0,           0,           0,           0,           0]]), 'Confidence', 'F1'], [array([          0,    0.001001,    0.002002,    0.003003,    0.004004,    0.005005,    0.006006,    0.007007,    0.008008,    0.009009,     0.01001,    0.011011,    0.012012,    0.013013,    0.014014,    0.015015,    0.016016,    0.017017,    0.018018,    0.019019,     0.02002,    0.021021,    0.022022,    0.023023,\n",
              "          0.024024,    0.025025,    0.026026,    0.027027,    0.028028,    0.029029,     0.03003,    0.031031,    0.032032,    0.033033,    0.034034,    0.035035,    0.036036,    0.037037,    0.038038,    0.039039,     0.04004,    0.041041,    0.042042,    0.043043,    0.044044,    0.045045,    0.046046,    0.047047,\n",
              "          0.048048,    0.049049,     0.05005,    0.051051,    0.052052,    0.053053,    0.054054,    0.055055,    0.056056,    0.057057,    0.058058,    0.059059,     0.06006,    0.061061,    0.062062,    0.063063,    0.064064,    0.065065,    0.066066,    0.067067,    0.068068,    0.069069,     0.07007,    0.071071,\n",
              "          0.072072,    0.073073,    0.074074,    0.075075,    0.076076,    0.077077,    0.078078,    0.079079,     0.08008,    0.081081,    0.082082,    0.083083,    0.084084,    0.085085,    0.086086,    0.087087,    0.088088,    0.089089,     0.09009,    0.091091,    0.092092,    0.093093,    0.094094,    0.095095,\n",
              "          0.096096,    0.097097,    0.098098,    0.099099,      0.1001,      0.1011,      0.1021,      0.1031,      0.1041,     0.10511,     0.10611,     0.10711,     0.10811,     0.10911,     0.11011,     0.11111,     0.11211,     0.11311,     0.11411,     0.11512,     0.11612,     0.11712,     0.11812,     0.11912,\n",
              "           0.12012,     0.12112,     0.12212,     0.12312,     0.12412,     0.12513,     0.12613,     0.12713,     0.12813,     0.12913,     0.13013,     0.13113,     0.13213,     0.13313,     0.13413,     0.13514,     0.13614,     0.13714,     0.13814,     0.13914,     0.14014,     0.14114,     0.14214,     0.14314,\n",
              "           0.14414,     0.14515,     0.14615,     0.14715,     0.14815,     0.14915,     0.15015,     0.15115,     0.15215,     0.15315,     0.15415,     0.15516,     0.15616,     0.15716,     0.15816,     0.15916,     0.16016,     0.16116,     0.16216,     0.16316,     0.16416,     0.16517,     0.16617,     0.16717,\n",
              "           0.16817,     0.16917,     0.17017,     0.17117,     0.17217,     0.17317,     0.17417,     0.17518,     0.17618,     0.17718,     0.17818,     0.17918,     0.18018,     0.18118,     0.18218,     0.18318,     0.18418,     0.18519,     0.18619,     0.18719,     0.18819,     0.18919,     0.19019,     0.19119,\n",
              "           0.19219,     0.19319,     0.19419,      0.1952,      0.1962,      0.1972,      0.1982,      0.1992,      0.2002,      0.2012,      0.2022,      0.2032,      0.2042,     0.20521,     0.20621,     0.20721,     0.20821,     0.20921,     0.21021,     0.21121,     0.21221,     0.21321,     0.21421,     0.21522,\n",
              "           0.21622,     0.21722,     0.21822,     0.21922,     0.22022,     0.22122,     0.22222,     0.22322,     0.22422,     0.22523,     0.22623,     0.22723,     0.22823,     0.22923,     0.23023,     0.23123,     0.23223,     0.23323,     0.23423,     0.23524,     0.23624,     0.23724,     0.23824,     0.23924,\n",
              "           0.24024,     0.24124,     0.24224,     0.24324,     0.24424,     0.24525,     0.24625,     0.24725,     0.24825,     0.24925,     0.25025,     0.25125,     0.25225,     0.25325,     0.25425,     0.25526,     0.25626,     0.25726,     0.25826,     0.25926,     0.26026,     0.26126,     0.26226,     0.26326,\n",
              "           0.26426,     0.26527,     0.26627,     0.26727,     0.26827,     0.26927,     0.27027,     0.27127,     0.27227,     0.27327,     0.27427,     0.27528,     0.27628,     0.27728,     0.27828,     0.27928,     0.28028,     0.28128,     0.28228,     0.28328,     0.28428,     0.28529,     0.28629,     0.28729,\n",
              "           0.28829,     0.28929,     0.29029,     0.29129,     0.29229,     0.29329,     0.29429,      0.2953,      0.2963,      0.2973,      0.2983,      0.2993,      0.3003,      0.3013,      0.3023,      0.3033,      0.3043,     0.30531,     0.30631,     0.30731,     0.30831,     0.30931,     0.31031,     0.31131,\n",
              "           0.31231,     0.31331,     0.31431,     0.31532,     0.31632,     0.31732,     0.31832,     0.31932,     0.32032,     0.32132,     0.32232,     0.32332,     0.32432,     0.32533,     0.32633,     0.32733,     0.32833,     0.32933,     0.33033,     0.33133,     0.33233,     0.33333,     0.33433,     0.33534,\n",
              "           0.33634,     0.33734,     0.33834,     0.33934,     0.34034,     0.34134,     0.34234,     0.34334,     0.34434,     0.34535,     0.34635,     0.34735,     0.34835,     0.34935,     0.35035,     0.35135,     0.35235,     0.35335,     0.35435,     0.35536,     0.35636,     0.35736,     0.35836,     0.35936,\n",
              "           0.36036,     0.36136,     0.36236,     0.36336,     0.36436,     0.36537,     0.36637,     0.36737,     0.36837,     0.36937,     0.37037,     0.37137,     0.37237,     0.37337,     0.37437,     0.37538,     0.37638,     0.37738,     0.37838,     0.37938,     0.38038,     0.38138,     0.38238,     0.38338,\n",
              "           0.38438,     0.38539,     0.38639,     0.38739,     0.38839,     0.38939,     0.39039,     0.39139,     0.39239,     0.39339,     0.39439,      0.3954,      0.3964,      0.3974,      0.3984,      0.3994,      0.4004,      0.4014,      0.4024,      0.4034,      0.4044,     0.40541,     0.40641,     0.40741,\n",
              "           0.40841,     0.40941,     0.41041,     0.41141,     0.41241,     0.41341,     0.41441,     0.41542,     0.41642,     0.41742,     0.41842,     0.41942,     0.42042,     0.42142,     0.42242,     0.42342,     0.42442,     0.42543,     0.42643,     0.42743,     0.42843,     0.42943,     0.43043,     0.43143,\n",
              "           0.43243,     0.43343,     0.43443,     0.43544,     0.43644,     0.43744,     0.43844,     0.43944,     0.44044,     0.44144,     0.44244,     0.44344,     0.44444,     0.44545,     0.44645,     0.44745,     0.44845,     0.44945,     0.45045,     0.45145,     0.45245,     0.45345,     0.45445,     0.45546,\n",
              "           0.45646,     0.45746,     0.45846,     0.45946,     0.46046,     0.46146,     0.46246,     0.46346,     0.46446,     0.46547,     0.46647,     0.46747,     0.46847,     0.46947,     0.47047,     0.47147,     0.47247,     0.47347,     0.47447,     0.47548,     0.47648,     0.47748,     0.47848,     0.47948,\n",
              "           0.48048,     0.48148,     0.48248,     0.48348,     0.48448,     0.48549,     0.48649,     0.48749,     0.48849,     0.48949,     0.49049,     0.49149,     0.49249,     0.49349,     0.49449,      0.4955,      0.4965,      0.4975,      0.4985,      0.4995,      0.5005,      0.5015,      0.5025,      0.5035,\n",
              "            0.5045,     0.50551,     0.50651,     0.50751,     0.50851,     0.50951,     0.51051,     0.51151,     0.51251,     0.51351,     0.51451,     0.51552,     0.51652,     0.51752,     0.51852,     0.51952,     0.52052,     0.52152,     0.52252,     0.52352,     0.52452,     0.52553,     0.52653,     0.52753,\n",
              "           0.52853,     0.52953,     0.53053,     0.53153,     0.53253,     0.53353,     0.53453,     0.53554,     0.53654,     0.53754,     0.53854,     0.53954,     0.54054,     0.54154,     0.54254,     0.54354,     0.54454,     0.54555,     0.54655,     0.54755,     0.54855,     0.54955,     0.55055,     0.55155,\n",
              "           0.55255,     0.55355,     0.55455,     0.55556,     0.55656,     0.55756,     0.55856,     0.55956,     0.56056,     0.56156,     0.56256,     0.56356,     0.56456,     0.56557,     0.56657,     0.56757,     0.56857,     0.56957,     0.57057,     0.57157,     0.57257,     0.57357,     0.57457,     0.57558,\n",
              "           0.57658,     0.57758,     0.57858,     0.57958,     0.58058,     0.58158,     0.58258,     0.58358,     0.58458,     0.58559,     0.58659,     0.58759,     0.58859,     0.58959,     0.59059,     0.59159,     0.59259,     0.59359,     0.59459,      0.5956,      0.5966,      0.5976,      0.5986,      0.5996,\n",
              "            0.6006,      0.6016,      0.6026,      0.6036,      0.6046,     0.60561,     0.60661,     0.60761,     0.60861,     0.60961,     0.61061,     0.61161,     0.61261,     0.61361,     0.61461,     0.61562,     0.61662,     0.61762,     0.61862,     0.61962,     0.62062,     0.62162,     0.62262,     0.62362,\n",
              "           0.62462,     0.62563,     0.62663,     0.62763,     0.62863,     0.62963,     0.63063,     0.63163,     0.63263,     0.63363,     0.63463,     0.63564,     0.63664,     0.63764,     0.63864,     0.63964,     0.64064,     0.64164,     0.64264,     0.64364,     0.64464,     0.64565,     0.64665,     0.64765,\n",
              "           0.64865,     0.64965,     0.65065,     0.65165,     0.65265,     0.65365,     0.65465,     0.65566,     0.65666,     0.65766,     0.65866,     0.65966,     0.66066,     0.66166,     0.66266,     0.66366,     0.66466,     0.66567,     0.66667,     0.66767,     0.66867,     0.66967,     0.67067,     0.67167,\n",
              "           0.67267,     0.67367,     0.67467,     0.67568,     0.67668,     0.67768,     0.67868,     0.67968,     0.68068,     0.68168,     0.68268,     0.68368,     0.68468,     0.68569,     0.68669,     0.68769,     0.68869,     0.68969,     0.69069,     0.69169,     0.69269,     0.69369,     0.69469,      0.6957,\n",
              "            0.6967,      0.6977,      0.6987,      0.6997,      0.7007,      0.7017,      0.7027,      0.7037,      0.7047,     0.70571,     0.70671,     0.70771,     0.70871,     0.70971,     0.71071,     0.71171,     0.71271,     0.71371,     0.71471,     0.71572,     0.71672,     0.71772,     0.71872,     0.71972,\n",
              "           0.72072,     0.72172,     0.72272,     0.72372,     0.72472,     0.72573,     0.72673,     0.72773,     0.72873,     0.72973,     0.73073,     0.73173,     0.73273,     0.73373,     0.73473,     0.73574,     0.73674,     0.73774,     0.73874,     0.73974,     0.74074,     0.74174,     0.74274,     0.74374,\n",
              "           0.74474,     0.74575,     0.74675,     0.74775,     0.74875,     0.74975,     0.75075,     0.75175,     0.75275,     0.75375,     0.75475,     0.75576,     0.75676,     0.75776,     0.75876,     0.75976,     0.76076,     0.76176,     0.76276,     0.76376,     0.76476,     0.76577,     0.76677,     0.76777,\n",
              "           0.76877,     0.76977,     0.77077,     0.77177,     0.77277,     0.77377,     0.77477,     0.77578,     0.77678,     0.77778,     0.77878,     0.77978,     0.78078,     0.78178,     0.78278,     0.78378,     0.78478,     0.78579,     0.78679,     0.78779,     0.78879,     0.78979,     0.79079,     0.79179,\n",
              "           0.79279,     0.79379,     0.79479,      0.7958,      0.7968,      0.7978,      0.7988,      0.7998,      0.8008,      0.8018,      0.8028,      0.8038,      0.8048,     0.80581,     0.80681,     0.80781,     0.80881,     0.80981,     0.81081,     0.81181,     0.81281,     0.81381,     0.81481,     0.81582,\n",
              "           0.81682,     0.81782,     0.81882,     0.81982,     0.82082,     0.82182,     0.82282,     0.82382,     0.82482,     0.82583,     0.82683,     0.82783,     0.82883,     0.82983,     0.83083,     0.83183,     0.83283,     0.83383,     0.83483,     0.83584,     0.83684,     0.83784,     0.83884,     0.83984,\n",
              "           0.84084,     0.84184,     0.84284,     0.84384,     0.84484,     0.84585,     0.84685,     0.84785,     0.84885,     0.84985,     0.85085,     0.85185,     0.85285,     0.85385,     0.85485,     0.85586,     0.85686,     0.85786,     0.85886,     0.85986,     0.86086,     0.86186,     0.86286,     0.86386,\n",
              "           0.86486,     0.86587,     0.86687,     0.86787,     0.86887,     0.86987,     0.87087,     0.87187,     0.87287,     0.87387,     0.87487,     0.87588,     0.87688,     0.87788,     0.87888,     0.87988,     0.88088,     0.88188,     0.88288,     0.88388,     0.88488,     0.88589,     0.88689,     0.88789,\n",
              "           0.88889,     0.88989,     0.89089,     0.89189,     0.89289,     0.89389,     0.89489,      0.8959,      0.8969,      0.8979,      0.8989,      0.8999,      0.9009,      0.9019,      0.9029,      0.9039,      0.9049,     0.90591,     0.90691,     0.90791,     0.90891,     0.90991,     0.91091,     0.91191,\n",
              "           0.91291,     0.91391,     0.91491,     0.91592,     0.91692,     0.91792,     0.91892,     0.91992,     0.92092,     0.92192,     0.92292,     0.92392,     0.92492,     0.92593,     0.92693,     0.92793,     0.92893,     0.92993,     0.93093,     0.93193,     0.93293,     0.93393,     0.93493,     0.93594,\n",
              "           0.93694,     0.93794,     0.93894,     0.93994,     0.94094,     0.94194,     0.94294,     0.94394,     0.94494,     0.94595,     0.94695,     0.94795,     0.94895,     0.94995,     0.95095,     0.95195,     0.95295,     0.95395,     0.95495,     0.95596,     0.95696,     0.95796,     0.95896,     0.95996,\n",
              "           0.96096,     0.96196,     0.96296,     0.96396,     0.96496,     0.96597,     0.96697,     0.96797,     0.96897,     0.96997,     0.97097,     0.97197,     0.97297,     0.97397,     0.97497,     0.97598,     0.97698,     0.97798,     0.97898,     0.97998,     0.98098,     0.98198,     0.98298,     0.98398,\n",
              "           0.98498,     0.98599,     0.98699,     0.98799,     0.98899,     0.98999,     0.99099,     0.99199,     0.99299,     0.99399,     0.99499,       0.996,       0.997,       0.998,       0.999,           1]), array([[  0.0043947,   0.0043971,   0.0060261,    0.015546,    0.046183,     0.07407,    0.092735,      0.1114,     0.12952,     0.14637,     0.16156,     0.17307,     0.18617,     0.20504,     0.21568,     0.22559,     0.23313,     0.24398,      0.2541,     0.27018,     0.28214,     0.28992,         0.3,\n",
              "            0.30855,     0.31749,      0.3232,     0.33117,     0.33304,     0.33504,     0.34328,     0.34648,      0.3636,     0.36857,     0.37087,     0.37173,     0.37258,     0.37679,     0.38324,     0.38772,     0.39566,     0.40107,     0.40531,     0.41363,     0.41608,     0.41822,     0.42132,\n",
              "            0.43583,     0.44656,     0.44793,     0.44929,     0.45104,     0.45478,     0.45784,     0.46814,     0.47364,      0.4761,     0.48724,     0.49628,     0.49981,     0.50202,     0.50416,     0.50621,      0.5082,     0.51019,      0.5185,       0.523,     0.52764,     0.53102,     0.53797,\n",
              "            0.54108,     0.54403,     0.54646,     0.54889,     0.55628,     0.55899,      0.5617,       0.568,     0.57049,     0.57287,     0.57671,     0.58261,     0.58519,     0.58778,     0.59225,     0.59635,     0.59924,     0.60214,     0.60833,     0.61745,     0.61927,     0.62109,     0.62291,\n",
              "            0.62473,     0.62533,     0.62572,     0.62612,     0.62651,      0.6269,     0.62729,     0.62768,     0.62807,     0.62846,     0.62885,     0.62924,     0.62963,     0.63002,     0.63041,      0.6308,     0.63119,     0.63158,     0.63198,     0.63237,     0.63276,      0.6387,     0.64337,\n",
              "            0.64647,     0.64943,     0.65055,     0.65167,      0.6528,     0.65392,     0.65504,     0.65617,     0.65729,     0.66039,     0.66578,     0.66685,     0.66707,     0.66728,      0.6675,     0.66772,     0.66793,     0.66815,     0.66837,     0.66859,      0.6688,     0.66902,     0.66924,\n",
              "            0.66945,     0.66967,     0.66989,     0.67011,     0.67032,     0.67054,     0.67076,     0.67098,     0.67119,     0.67141,     0.67163,     0.67184,     0.67206,     0.67228,      0.6725,     0.67271,     0.67293,     0.67315,     0.67336,     0.67358,      0.6738,     0.67402,     0.67423,\n",
              "            0.67445,     0.67467,     0.67489,      0.6751,     0.67532,     0.67554,     0.67613,     0.67739,     0.67864,      0.6799,     0.68116,     0.68242,     0.68368,     0.68494,      0.6903,     0.69675,     0.70451,     0.70557,     0.70663,     0.70769,     0.70875,     0.70981,     0.71087,\n",
              "            0.71193,     0.71299,     0.71405,     0.72225,     0.72498,     0.72542,     0.72586,     0.72631,     0.72675,     0.72719,     0.72764,     0.72808,     0.72852,     0.72897,     0.72941,     0.72985,     0.73029,     0.73074,     0.73118,     0.73162,     0.73207,     0.73251,     0.73295,\n",
              "             0.7334,     0.73384,     0.73428,     0.73473,     0.73517,     0.74645,     0.74691,     0.74736,     0.74782,     0.74828,     0.74874,      0.7492,     0.74966,     0.75011,     0.75057,     0.75103,     0.75149,     0.75195,     0.75241,     0.75286,     0.75332,     0.75378,     0.75424,\n",
              "             0.7547,     0.75516,     0.75561,     0.75607,     0.75653,     0.75699,     0.75745,     0.76085,     0.76541,     0.76965,     0.77223,      0.7748,     0.77738,     0.77995,     0.78153,     0.78209,     0.78265,     0.78322,     0.78378,     0.78434,     0.78491,     0.78547,     0.78603,\n",
              "            0.78659,     0.78716,     0.78772,     0.78828,     0.78884,     0.78941,     0.78997,     0.79053,     0.79109,     0.79166,     0.79222,     0.79278,     0.79335,     0.79379,     0.79408,     0.79438,     0.79468,     0.79498,     0.79527,     0.79557,     0.79587,     0.79617,     0.79646,\n",
              "            0.79676,     0.79706,     0.79735,     0.79765,     0.79795,     0.79825,     0.79854,     0.79884,     0.79914,     0.79944,     0.79973,     0.80003,     0.80033,     0.80062,     0.80092,     0.80122,     0.80152,     0.80181,     0.80211,     0.80241,     0.80271,       0.803,      0.8033,\n",
              "             0.8036,     0.80389,     0.80419,     0.80449,     0.80479,     0.80508,     0.80538,     0.80568,     0.80598,     0.80627,     0.80669,     0.80728,     0.80788,     0.80847,     0.80907,     0.80966,     0.81026,     0.81085,     0.81145,     0.81204,     0.81264,     0.81323,     0.81383,\n",
              "            0.81442,     0.81502,     0.81561,     0.81621,      0.8168,      0.8174,     0.81799,     0.81859,     0.81918,     0.81958,     0.81904,      0.8185,     0.81796,     0.81742,     0.81689,     0.81672,     0.81681,     0.81691,       0.817,     0.81709,     0.81719,     0.81728,     0.81737,\n",
              "            0.81746,     0.81756,     0.81765,     0.81774,     0.81783,     0.81793,     0.81802,     0.81811,     0.81821,      0.8183,     0.81839,     0.81848,     0.81858,     0.81867,     0.81876,     0.81886,     0.81895,     0.81904,     0.81913,     0.81923,     0.81932,     0.81941,      0.8195,\n",
              "             0.8196,     0.81969,     0.81978,     0.81988,     0.81997,     0.82006,     0.82015,     0.82025,     0.82034,     0.82043,     0.82053,     0.82062,     0.82071,      0.8208,      0.8209,     0.82099,     0.82108,     0.82118,     0.82127,     0.82136,     0.82145,     0.82155,     0.82164,\n",
              "            0.82173,     0.82182,     0.82192,     0.82201,      0.8221,      0.8222,     0.82229,     0.82238,     0.82247,     0.82257,     0.82266,     0.82275,     0.82285,     0.82294,     0.82303,     0.82312,     0.82322,     0.82331,      0.8234,     0.82349,     0.82359,     0.82368,     0.82377,\n",
              "            0.82387,     0.82396,     0.82405,     0.82414,     0.82424,     0.82433,     0.82442,     0.82452,     0.82461,      0.8247,     0.82479,     0.82489,     0.82498,     0.82507,     0.82516,     0.82526,     0.82535,     0.82544,     0.82554,     0.82563,     0.82572,     0.82581,     0.82591,\n",
              "              0.826,     0.82609,     0.82619,     0.82628,     0.82637,     0.82646,     0.82656,     0.82665,     0.82674,     0.82683,     0.82693,     0.82702,     0.82711,     0.82721,      0.8273,     0.82739,     0.82748,     0.82758,     0.82767,     0.82776,     0.82786,     0.82795,     0.82804,\n",
              "            0.82813,     0.82823,     0.82832,     0.82841,      0.8285,      0.8286,     0.82869,     0.82878,     0.82888,     0.82897,     0.82906,     0.82915,     0.82925,     0.82934,     0.82943,     0.82953,     0.82962,     0.82971,      0.8298,      0.8299,     0.82999,     0.83008,     0.83017,\n",
              "            0.83027,     0.83036,     0.83045,     0.83074,     0.83132,     0.83191,     0.83249,     0.83307,     0.83365,     0.83423,     0.83481,      0.8354,     0.83598,     0.83656,     0.83714,     0.83772,      0.8383,     0.83889,     0.83947,     0.84005,     0.84063,     0.84121,     0.84179,\n",
              "            0.84238,     0.84296,     0.84354,     0.84412,      0.8447,     0.84635,     0.84829,     0.85024,     0.85218,     0.85412,     0.85606,       0.858,     0.86011,     0.86311,     0.86612,     0.86912,     0.87213,     0.87499,     0.87478,     0.87457,     0.87436,     0.87416,     0.87395,\n",
              "            0.87374,     0.87353,     0.87332,     0.87311,      0.8729,     0.87335,     0.87735,     0.88136,     0.88536,     0.88874,     0.88745,     0.88664,     0.88632,     0.88601,     0.88569,     0.88538,     0.88506,     0.88475,      0.8858,     0.88782,     0.88984,     0.89186,     0.89388,\n",
              "             0.8959,     0.89792,     0.89994,     0.90196,     0.90294,     0.90391,     0.90488,     0.90586,     0.90683,      0.9078,     0.90878,     0.90975,     0.91072,      0.9117,     0.91267,     0.91364,     0.91462,     0.91559,     0.91656,     0.91754,     0.91851,     0.91948,      0.9216,\n",
              "            0.92501,     0.92841,     0.93182,     0.93523,     0.93863,     0.93875,     0.93873,      0.9387,     0.93868,     0.93865,     0.93863,     0.93861,     0.93858,     0.93856,     0.93853,     0.93851,     0.93848,     0.93846,     0.93843,     0.93841,     0.93839,     0.93836,     0.93834,\n",
              "            0.93831,     0.93829,     0.93826,     0.93824,     0.93821,     0.93819,     0.93816,     0.93814,     0.93812,     0.93809,     0.93807,     0.93804,     0.93802,     0.93799,     0.93797,     0.93794,     0.93792,      0.9379,     0.93787,     0.93785,     0.93782,      0.9378,     0.93777,\n",
              "            0.93775,     0.93772,      0.9377,     0.93768,     0.93765,     0.93763,      0.9376,     0.93758,     0.93755,     0.93753,      0.9375,     0.95242,     0.95742,     0.95739,     0.95736,     0.95733,     0.95729,     0.95726,     0.95723,     0.95719,     0.95716,     0.95713,      0.9571,\n",
              "            0.95706,     0.95703,       0.957,     0.95697,     0.95693,      0.9569,     0.95687,     0.95684,      0.9568,     0.95677,     0.95674,      0.9567,     0.95667,     0.95664,     0.95661,     0.95657,     0.95654,     0.95644,     0.95624,     0.95604,     0.95584,     0.95563,     0.95551,\n",
              "            0.95543,     0.95536,     0.95528,      0.9552,     0.95513,     0.95505,     0.95497,      0.9549,     0.95482,     0.95474,     0.95467,     0.95459,     0.95469,     0.95503,     0.95537,     0.95571,     0.95605,      0.9564,     0.95674,     0.95708,     0.95742,     0.95776,      0.9581,\n",
              "            0.95844,     0.95879,     0.95913,     0.95947,     0.95981,     0.96015,     0.96049,     0.96084,     0.96118,     0.96152,     0.96186,      0.9622,     0.96254,     0.96289,     0.96323,     0.96357,     0.96391,     0.96425,     0.96459,     0.96493,     0.96528,     0.96562,     0.96596,\n",
              "             0.9663,     0.96664,     0.96698,     0.96733,     0.96767,     0.96801,     0.96835,     0.96869,     0.96903,     0.96938,     0.96972,     0.97006,      0.9704,     0.97074,     0.97108,     0.97143,     0.97177,     0.97211,     0.97245,     0.97279,     0.97313,     0.97347,     0.97382,\n",
              "            0.97416,      0.9745,     0.97484,     0.97518,     0.97552,     0.97587,     0.97621,     0.97655,      0.9767,      0.9766,      0.9765,      0.9764,      0.9763,     0.97619,     0.97615,      0.9761,     0.97605,       0.976,     0.97596,     0.97591,     0.97586,     0.97582,     0.97577,\n",
              "            0.97572,     0.97568,     0.97563,     0.97552,     0.97539,     0.97525,     0.97511,     0.97498,     0.97491,     0.97484,     0.97476,     0.97469,     0.97462,     0.97454,     0.97447,      0.9744,     0.97431,     0.97422,     0.97412,     0.97403,     0.97394,     0.97384,     0.97375,\n",
              "            0.97449,     0.97686,     0.97922,     0.98158,     0.98395,     0.98631,     0.98868,     0.99104,     0.99341,     0.99577,     0.99813,           1,           1,           1,           1,           1,           1,           1,           1,           1,           1,           1,           1,\n",
              "                  1,           1,           1,           1,           1,           1,           1,           1,           1,           1,           1,           1,           1,           1,           1,           1,           1,           1,           1,           1,           1,           1,           1,\n",
              "                  1,           1,           1,           1,           1,           1,           1,           1,           1,           1,           1,           1,           1,           1,           1,           1,           1,           1,           1,           1,           1,           1,           1,\n",
              "                  1,           1,           1,           1,           1,           1,           1,           1,           1,           1,           1,           1,           1,           1,           1,           1,           1,           1,           1,           1,           1,           1,           1,\n",
              "                  1,           1,           1,           1,           1,           1,           1,           1,           1,           1,           1,           1,           1,           1,           1,           1,           1,           1,           1,           1,           1,           1,           1,\n",
              "                  1,           1,           1,           1,           1,           1,           1,           1,           1,           1,           1,           1,           1,           1,           1,           1,           1,           1,           1,           1,           1,           1,           1,\n",
              "                  1,           1,           1,           1,           1,           1,           1,           1,           1,           1,           1,           1,           1,           1,           1,           1,           1,           1,           1,           1,           1,           1,           1,\n",
              "                  1,           1,           1,           1,           1,           1,           1,           1,           1,           1,           1,           1,           1,           1,           1,           1,           1,           1,           1,           1,           1,           1,           1,\n",
              "                  1,           1,           1,           1,           1,           1,           1,           1,           1,           1,           1,           1,           1,           1,           1,           1,           1,           1,           1,           1,           1,           1,           1,\n",
              "                  1,           1,           1,           1,           1,           1,           1,           1,           1,           1,           1]]), 'Confidence', 'Precision'], [array([          0,    0.001001,    0.002002,    0.003003,    0.004004,    0.005005,    0.006006,    0.007007,    0.008008,    0.009009,     0.01001,    0.011011,    0.012012,    0.013013,    0.014014,    0.015015,    0.016016,    0.017017,    0.018018,    0.019019,     0.02002,    0.021021,    0.022022,    0.023023,\n",
              "          0.024024,    0.025025,    0.026026,    0.027027,    0.028028,    0.029029,     0.03003,    0.031031,    0.032032,    0.033033,    0.034034,    0.035035,    0.036036,    0.037037,    0.038038,    0.039039,     0.04004,    0.041041,    0.042042,    0.043043,    0.044044,    0.045045,    0.046046,    0.047047,\n",
              "          0.048048,    0.049049,     0.05005,    0.051051,    0.052052,    0.053053,    0.054054,    0.055055,    0.056056,    0.057057,    0.058058,    0.059059,     0.06006,    0.061061,    0.062062,    0.063063,    0.064064,    0.065065,    0.066066,    0.067067,    0.068068,    0.069069,     0.07007,    0.071071,\n",
              "          0.072072,    0.073073,    0.074074,    0.075075,    0.076076,    0.077077,    0.078078,    0.079079,     0.08008,    0.081081,    0.082082,    0.083083,    0.084084,    0.085085,    0.086086,    0.087087,    0.088088,    0.089089,     0.09009,    0.091091,    0.092092,    0.093093,    0.094094,    0.095095,\n",
              "          0.096096,    0.097097,    0.098098,    0.099099,      0.1001,      0.1011,      0.1021,      0.1031,      0.1041,     0.10511,     0.10611,     0.10711,     0.10811,     0.10911,     0.11011,     0.11111,     0.11211,     0.11311,     0.11411,     0.11512,     0.11612,     0.11712,     0.11812,     0.11912,\n",
              "           0.12012,     0.12112,     0.12212,     0.12312,     0.12412,     0.12513,     0.12613,     0.12713,     0.12813,     0.12913,     0.13013,     0.13113,     0.13213,     0.13313,     0.13413,     0.13514,     0.13614,     0.13714,     0.13814,     0.13914,     0.14014,     0.14114,     0.14214,     0.14314,\n",
              "           0.14414,     0.14515,     0.14615,     0.14715,     0.14815,     0.14915,     0.15015,     0.15115,     0.15215,     0.15315,     0.15415,     0.15516,     0.15616,     0.15716,     0.15816,     0.15916,     0.16016,     0.16116,     0.16216,     0.16316,     0.16416,     0.16517,     0.16617,     0.16717,\n",
              "           0.16817,     0.16917,     0.17017,     0.17117,     0.17217,     0.17317,     0.17417,     0.17518,     0.17618,     0.17718,     0.17818,     0.17918,     0.18018,     0.18118,     0.18218,     0.18318,     0.18418,     0.18519,     0.18619,     0.18719,     0.18819,     0.18919,     0.19019,     0.19119,\n",
              "           0.19219,     0.19319,     0.19419,      0.1952,      0.1962,      0.1972,      0.1982,      0.1992,      0.2002,      0.2012,      0.2022,      0.2032,      0.2042,     0.20521,     0.20621,     0.20721,     0.20821,     0.20921,     0.21021,     0.21121,     0.21221,     0.21321,     0.21421,     0.21522,\n",
              "           0.21622,     0.21722,     0.21822,     0.21922,     0.22022,     0.22122,     0.22222,     0.22322,     0.22422,     0.22523,     0.22623,     0.22723,     0.22823,     0.22923,     0.23023,     0.23123,     0.23223,     0.23323,     0.23423,     0.23524,     0.23624,     0.23724,     0.23824,     0.23924,\n",
              "           0.24024,     0.24124,     0.24224,     0.24324,     0.24424,     0.24525,     0.24625,     0.24725,     0.24825,     0.24925,     0.25025,     0.25125,     0.25225,     0.25325,     0.25425,     0.25526,     0.25626,     0.25726,     0.25826,     0.25926,     0.26026,     0.26126,     0.26226,     0.26326,\n",
              "           0.26426,     0.26527,     0.26627,     0.26727,     0.26827,     0.26927,     0.27027,     0.27127,     0.27227,     0.27327,     0.27427,     0.27528,     0.27628,     0.27728,     0.27828,     0.27928,     0.28028,     0.28128,     0.28228,     0.28328,     0.28428,     0.28529,     0.28629,     0.28729,\n",
              "           0.28829,     0.28929,     0.29029,     0.29129,     0.29229,     0.29329,     0.29429,      0.2953,      0.2963,      0.2973,      0.2983,      0.2993,      0.3003,      0.3013,      0.3023,      0.3033,      0.3043,     0.30531,     0.30631,     0.30731,     0.30831,     0.30931,     0.31031,     0.31131,\n",
              "           0.31231,     0.31331,     0.31431,     0.31532,     0.31632,     0.31732,     0.31832,     0.31932,     0.32032,     0.32132,     0.32232,     0.32332,     0.32432,     0.32533,     0.32633,     0.32733,     0.32833,     0.32933,     0.33033,     0.33133,     0.33233,     0.33333,     0.33433,     0.33534,\n",
              "           0.33634,     0.33734,     0.33834,     0.33934,     0.34034,     0.34134,     0.34234,     0.34334,     0.34434,     0.34535,     0.34635,     0.34735,     0.34835,     0.34935,     0.35035,     0.35135,     0.35235,     0.35335,     0.35435,     0.35536,     0.35636,     0.35736,     0.35836,     0.35936,\n",
              "           0.36036,     0.36136,     0.36236,     0.36336,     0.36436,     0.36537,     0.36637,     0.36737,     0.36837,     0.36937,     0.37037,     0.37137,     0.37237,     0.37337,     0.37437,     0.37538,     0.37638,     0.37738,     0.37838,     0.37938,     0.38038,     0.38138,     0.38238,     0.38338,\n",
              "           0.38438,     0.38539,     0.38639,     0.38739,     0.38839,     0.38939,     0.39039,     0.39139,     0.39239,     0.39339,     0.39439,      0.3954,      0.3964,      0.3974,      0.3984,      0.3994,      0.4004,      0.4014,      0.4024,      0.4034,      0.4044,     0.40541,     0.40641,     0.40741,\n",
              "           0.40841,     0.40941,     0.41041,     0.41141,     0.41241,     0.41341,     0.41441,     0.41542,     0.41642,     0.41742,     0.41842,     0.41942,     0.42042,     0.42142,     0.42242,     0.42342,     0.42442,     0.42543,     0.42643,     0.42743,     0.42843,     0.42943,     0.43043,     0.43143,\n",
              "           0.43243,     0.43343,     0.43443,     0.43544,     0.43644,     0.43744,     0.43844,     0.43944,     0.44044,     0.44144,     0.44244,     0.44344,     0.44444,     0.44545,     0.44645,     0.44745,     0.44845,     0.44945,     0.45045,     0.45145,     0.45245,     0.45345,     0.45445,     0.45546,\n",
              "           0.45646,     0.45746,     0.45846,     0.45946,     0.46046,     0.46146,     0.46246,     0.46346,     0.46446,     0.46547,     0.46647,     0.46747,     0.46847,     0.46947,     0.47047,     0.47147,     0.47247,     0.47347,     0.47447,     0.47548,     0.47648,     0.47748,     0.47848,     0.47948,\n",
              "           0.48048,     0.48148,     0.48248,     0.48348,     0.48448,     0.48549,     0.48649,     0.48749,     0.48849,     0.48949,     0.49049,     0.49149,     0.49249,     0.49349,     0.49449,      0.4955,      0.4965,      0.4975,      0.4985,      0.4995,      0.5005,      0.5015,      0.5025,      0.5035,\n",
              "            0.5045,     0.50551,     0.50651,     0.50751,     0.50851,     0.50951,     0.51051,     0.51151,     0.51251,     0.51351,     0.51451,     0.51552,     0.51652,     0.51752,     0.51852,     0.51952,     0.52052,     0.52152,     0.52252,     0.52352,     0.52452,     0.52553,     0.52653,     0.52753,\n",
              "           0.52853,     0.52953,     0.53053,     0.53153,     0.53253,     0.53353,     0.53453,     0.53554,     0.53654,     0.53754,     0.53854,     0.53954,     0.54054,     0.54154,     0.54254,     0.54354,     0.54454,     0.54555,     0.54655,     0.54755,     0.54855,     0.54955,     0.55055,     0.55155,\n",
              "           0.55255,     0.55355,     0.55455,     0.55556,     0.55656,     0.55756,     0.55856,     0.55956,     0.56056,     0.56156,     0.56256,     0.56356,     0.56456,     0.56557,     0.56657,     0.56757,     0.56857,     0.56957,     0.57057,     0.57157,     0.57257,     0.57357,     0.57457,     0.57558,\n",
              "           0.57658,     0.57758,     0.57858,     0.57958,     0.58058,     0.58158,     0.58258,     0.58358,     0.58458,     0.58559,     0.58659,     0.58759,     0.58859,     0.58959,     0.59059,     0.59159,     0.59259,     0.59359,     0.59459,      0.5956,      0.5966,      0.5976,      0.5986,      0.5996,\n",
              "            0.6006,      0.6016,      0.6026,      0.6036,      0.6046,     0.60561,     0.60661,     0.60761,     0.60861,     0.60961,     0.61061,     0.61161,     0.61261,     0.61361,     0.61461,     0.61562,     0.61662,     0.61762,     0.61862,     0.61962,     0.62062,     0.62162,     0.62262,     0.62362,\n",
              "           0.62462,     0.62563,     0.62663,     0.62763,     0.62863,     0.62963,     0.63063,     0.63163,     0.63263,     0.63363,     0.63463,     0.63564,     0.63664,     0.63764,     0.63864,     0.63964,     0.64064,     0.64164,     0.64264,     0.64364,     0.64464,     0.64565,     0.64665,     0.64765,\n",
              "           0.64865,     0.64965,     0.65065,     0.65165,     0.65265,     0.65365,     0.65465,     0.65566,     0.65666,     0.65766,     0.65866,     0.65966,     0.66066,     0.66166,     0.66266,     0.66366,     0.66466,     0.66567,     0.66667,     0.66767,     0.66867,     0.66967,     0.67067,     0.67167,\n",
              "           0.67267,     0.67367,     0.67467,     0.67568,     0.67668,     0.67768,     0.67868,     0.67968,     0.68068,     0.68168,     0.68268,     0.68368,     0.68468,     0.68569,     0.68669,     0.68769,     0.68869,     0.68969,     0.69069,     0.69169,     0.69269,     0.69369,     0.69469,      0.6957,\n",
              "            0.6967,      0.6977,      0.6987,      0.6997,      0.7007,      0.7017,      0.7027,      0.7037,      0.7047,     0.70571,     0.70671,     0.70771,     0.70871,     0.70971,     0.71071,     0.71171,     0.71271,     0.71371,     0.71471,     0.71572,     0.71672,     0.71772,     0.71872,     0.71972,\n",
              "           0.72072,     0.72172,     0.72272,     0.72372,     0.72472,     0.72573,     0.72673,     0.72773,     0.72873,     0.72973,     0.73073,     0.73173,     0.73273,     0.73373,     0.73473,     0.73574,     0.73674,     0.73774,     0.73874,     0.73974,     0.74074,     0.74174,     0.74274,     0.74374,\n",
              "           0.74474,     0.74575,     0.74675,     0.74775,     0.74875,     0.74975,     0.75075,     0.75175,     0.75275,     0.75375,     0.75475,     0.75576,     0.75676,     0.75776,     0.75876,     0.75976,     0.76076,     0.76176,     0.76276,     0.76376,     0.76476,     0.76577,     0.76677,     0.76777,\n",
              "           0.76877,     0.76977,     0.77077,     0.77177,     0.77277,     0.77377,     0.77477,     0.77578,     0.77678,     0.77778,     0.77878,     0.77978,     0.78078,     0.78178,     0.78278,     0.78378,     0.78478,     0.78579,     0.78679,     0.78779,     0.78879,     0.78979,     0.79079,     0.79179,\n",
              "           0.79279,     0.79379,     0.79479,      0.7958,      0.7968,      0.7978,      0.7988,      0.7998,      0.8008,      0.8018,      0.8028,      0.8038,      0.8048,     0.80581,     0.80681,     0.80781,     0.80881,     0.80981,     0.81081,     0.81181,     0.81281,     0.81381,     0.81481,     0.81582,\n",
              "           0.81682,     0.81782,     0.81882,     0.81982,     0.82082,     0.82182,     0.82282,     0.82382,     0.82482,     0.82583,     0.82683,     0.82783,     0.82883,     0.82983,     0.83083,     0.83183,     0.83283,     0.83383,     0.83483,     0.83584,     0.83684,     0.83784,     0.83884,     0.83984,\n",
              "           0.84084,     0.84184,     0.84284,     0.84384,     0.84484,     0.84585,     0.84685,     0.84785,     0.84885,     0.84985,     0.85085,     0.85185,     0.85285,     0.85385,     0.85485,     0.85586,     0.85686,     0.85786,     0.85886,     0.85986,     0.86086,     0.86186,     0.86286,     0.86386,\n",
              "           0.86486,     0.86587,     0.86687,     0.86787,     0.86887,     0.86987,     0.87087,     0.87187,     0.87287,     0.87387,     0.87487,     0.87588,     0.87688,     0.87788,     0.87888,     0.87988,     0.88088,     0.88188,     0.88288,     0.88388,     0.88488,     0.88589,     0.88689,     0.88789,\n",
              "           0.88889,     0.88989,     0.89089,     0.89189,     0.89289,     0.89389,     0.89489,      0.8959,      0.8969,      0.8979,      0.8989,      0.8999,      0.9009,      0.9019,      0.9029,      0.9039,      0.9049,     0.90591,     0.90691,     0.90791,     0.90891,     0.90991,     0.91091,     0.91191,\n",
              "           0.91291,     0.91391,     0.91491,     0.91592,     0.91692,     0.91792,     0.91892,     0.91992,     0.92092,     0.92192,     0.92292,     0.92392,     0.92492,     0.92593,     0.92693,     0.92793,     0.92893,     0.92993,     0.93093,     0.93193,     0.93293,     0.93393,     0.93493,     0.93594,\n",
              "           0.93694,     0.93794,     0.93894,     0.93994,     0.94094,     0.94194,     0.94294,     0.94394,     0.94494,     0.94595,     0.94695,     0.94795,     0.94895,     0.94995,     0.95095,     0.95195,     0.95295,     0.95395,     0.95495,     0.95596,     0.95696,     0.95796,     0.95896,     0.95996,\n",
              "           0.96096,     0.96196,     0.96296,     0.96396,     0.96496,     0.96597,     0.96697,     0.96797,     0.96897,     0.96997,     0.97097,     0.97197,     0.97297,     0.97397,     0.97497,     0.97598,     0.97698,     0.97798,     0.97898,     0.97998,     0.98098,     0.98198,     0.98298,     0.98398,\n",
              "           0.98498,     0.98599,     0.98699,     0.98799,     0.98899,     0.98999,     0.99099,     0.99199,     0.99299,     0.99399,     0.99499,       0.996,       0.997,       0.998,       0.999,           1]), array([[          1,           1,           1,           1,           1,     0.98039,     0.98039,     0.98039,     0.98039,     0.98039,     0.98039,     0.98039,     0.98039,     0.98039,     0.98039,     0.98039,     0.98039,     0.98039,     0.98039,     0.98039,     0.98039,     0.98039,     0.98039,\n",
              "            0.98039,     0.98039,     0.98039,     0.98039,     0.98039,     0.98039,     0.98039,     0.98039,     0.98039,     0.98039,     0.98039,     0.98039,     0.98039,     0.98039,     0.98039,     0.98039,     0.98039,     0.98039,     0.98039,     0.98039,     0.98039,     0.98039,     0.98039,\n",
              "            0.98039,     0.98039,     0.98039,     0.98039,     0.98039,     0.98039,     0.98039,     0.98039,     0.98039,     0.98039,     0.98039,     0.98039,     0.98039,     0.98039,     0.98039,     0.98039,     0.98039,     0.98039,     0.98039,     0.98039,     0.98039,     0.98039,     0.98039,\n",
              "            0.98039,     0.98039,     0.98039,     0.98039,     0.98039,     0.98039,     0.98039,     0.98039,     0.98039,     0.98039,     0.98039,     0.98039,     0.98039,     0.98039,     0.98039,     0.98039,     0.98039,     0.98039,     0.98039,     0.98039,     0.98039,     0.98039,     0.98039,\n",
              "            0.98039,     0.98039,     0.98039,     0.98039,     0.98039,     0.98039,     0.98039,     0.98039,     0.98039,     0.98039,     0.98039,     0.98039,     0.98039,     0.98039,     0.98039,     0.98039,     0.98039,     0.98039,     0.98039,     0.98039,     0.98039,     0.98039,     0.98039,\n",
              "            0.98039,     0.98039,     0.98039,     0.98039,     0.98039,     0.98039,     0.98039,     0.98039,     0.98039,     0.98039,     0.98039,     0.98039,     0.98039,     0.98039,     0.98039,     0.98039,     0.98039,     0.98039,     0.98039,     0.98039,     0.98039,     0.98039,     0.98039,\n",
              "            0.98039,     0.98039,     0.98039,     0.98039,     0.98039,     0.98039,     0.98039,     0.98039,     0.98039,     0.98039,     0.98039,     0.98039,     0.98039,     0.98039,     0.98039,     0.98039,     0.98039,     0.98039,     0.98039,     0.98039,     0.98039,     0.98039,     0.98039,\n",
              "            0.98039,     0.98039,     0.98039,     0.98039,     0.98039,     0.98039,     0.98039,     0.98039,     0.98039,     0.98039,     0.98039,     0.98039,     0.98039,     0.98039,     0.98039,     0.98039,     0.98039,     0.98039,     0.98039,     0.98039,     0.98039,     0.98039,     0.98039,\n",
              "            0.98039,     0.98039,     0.98039,     0.98039,     0.98039,     0.98039,     0.98039,     0.98039,     0.98039,     0.98039,     0.98039,     0.98039,     0.98039,     0.98039,     0.98039,     0.98039,     0.98039,     0.98039,     0.98039,     0.98039,     0.98039,     0.98039,     0.98039,\n",
              "            0.98039,     0.98039,     0.98039,     0.98039,     0.98039,     0.98039,     0.98039,     0.98039,     0.98039,     0.98039,     0.98039,     0.98039,     0.98039,     0.98039,     0.98039,     0.98039,     0.98039,     0.98039,     0.98039,     0.98039,     0.98039,     0.98039,     0.98039,\n",
              "            0.98039,     0.98039,     0.98039,     0.98039,     0.98039,     0.98039,     0.98039,     0.98039,     0.98039,     0.98039,     0.98039,     0.98039,     0.98039,     0.98039,     0.98039,     0.98039,     0.98039,     0.98039,     0.98039,     0.98039,     0.98039,     0.98039,     0.98039,\n",
              "            0.98039,     0.98039,     0.98039,     0.98039,     0.98039,     0.98039,     0.98039,     0.98039,     0.98039,     0.98039,     0.98039,     0.98039,     0.98039,     0.98039,     0.98039,     0.98039,     0.98039,     0.98039,     0.98039,     0.98039,     0.98039,     0.98039,     0.98039,\n",
              "            0.98039,     0.98039,     0.98039,     0.98039,     0.98039,     0.98039,     0.98039,     0.98039,     0.98039,     0.98039,     0.98039,     0.98039,     0.98039,     0.98039,     0.98039,     0.98039,     0.98039,     0.98039,     0.98039,     0.98039,     0.98039,     0.98039,     0.98039,\n",
              "            0.98039,     0.98039,     0.98039,     0.98039,     0.98039,     0.98039,     0.98039,     0.98039,     0.98039,     0.98039,     0.98039,     0.98039,     0.98039,     0.98039,     0.98039,     0.98039,     0.98039,     0.98039,     0.98039,     0.98039,     0.98039,     0.98039,     0.98039,\n",
              "            0.98039,     0.98039,     0.98039,     0.98039,     0.98039,     0.98039,     0.98039,     0.98039,     0.98039,     0.97978,     0.97627,     0.97275,     0.96924,     0.96573,     0.96222,     0.96078,     0.96078,     0.96078,     0.96078,     0.96078,     0.96078,     0.96078,     0.96078,\n",
              "            0.96078,     0.96078,     0.96078,     0.96078,     0.96078,     0.96078,     0.96078,     0.96078,     0.96078,     0.96078,     0.96078,     0.96078,     0.96078,     0.96078,     0.96078,     0.96078,     0.96078,     0.96078,     0.96078,     0.96078,     0.96078,     0.96078,     0.96078,\n",
              "            0.96078,     0.96078,     0.96078,     0.96078,     0.96078,     0.96078,     0.96078,     0.96078,     0.96078,     0.96078,     0.96078,     0.96078,     0.96078,     0.96078,     0.96078,     0.96078,     0.96078,     0.96078,     0.96078,     0.96078,     0.96078,     0.96078,     0.96078,\n",
              "            0.96078,     0.96078,     0.96078,     0.96078,     0.96078,     0.96078,     0.96078,     0.96078,     0.96078,     0.96078,     0.96078,     0.96078,     0.96078,     0.96078,     0.96078,     0.96078,     0.96078,     0.96078,     0.96078,     0.96078,     0.96078,     0.96078,     0.96078,\n",
              "            0.96078,     0.96078,     0.96078,     0.96078,     0.96078,     0.96078,     0.96078,     0.96078,     0.96078,     0.96078,     0.96078,     0.96078,     0.96078,     0.96078,     0.96078,     0.96078,     0.96078,     0.96078,     0.96078,     0.96078,     0.96078,     0.96078,     0.96078,\n",
              "            0.96078,     0.96078,     0.96078,     0.96078,     0.96078,     0.96078,     0.96078,     0.96078,     0.96078,     0.96078,     0.96078,     0.96078,     0.96078,     0.96078,     0.96078,     0.96078,     0.96078,     0.96078,     0.96078,     0.96078,     0.96078,     0.96078,     0.96078,\n",
              "            0.96078,     0.96078,     0.96078,     0.96078,     0.96078,     0.96078,     0.96078,     0.96078,     0.96078,     0.96078,     0.96078,     0.96078,     0.96078,     0.96078,     0.96078,     0.96078,     0.96078,     0.96078,     0.96078,     0.96078,     0.96078,     0.96078,     0.96078,\n",
              "            0.96078,     0.96078,     0.96078,     0.96078,     0.96078,     0.96078,     0.96078,     0.96078,     0.96078,     0.96078,     0.96078,     0.96078,     0.96078,     0.96078,     0.96078,     0.96078,     0.96078,     0.96078,     0.96078,     0.96078,     0.96078,     0.96078,     0.96078,\n",
              "            0.96078,     0.96078,     0.96078,     0.96078,     0.96078,     0.96078,     0.96078,     0.96078,     0.96078,     0.96078,     0.96078,     0.96078,     0.96078,     0.96078,     0.96078,     0.96078,     0.96078,     0.96071,     0.95891,      0.9571,      0.9553,      0.9535,      0.9517,\n",
              "             0.9499,      0.9481,      0.9463,      0.9445,      0.9427,     0.94118,     0.94118,     0.94118,     0.94118,     0.93974,     0.92768,     0.92017,     0.91733,     0.91449,     0.91165,     0.90881,     0.90597,     0.90313,     0.90196,     0.90196,     0.90196,     0.90196,     0.90196,\n",
              "            0.90196,     0.90196,     0.90196,     0.90196,     0.90196,     0.90196,     0.90196,     0.90196,     0.90196,     0.90196,     0.90196,     0.90196,     0.90196,     0.90196,     0.90196,     0.90196,     0.90196,     0.90196,     0.90196,     0.90196,     0.90196,     0.90196,     0.90196,\n",
              "            0.90196,     0.90196,     0.90196,     0.90196,     0.90196,      0.9016,     0.90122,     0.90085,     0.90047,      0.9001,     0.89972,     0.89934,     0.89897,     0.89859,     0.89821,     0.89784,     0.89746,     0.89709,     0.89671,     0.89633,     0.89596,     0.89558,     0.89521,\n",
              "            0.89483,     0.89445,     0.89408,      0.8937,     0.89332,     0.89295,     0.89257,      0.8922,     0.89182,     0.89144,     0.89107,     0.89069,     0.89032,     0.88994,     0.88956,     0.88919,     0.88881,     0.88843,     0.88806,     0.88768,     0.88731,     0.88693,     0.88655,\n",
              "            0.88618,      0.8858,     0.88542,     0.88505,     0.88467,      0.8843,     0.88392,     0.88354,     0.88317,     0.88279,     0.88242,     0.88235,     0.88185,     0.88116,     0.88047,     0.87978,     0.87908,     0.87839,      0.8777,     0.87701,     0.87632,     0.87562,     0.87493,\n",
              "            0.87424,     0.87355,     0.87285,     0.87216,     0.87147,     0.87078,     0.87008,     0.86939,      0.8687,     0.86801,     0.86731,     0.86662,     0.86593,     0.86524,     0.86454,     0.86385,     0.86316,     0.86109,       0.857,     0.85291,     0.84882,     0.84473,     0.84223,\n",
              "            0.84074,     0.83926,     0.83777,     0.83629,      0.8348,     0.83331,     0.83183,     0.83034,     0.82886,     0.82737,     0.82589,      0.8244,     0.82353,     0.82353,     0.82353,     0.82353,     0.82353,     0.82353,     0.82353,     0.82353,     0.82353,     0.82353,     0.82353,\n",
              "            0.82353,     0.82353,     0.82353,     0.82353,     0.82353,     0.82353,     0.82353,     0.82353,     0.82353,     0.82353,     0.82353,     0.82353,     0.82353,     0.82353,     0.82353,     0.82353,     0.82353,     0.82353,     0.82353,     0.82353,     0.82353,     0.82353,     0.82353,\n",
              "            0.82353,     0.82353,     0.82353,     0.82353,     0.82353,     0.82353,     0.82353,     0.82353,     0.82353,     0.82353,     0.82353,     0.82353,     0.82353,     0.82353,     0.82353,     0.82353,     0.82353,     0.82353,     0.82353,     0.82353,     0.82353,     0.82353,     0.82353,\n",
              "            0.82353,     0.82353,     0.82353,     0.82353,     0.82353,     0.82353,     0.82353,     0.82353,     0.82199,      0.8184,     0.81482,     0.81123,     0.80765,     0.80406,      0.8024,     0.80081,     0.79922,     0.79763,     0.79605,     0.79446,     0.79287,     0.79129,      0.7897,\n",
              "            0.78811,     0.78653,     0.78494,     0.78159,     0.77709,      0.7726,      0.7681,     0.76416,     0.76192,     0.75968,     0.75744,     0.75521,     0.75297,     0.75073,     0.74849,     0.74626,     0.74377,     0.74103,     0.73828,     0.73554,     0.73279,     0.73004,      0.7273,\n",
              "            0.72549,     0.72549,     0.72549,     0.72549,     0.72549,     0.72549,     0.72549,     0.72549,     0.72549,     0.72549,     0.72549,     0.72406,     0.71728,     0.71049,     0.70539,     0.70384,      0.7023,     0.70076,     0.69922,     0.69767,     0.69613,     0.69459,     0.69304,\n",
              "             0.6915,     0.68996,     0.68842,     0.68687,     0.68035,     0.67066,     0.66544,     0.66335,     0.66127,     0.65918,     0.65709,     0.65501,     0.65292,     0.65083,     0.64875,     0.64643,     0.64314,     0.63984,     0.63655,     0.63326,     0.62997,     0.61807,      0.6074,\n",
              "            0.60682,     0.60623,     0.60564,     0.60505,     0.60446,     0.60387,     0.60328,     0.60269,      0.6021,     0.60151,     0.60092,     0.60033,     0.59974,     0.59915,     0.59856,     0.59797,     0.59738,     0.59679,     0.59621,     0.59562,     0.59503,     0.59444,     0.59385,\n",
              "            0.59326,     0.59267,     0.59208,     0.59149,      0.5909,     0.59031,     0.58972,     0.58913,     0.58854,     0.56802,     0.56513,     0.56224,     0.55934,     0.55645,     0.55356,     0.55066,     0.52931,     0.52766,     0.52601,     0.52436,     0.52271,     0.52106,     0.51941,\n",
              "            0.51776,     0.51611,     0.51446,     0.51281,     0.51116,     0.50876,     0.50278,     0.49681,     0.49083,     0.48751,     0.48451,      0.4815,      0.4785,      0.4755,     0.47249,     0.46432,     0.44799,     0.43441,     0.43005,     0.42834,     0.42663,     0.42492,     0.42321,\n",
              "             0.4215,     0.41979,     0.41808,     0.41637,     0.41466,     0.41295,     0.40764,     0.39408,       0.365,     0.35125,      0.3462,     0.34116,     0.33611,     0.31169,      0.3069,      0.3021,      0.2973,     0.28534,     0.27345,     0.27164,     0.26983,     0.26803,     0.26622,\n",
              "            0.26441,      0.2626,     0.26079,     0.25898,     0.25718,     0.25537,     0.23259,     0.22431,     0.21602,     0.21295,     0.21011,     0.20726,     0.20442,     0.20157,     0.19872,     0.19521,     0.18299,     0.16811,     0.15562,     0.15228,     0.14894,      0.1456,     0.14227,\n",
              "            0.13893,     0.13365,     0.12642,      0.1192,     0.11289,     0.10683,     0.10076,    0.095458,    0.090769,    0.086079,    0.081389,     0.07671,    0.072051,    0.067391,    0.062731,    0.045981,    0.030884,    0.021779,           0,           0,           0,           0,           0,\n",
              "                  0,           0,           0,           0,           0,           0,           0,           0,           0,           0,           0,           0,           0,           0,           0,           0,           0,           0,           0,           0,           0,           0,           0,\n",
              "                  0,           0,           0,           0,           0,           0,           0,           0,           0,           0,           0]]), 'Confidence', 'Recall'], [array([          0,    0.001001,    0.002002,    0.003003,    0.004004,    0.005005,    0.006006,    0.007007,    0.008008,    0.009009,     0.01001,    0.011011,    0.012012,    0.013013,    0.014014,    0.015015,    0.016016,    0.017017,    0.018018,    0.019019,     0.02002,    0.021021,    0.022022,    0.023023,\n",
              "          0.024024,    0.025025,    0.026026,    0.027027,    0.028028,    0.029029,     0.03003,    0.031031,    0.032032,    0.033033,    0.034034,    0.035035,    0.036036,    0.037037,    0.038038,    0.039039,     0.04004,    0.041041,    0.042042,    0.043043,    0.044044,    0.045045,    0.046046,    0.047047,\n",
              "          0.048048,    0.049049,     0.05005,    0.051051,    0.052052,    0.053053,    0.054054,    0.055055,    0.056056,    0.057057,    0.058058,    0.059059,     0.06006,    0.061061,    0.062062,    0.063063,    0.064064,    0.065065,    0.066066,    0.067067,    0.068068,    0.069069,     0.07007,    0.071071,\n",
              "          0.072072,    0.073073,    0.074074,    0.075075,    0.076076,    0.077077,    0.078078,    0.079079,     0.08008,    0.081081,    0.082082,    0.083083,    0.084084,    0.085085,    0.086086,    0.087087,    0.088088,    0.089089,     0.09009,    0.091091,    0.092092,    0.093093,    0.094094,    0.095095,\n",
              "          0.096096,    0.097097,    0.098098,    0.099099,      0.1001,      0.1011,      0.1021,      0.1031,      0.1041,     0.10511,     0.10611,     0.10711,     0.10811,     0.10911,     0.11011,     0.11111,     0.11211,     0.11311,     0.11411,     0.11512,     0.11612,     0.11712,     0.11812,     0.11912,\n",
              "           0.12012,     0.12112,     0.12212,     0.12312,     0.12412,     0.12513,     0.12613,     0.12713,     0.12813,     0.12913,     0.13013,     0.13113,     0.13213,     0.13313,     0.13413,     0.13514,     0.13614,     0.13714,     0.13814,     0.13914,     0.14014,     0.14114,     0.14214,     0.14314,\n",
              "           0.14414,     0.14515,     0.14615,     0.14715,     0.14815,     0.14915,     0.15015,     0.15115,     0.15215,     0.15315,     0.15415,     0.15516,     0.15616,     0.15716,     0.15816,     0.15916,     0.16016,     0.16116,     0.16216,     0.16316,     0.16416,     0.16517,     0.16617,     0.16717,\n",
              "           0.16817,     0.16917,     0.17017,     0.17117,     0.17217,     0.17317,     0.17417,     0.17518,     0.17618,     0.17718,     0.17818,     0.17918,     0.18018,     0.18118,     0.18218,     0.18318,     0.18418,     0.18519,     0.18619,     0.18719,     0.18819,     0.18919,     0.19019,     0.19119,\n",
              "           0.19219,     0.19319,     0.19419,      0.1952,      0.1962,      0.1972,      0.1982,      0.1992,      0.2002,      0.2012,      0.2022,      0.2032,      0.2042,     0.20521,     0.20621,     0.20721,     0.20821,     0.20921,     0.21021,     0.21121,     0.21221,     0.21321,     0.21421,     0.21522,\n",
              "           0.21622,     0.21722,     0.21822,     0.21922,     0.22022,     0.22122,     0.22222,     0.22322,     0.22422,     0.22523,     0.22623,     0.22723,     0.22823,     0.22923,     0.23023,     0.23123,     0.23223,     0.23323,     0.23423,     0.23524,     0.23624,     0.23724,     0.23824,     0.23924,\n",
              "           0.24024,     0.24124,     0.24224,     0.24324,     0.24424,     0.24525,     0.24625,     0.24725,     0.24825,     0.24925,     0.25025,     0.25125,     0.25225,     0.25325,     0.25425,     0.25526,     0.25626,     0.25726,     0.25826,     0.25926,     0.26026,     0.26126,     0.26226,     0.26326,\n",
              "           0.26426,     0.26527,     0.26627,     0.26727,     0.26827,     0.26927,     0.27027,     0.27127,     0.27227,     0.27327,     0.27427,     0.27528,     0.27628,     0.27728,     0.27828,     0.27928,     0.28028,     0.28128,     0.28228,     0.28328,     0.28428,     0.28529,     0.28629,     0.28729,\n",
              "           0.28829,     0.28929,     0.29029,     0.29129,     0.29229,     0.29329,     0.29429,      0.2953,      0.2963,      0.2973,      0.2983,      0.2993,      0.3003,      0.3013,      0.3023,      0.3033,      0.3043,     0.30531,     0.30631,     0.30731,     0.30831,     0.30931,     0.31031,     0.31131,\n",
              "           0.31231,     0.31331,     0.31431,     0.31532,     0.31632,     0.31732,     0.31832,     0.31932,     0.32032,     0.32132,     0.32232,     0.32332,     0.32432,     0.32533,     0.32633,     0.32733,     0.32833,     0.32933,     0.33033,     0.33133,     0.33233,     0.33333,     0.33433,     0.33534,\n",
              "           0.33634,     0.33734,     0.33834,     0.33934,     0.34034,     0.34134,     0.34234,     0.34334,     0.34434,     0.34535,     0.34635,     0.34735,     0.34835,     0.34935,     0.35035,     0.35135,     0.35235,     0.35335,     0.35435,     0.35536,     0.35636,     0.35736,     0.35836,     0.35936,\n",
              "           0.36036,     0.36136,     0.36236,     0.36336,     0.36436,     0.36537,     0.36637,     0.36737,     0.36837,     0.36937,     0.37037,     0.37137,     0.37237,     0.37337,     0.37437,     0.37538,     0.37638,     0.37738,     0.37838,     0.37938,     0.38038,     0.38138,     0.38238,     0.38338,\n",
              "           0.38438,     0.38539,     0.38639,     0.38739,     0.38839,     0.38939,     0.39039,     0.39139,     0.39239,     0.39339,     0.39439,      0.3954,      0.3964,      0.3974,      0.3984,      0.3994,      0.4004,      0.4014,      0.4024,      0.4034,      0.4044,     0.40541,     0.40641,     0.40741,\n",
              "           0.40841,     0.40941,     0.41041,     0.41141,     0.41241,     0.41341,     0.41441,     0.41542,     0.41642,     0.41742,     0.41842,     0.41942,     0.42042,     0.42142,     0.42242,     0.42342,     0.42442,     0.42543,     0.42643,     0.42743,     0.42843,     0.42943,     0.43043,     0.43143,\n",
              "           0.43243,     0.43343,     0.43443,     0.43544,     0.43644,     0.43744,     0.43844,     0.43944,     0.44044,     0.44144,     0.44244,     0.44344,     0.44444,     0.44545,     0.44645,     0.44745,     0.44845,     0.44945,     0.45045,     0.45145,     0.45245,     0.45345,     0.45445,     0.45546,\n",
              "           0.45646,     0.45746,     0.45846,     0.45946,     0.46046,     0.46146,     0.46246,     0.46346,     0.46446,     0.46547,     0.46647,     0.46747,     0.46847,     0.46947,     0.47047,     0.47147,     0.47247,     0.47347,     0.47447,     0.47548,     0.47648,     0.47748,     0.47848,     0.47948,\n",
              "           0.48048,     0.48148,     0.48248,     0.48348,     0.48448,     0.48549,     0.48649,     0.48749,     0.48849,     0.48949,     0.49049,     0.49149,     0.49249,     0.49349,     0.49449,      0.4955,      0.4965,      0.4975,      0.4985,      0.4995,      0.5005,      0.5015,      0.5025,      0.5035,\n",
              "            0.5045,     0.50551,     0.50651,     0.50751,     0.50851,     0.50951,     0.51051,     0.51151,     0.51251,     0.51351,     0.51451,     0.51552,     0.51652,     0.51752,     0.51852,     0.51952,     0.52052,     0.52152,     0.52252,     0.52352,     0.52452,     0.52553,     0.52653,     0.52753,\n",
              "           0.52853,     0.52953,     0.53053,     0.53153,     0.53253,     0.53353,     0.53453,     0.53554,     0.53654,     0.53754,     0.53854,     0.53954,     0.54054,     0.54154,     0.54254,     0.54354,     0.54454,     0.54555,     0.54655,     0.54755,     0.54855,     0.54955,     0.55055,     0.55155,\n",
              "           0.55255,     0.55355,     0.55455,     0.55556,     0.55656,     0.55756,     0.55856,     0.55956,     0.56056,     0.56156,     0.56256,     0.56356,     0.56456,     0.56557,     0.56657,     0.56757,     0.56857,     0.56957,     0.57057,     0.57157,     0.57257,     0.57357,     0.57457,     0.57558,\n",
              "           0.57658,     0.57758,     0.57858,     0.57958,     0.58058,     0.58158,     0.58258,     0.58358,     0.58458,     0.58559,     0.58659,     0.58759,     0.58859,     0.58959,     0.59059,     0.59159,     0.59259,     0.59359,     0.59459,      0.5956,      0.5966,      0.5976,      0.5986,      0.5996,\n",
              "            0.6006,      0.6016,      0.6026,      0.6036,      0.6046,     0.60561,     0.60661,     0.60761,     0.60861,     0.60961,     0.61061,     0.61161,     0.61261,     0.61361,     0.61461,     0.61562,     0.61662,     0.61762,     0.61862,     0.61962,     0.62062,     0.62162,     0.62262,     0.62362,\n",
              "           0.62462,     0.62563,     0.62663,     0.62763,     0.62863,     0.62963,     0.63063,     0.63163,     0.63263,     0.63363,     0.63463,     0.63564,     0.63664,     0.63764,     0.63864,     0.63964,     0.64064,     0.64164,     0.64264,     0.64364,     0.64464,     0.64565,     0.64665,     0.64765,\n",
              "           0.64865,     0.64965,     0.65065,     0.65165,     0.65265,     0.65365,     0.65465,     0.65566,     0.65666,     0.65766,     0.65866,     0.65966,     0.66066,     0.66166,     0.66266,     0.66366,     0.66466,     0.66567,     0.66667,     0.66767,     0.66867,     0.66967,     0.67067,     0.67167,\n",
              "           0.67267,     0.67367,     0.67467,     0.67568,     0.67668,     0.67768,     0.67868,     0.67968,     0.68068,     0.68168,     0.68268,     0.68368,     0.68468,     0.68569,     0.68669,     0.68769,     0.68869,     0.68969,     0.69069,     0.69169,     0.69269,     0.69369,     0.69469,      0.6957,\n",
              "            0.6967,      0.6977,      0.6987,      0.6997,      0.7007,      0.7017,      0.7027,      0.7037,      0.7047,     0.70571,     0.70671,     0.70771,     0.70871,     0.70971,     0.71071,     0.71171,     0.71271,     0.71371,     0.71471,     0.71572,     0.71672,     0.71772,     0.71872,     0.71972,\n",
              "           0.72072,     0.72172,     0.72272,     0.72372,     0.72472,     0.72573,     0.72673,     0.72773,     0.72873,     0.72973,     0.73073,     0.73173,     0.73273,     0.73373,     0.73473,     0.73574,     0.73674,     0.73774,     0.73874,     0.73974,     0.74074,     0.74174,     0.74274,     0.74374,\n",
              "           0.74474,     0.74575,     0.74675,     0.74775,     0.74875,     0.74975,     0.75075,     0.75175,     0.75275,     0.75375,     0.75475,     0.75576,     0.75676,     0.75776,     0.75876,     0.75976,     0.76076,     0.76176,     0.76276,     0.76376,     0.76476,     0.76577,     0.76677,     0.76777,\n",
              "           0.76877,     0.76977,     0.77077,     0.77177,     0.77277,     0.77377,     0.77477,     0.77578,     0.77678,     0.77778,     0.77878,     0.77978,     0.78078,     0.78178,     0.78278,     0.78378,     0.78478,     0.78579,     0.78679,     0.78779,     0.78879,     0.78979,     0.79079,     0.79179,\n",
              "           0.79279,     0.79379,     0.79479,      0.7958,      0.7968,      0.7978,      0.7988,      0.7998,      0.8008,      0.8018,      0.8028,      0.8038,      0.8048,     0.80581,     0.80681,     0.80781,     0.80881,     0.80981,     0.81081,     0.81181,     0.81281,     0.81381,     0.81481,     0.81582,\n",
              "           0.81682,     0.81782,     0.81882,     0.81982,     0.82082,     0.82182,     0.82282,     0.82382,     0.82482,     0.82583,     0.82683,     0.82783,     0.82883,     0.82983,     0.83083,     0.83183,     0.83283,     0.83383,     0.83483,     0.83584,     0.83684,     0.83784,     0.83884,     0.83984,\n",
              "           0.84084,     0.84184,     0.84284,     0.84384,     0.84484,     0.84585,     0.84685,     0.84785,     0.84885,     0.84985,     0.85085,     0.85185,     0.85285,     0.85385,     0.85485,     0.85586,     0.85686,     0.85786,     0.85886,     0.85986,     0.86086,     0.86186,     0.86286,     0.86386,\n",
              "           0.86486,     0.86587,     0.86687,     0.86787,     0.86887,     0.86987,     0.87087,     0.87187,     0.87287,     0.87387,     0.87487,     0.87588,     0.87688,     0.87788,     0.87888,     0.87988,     0.88088,     0.88188,     0.88288,     0.88388,     0.88488,     0.88589,     0.88689,     0.88789,\n",
              "           0.88889,     0.88989,     0.89089,     0.89189,     0.89289,     0.89389,     0.89489,      0.8959,      0.8969,      0.8979,      0.8989,      0.8999,      0.9009,      0.9019,      0.9029,      0.9039,      0.9049,     0.90591,     0.90691,     0.90791,     0.90891,     0.90991,     0.91091,     0.91191,\n",
              "           0.91291,     0.91391,     0.91491,     0.91592,     0.91692,     0.91792,     0.91892,     0.91992,     0.92092,     0.92192,     0.92292,     0.92392,     0.92492,     0.92593,     0.92693,     0.92793,     0.92893,     0.92993,     0.93093,     0.93193,     0.93293,     0.93393,     0.93493,     0.93594,\n",
              "           0.93694,     0.93794,     0.93894,     0.93994,     0.94094,     0.94194,     0.94294,     0.94394,     0.94494,     0.94595,     0.94695,     0.94795,     0.94895,     0.94995,     0.95095,     0.95195,     0.95295,     0.95395,     0.95495,     0.95596,     0.95696,     0.95796,     0.95896,     0.95996,\n",
              "           0.96096,     0.96196,     0.96296,     0.96396,     0.96496,     0.96597,     0.96697,     0.96797,     0.96897,     0.96997,     0.97097,     0.97197,     0.97297,     0.97397,     0.97497,     0.97598,     0.97698,     0.97798,     0.97898,     0.97998,     0.98098,     0.98198,     0.98298,     0.98398,\n",
              "           0.98498,     0.98599,     0.98699,     0.98799,     0.98899,     0.98999,     0.99099,     0.99199,     0.99299,     0.99399,     0.99499,       0.996,       0.997,       0.998,       0.999,           1]), array([[          1,           1,           1,           1,           1,           1,           1,           1,           1,           1,           1,           1,           1,           1,           1,           1,           1,           1,           1,           1,           1,           1,           1,\n",
              "                  1,           1,           1,           1,           1,           1,           1,           1,           1,           1,           1,           1,           1,           1,           1,           1,           1,           1,           1,           1,           1,           1,           1,\n",
              "                  1,           1,           1,           1,           1,           1,           1,           1,           1,           1,           1,           1,           1,           1,           1,           1,           1,           1,           1,           1,           1,           1,           1,\n",
              "                  1,           1,           1,           1,           1,           1,           1,           1,           1,           1,           1,           1,           1,           1,           1,           1,           1,           1,           1,           1,           1,           1,           1,\n",
              "                  1,           1,           1,           1,           1,           1,           1,           1,           1,           1,           1,           1,           1,           1,           1,           1,           1,           1,           1,           1,           1,           1,           1,\n",
              "                  1,           1,           1,           1,           1,           1,           1,           1,           1,           1,           1,           1,           1,           1,           1,           1,           1,           1,           1,           1,           1,           1,           1,\n",
              "                  1,           1,           1,           1,           1,           1,           1,           1,           1,           1,           1,           1,           1,           1,           1,           1,           1,           1,           1,           1,           1,           1,           1,\n",
              "                  1,           1,           1,           1,           1,           1,           1,           1,           1,           1,           1,           1,           1,           1,           1,           1,           1,           1,           1,           1,           1,           1,           1,\n",
              "                  1,           1,           1,           1,           1,           1,           1,           1,           1,           1,           1,           1,           1,           1,           1,           1,           1,           1,           1,           1,           1,           1,           1,\n",
              "                  1,           1,           1,           1,           1,           1,           1,           1,           1,           1,           1,           1,           1,           1,           1,           1,           1,           1,           1,           1,           1,           1,           1,\n",
              "                  1,           1,           1,           1,           1,           1,           1,           1,           1,           1,           1,           1,           1,           1,           1,           1,           1,           1,           1,           1,           1,           1,           1,\n",
              "                  1,           1,           1,           1,           1,           1,           1,           1,           1,           1,           1,           1,           1,           1,           1,           1,           1,           1,           1,           1,           1,           1,           1,\n",
              "                  1,           1,           1,           1,           1,           1,           1,           1,           1,           1,           1,           1,           1,           1,           1,           1,           1,           1,           1,           1,           1,           1,           1,\n",
              "                  1,           1,           1,           1,           1,           1,           1,           1,           1,           1,           1,           1,           1,           1,           1,           1,           1,           1,           1,           1,           1,           1,           1,\n",
              "                  1,           1,           1,           1,           1,           1,           1,           1,           1,           1,           1,           1,           1,           1,           1,           1,           1,           1,           1,           1,           1,           1,           1,\n",
              "                  1,           1,           1,           1,           1,           1,           1,           1,           1,           1,           1,           1,           1,           1,           1,           1,           1,           1,           1,           1,           1,           1,           1,\n",
              "                  1,           1,           1,           1,           1,           1,           1,           1,           1,           1,           1,           1,           1,           1,           1,           1,           1,           1,           1,           1,           1,           1,           1,\n",
              "                  1,           1,           1,           1,           1,           1,           1,           1,           1,           1,           1,           1,           1,           1,           1,           1,           1,           1,           1,           1,           1,           1,           1,\n",
              "                  1,           1,           1,           1,           1,           1,           1,           1,           1,           1,           1,           1,           1,           1,           1,           1,           1,           1,           1,           1,           1,           1,           1,\n",
              "                  1,           1,           1,           1,           1,           1,           1,           1,           1,           1,           1,           1,           1,           1,           1,           1,           1,           1,           1,           1,           1,           1,           1,\n",
              "                  1,           1,           1,           1,           1,           1,           1,           1,           1,           1,           1,           1,           1,           1,           1,           1,           1,           1,           1,           1,           1,           1,           1,\n",
              "                  1,           1,           1,           1,           1,           1,           1,           1,           1,           1,           1,           1,           1,           1,           1,           1,           1,           1,           1,           1,           1,           1,           1,\n",
              "                  1,           1,           1,           1,           1,           1,           1,           1,           1,           1,           1,           1,           1,           1,           1,           1,           1,           1,           1,           1,           1,           1,           1,\n",
              "                  1,           1,           1,           1,           1,           1,           1,           1,           1,           1,           1,           1,           1,           1,           1,           1,           1,           1,           1,           1,           1,           1,           1,\n",
              "                  1,           1,           1,           1,           1,           1,           1,           1,           1,           1,           1,           1,           1,           1,           1,           1,           1,           1,           1,           1,           1,           1,           1,\n",
              "                  1,           1,           1,           1,           1,           1,           1,           1,           1,           1,           1,           1,           1,           1,           1,           1,           1,           1,           1,           1,           1,           1,           1,\n",
              "                  1,           1,           1,           1,           1,           1,           1,           1,           1,           1,           1,           1,           1,           1,           1,           1,           1,           1,           1,           1,           1,           1,           1,\n",
              "                  1,           1,           1,           1,           1,           1,           1,           1,           1,           1,           1,           1,           1,           1,           1,           1,           1,           1,           1,           1,           1,           1,           1,\n",
              "                  1,           1,           1,           1,           1,           1,           1,           1,           1,           1,           1,           1,           1,           1,           1,           1,           1,           1,           1,           1,           1,           1,           1,\n",
              "                  1,           1,           1,           1,           1,           1,           1,           1,           1,           1,           1,           1,           1,           1,           1,           1,           1,           1,           1,           1,           1,           1,           1,\n",
              "                  1,           1,           1,           1,           1,           1,           1,           1,           1,           1,           1,           1,           1,           1,           1,           1,           1,           1,           1,           1,           1,           1,           1,\n",
              "                  1,           1,           1,           1,           1,           1,           1,           1,           1,           1,           1,           1,     0.97674,     0.97674,     0.97674,     0.97674,     0.97674,     0.97674,     0.97674,     0.97674,     0.97674,     0.97674,     0.97674,\n",
              "            0.97674,     0.97674,     0.97674,     0.97674,     0.97674,     0.97674,     0.97674,     0.97674,     0.97674,     0.97674,     0.97674,     0.97674,     0.97674,     0.97674,     0.97674,     0.97674,     0.97674,     0.97674,     0.97674,     0.97674,     0.97674,     0.97674,     0.97674,\n",
              "            0.97674,     0.97674,     0.97674,     0.97674,     0.97674,     0.97674,     0.97674,     0.97674,     0.97674,     0.97674,     0.97674,     0.97674,     0.97674,     0.97674,     0.97674,     0.97674,     0.97674,     0.97674,     0.97674,     0.97674,     0.97674,     0.97674,     0.97674,\n",
              "            0.97674,     0.97674,     0.97674,     0.97674,     0.97674,     0.97674,     0.97674,     0.97674,     0.97674,     0.97674,     0.97674,     0.97674,     0.97674,     0.97674,     0.97674,     0.97674,     0.97674,     0.97674,     0.97674,     0.97674,     0.97674,     0.97674,     0.97674,\n",
              "            0.97674,     0.97674,     0.97674,     0.97674,     0.97674,     0.97674,     0.97674,     0.97674,     0.97674,     0.97674,     0.97674,     0.97674,     0.97674,     0.97674,     0.97674,     0.97674,     0.97674,     0.97674,     0.95745,     0.95745,     0.95745,     0.95745,     0.95745,\n",
              "            0.95745,     0.95745,     0.95745,     0.95745,     0.95745,     0.95745,     0.95745,     0.95745,     0.95745,     0.95745,     0.95745,     0.95745,     0.95745,     0.95745,     0.95745,     0.95745,     0.95745,     0.95745,     0.95745,     0.95745,     0.95745,     0.95745,     0.95745,\n",
              "            0.95745,     0.95745,     0.95745,     0.95745,     0.95745,     0.95745,     0.95745,     0.95745,     0.95745,     0.95745,     0.95745,     0.95745,     0.95745,     0.95745,     0.95745,     0.95745,     0.95745,     0.95745,     0.95745,     0.95745,     0.95745,     0.95745,     0.95745,\n",
              "            0.95745,     0.95745,     0.95745,     0.95745,     0.95745,     0.95745,     0.95745,     0.95745,     0.93878,     0.93878,     0.93878,     0.93878,     0.93878,     0.93878,     0.93878,     0.93878,     0.93878,     0.93878,     0.93878,     0.93878,     0.93878,     0.93878,     0.93878,\n",
              "            0.93878,     0.93878,     0.93878,     0.93878,     0.93878,     0.88889,     0.88889,     0.88889,     0.88889,     0.88889,     0.88889,     0.88889,     0.88889,     0.88889,     0.88889,     0.88889,     0.88889,     0.88889,     0.88889,     0.88889,     0.88889,     0.88889,     0.88889,\n",
              "            0.88889,     0.88889,     0.88889,     0.88889,     0.88889,     0.88889,     0.88889,     0.88889,     0.88889,     0.88889,     0.88889,     0.88889,     0.88889,     0.88889,     0.88889,     0.88889,     0.88889,     0.88889,     0.88889,     0.88889,     0.88889,       0.875,       0.875,\n",
              "              0.875,       0.875,       0.875,       0.875,       0.875,       0.875,       0.875,       0.875,       0.875,       0.875,       0.875,       0.875,       0.875,       0.875,       0.875,       0.875,       0.875,     0.81967,     0.81967,     0.81967,     0.81967,     0.81967,     0.81967,\n",
              "            0.81967,     0.81967,     0.81967,     0.81967,     0.81967,     0.81967,     0.81967,     0.81967,     0.81967,     0.81967,     0.81967,     0.81967,     0.81967,     0.81967,   0.0041791,   0.0039592,   0.0037392,   0.0035192,   0.0032993,   0.0030793,   0.0028594,   0.0026394,   0.0024195,\n",
              "          0.0021995,   0.0019796,   0.0017596,   0.0015397,   0.0013197,   0.0010998,  0.00087981,  0.00065986,  0.00043991,  0.00021995,           0]]), 'Recall', 'Precision'], [array([          0,    0.001001,    0.002002,    0.003003,    0.004004,    0.005005,    0.006006,    0.007007,    0.008008,    0.009009,     0.01001,    0.011011,    0.012012,    0.013013,    0.014014,    0.015015,    0.016016,    0.017017,    0.018018,    0.019019,     0.02002,    0.021021,    0.022022,    0.023023,\n",
              "          0.024024,    0.025025,    0.026026,    0.027027,    0.028028,    0.029029,     0.03003,    0.031031,    0.032032,    0.033033,    0.034034,    0.035035,    0.036036,    0.037037,    0.038038,    0.039039,     0.04004,    0.041041,    0.042042,    0.043043,    0.044044,    0.045045,    0.046046,    0.047047,\n",
              "          0.048048,    0.049049,     0.05005,    0.051051,    0.052052,    0.053053,    0.054054,    0.055055,    0.056056,    0.057057,    0.058058,    0.059059,     0.06006,    0.061061,    0.062062,    0.063063,    0.064064,    0.065065,    0.066066,    0.067067,    0.068068,    0.069069,     0.07007,    0.071071,\n",
              "          0.072072,    0.073073,    0.074074,    0.075075,    0.076076,    0.077077,    0.078078,    0.079079,     0.08008,    0.081081,    0.082082,    0.083083,    0.084084,    0.085085,    0.086086,    0.087087,    0.088088,    0.089089,     0.09009,    0.091091,    0.092092,    0.093093,    0.094094,    0.095095,\n",
              "          0.096096,    0.097097,    0.098098,    0.099099,      0.1001,      0.1011,      0.1021,      0.1031,      0.1041,     0.10511,     0.10611,     0.10711,     0.10811,     0.10911,     0.11011,     0.11111,     0.11211,     0.11311,     0.11411,     0.11512,     0.11612,     0.11712,     0.11812,     0.11912,\n",
              "           0.12012,     0.12112,     0.12212,     0.12312,     0.12412,     0.12513,     0.12613,     0.12713,     0.12813,     0.12913,     0.13013,     0.13113,     0.13213,     0.13313,     0.13413,     0.13514,     0.13614,     0.13714,     0.13814,     0.13914,     0.14014,     0.14114,     0.14214,     0.14314,\n",
              "           0.14414,     0.14515,     0.14615,     0.14715,     0.14815,     0.14915,     0.15015,     0.15115,     0.15215,     0.15315,     0.15415,     0.15516,     0.15616,     0.15716,     0.15816,     0.15916,     0.16016,     0.16116,     0.16216,     0.16316,     0.16416,     0.16517,     0.16617,     0.16717,\n",
              "           0.16817,     0.16917,     0.17017,     0.17117,     0.17217,     0.17317,     0.17417,     0.17518,     0.17618,     0.17718,     0.17818,     0.17918,     0.18018,     0.18118,     0.18218,     0.18318,     0.18418,     0.18519,     0.18619,     0.18719,     0.18819,     0.18919,     0.19019,     0.19119,\n",
              "           0.19219,     0.19319,     0.19419,      0.1952,      0.1962,      0.1972,      0.1982,      0.1992,      0.2002,      0.2012,      0.2022,      0.2032,      0.2042,     0.20521,     0.20621,     0.20721,     0.20821,     0.20921,     0.21021,     0.21121,     0.21221,     0.21321,     0.21421,     0.21522,\n",
              "           0.21622,     0.21722,     0.21822,     0.21922,     0.22022,     0.22122,     0.22222,     0.22322,     0.22422,     0.22523,     0.22623,     0.22723,     0.22823,     0.22923,     0.23023,     0.23123,     0.23223,     0.23323,     0.23423,     0.23524,     0.23624,     0.23724,     0.23824,     0.23924,\n",
              "           0.24024,     0.24124,     0.24224,     0.24324,     0.24424,     0.24525,     0.24625,     0.24725,     0.24825,     0.24925,     0.25025,     0.25125,     0.25225,     0.25325,     0.25425,     0.25526,     0.25626,     0.25726,     0.25826,     0.25926,     0.26026,     0.26126,     0.26226,     0.26326,\n",
              "           0.26426,     0.26527,     0.26627,     0.26727,     0.26827,     0.26927,     0.27027,     0.27127,     0.27227,     0.27327,     0.27427,     0.27528,     0.27628,     0.27728,     0.27828,     0.27928,     0.28028,     0.28128,     0.28228,     0.28328,     0.28428,     0.28529,     0.28629,     0.28729,\n",
              "           0.28829,     0.28929,     0.29029,     0.29129,     0.29229,     0.29329,     0.29429,      0.2953,      0.2963,      0.2973,      0.2983,      0.2993,      0.3003,      0.3013,      0.3023,      0.3033,      0.3043,     0.30531,     0.30631,     0.30731,     0.30831,     0.30931,     0.31031,     0.31131,\n",
              "           0.31231,     0.31331,     0.31431,     0.31532,     0.31632,     0.31732,     0.31832,     0.31932,     0.32032,     0.32132,     0.32232,     0.32332,     0.32432,     0.32533,     0.32633,     0.32733,     0.32833,     0.32933,     0.33033,     0.33133,     0.33233,     0.33333,     0.33433,     0.33534,\n",
              "           0.33634,     0.33734,     0.33834,     0.33934,     0.34034,     0.34134,     0.34234,     0.34334,     0.34434,     0.34535,     0.34635,     0.34735,     0.34835,     0.34935,     0.35035,     0.35135,     0.35235,     0.35335,     0.35435,     0.35536,     0.35636,     0.35736,     0.35836,     0.35936,\n",
              "           0.36036,     0.36136,     0.36236,     0.36336,     0.36436,     0.36537,     0.36637,     0.36737,     0.36837,     0.36937,     0.37037,     0.37137,     0.37237,     0.37337,     0.37437,     0.37538,     0.37638,     0.37738,     0.37838,     0.37938,     0.38038,     0.38138,     0.38238,     0.38338,\n",
              "           0.38438,     0.38539,     0.38639,     0.38739,     0.38839,     0.38939,     0.39039,     0.39139,     0.39239,     0.39339,     0.39439,      0.3954,      0.3964,      0.3974,      0.3984,      0.3994,      0.4004,      0.4014,      0.4024,      0.4034,      0.4044,     0.40541,     0.40641,     0.40741,\n",
              "           0.40841,     0.40941,     0.41041,     0.41141,     0.41241,     0.41341,     0.41441,     0.41542,     0.41642,     0.41742,     0.41842,     0.41942,     0.42042,     0.42142,     0.42242,     0.42342,     0.42442,     0.42543,     0.42643,     0.42743,     0.42843,     0.42943,     0.43043,     0.43143,\n",
              "           0.43243,     0.43343,     0.43443,     0.43544,     0.43644,     0.43744,     0.43844,     0.43944,     0.44044,     0.44144,     0.44244,     0.44344,     0.44444,     0.44545,     0.44645,     0.44745,     0.44845,     0.44945,     0.45045,     0.45145,     0.45245,     0.45345,     0.45445,     0.45546,\n",
              "           0.45646,     0.45746,     0.45846,     0.45946,     0.46046,     0.46146,     0.46246,     0.46346,     0.46446,     0.46547,     0.46647,     0.46747,     0.46847,     0.46947,     0.47047,     0.47147,     0.47247,     0.47347,     0.47447,     0.47548,     0.47648,     0.47748,     0.47848,     0.47948,\n",
              "           0.48048,     0.48148,     0.48248,     0.48348,     0.48448,     0.48549,     0.48649,     0.48749,     0.48849,     0.48949,     0.49049,     0.49149,     0.49249,     0.49349,     0.49449,      0.4955,      0.4965,      0.4975,      0.4985,      0.4995,      0.5005,      0.5015,      0.5025,      0.5035,\n",
              "            0.5045,     0.50551,     0.50651,     0.50751,     0.50851,     0.50951,     0.51051,     0.51151,     0.51251,     0.51351,     0.51451,     0.51552,     0.51652,     0.51752,     0.51852,     0.51952,     0.52052,     0.52152,     0.52252,     0.52352,     0.52452,     0.52553,     0.52653,     0.52753,\n",
              "           0.52853,     0.52953,     0.53053,     0.53153,     0.53253,     0.53353,     0.53453,     0.53554,     0.53654,     0.53754,     0.53854,     0.53954,     0.54054,     0.54154,     0.54254,     0.54354,     0.54454,     0.54555,     0.54655,     0.54755,     0.54855,     0.54955,     0.55055,     0.55155,\n",
              "           0.55255,     0.55355,     0.55455,     0.55556,     0.55656,     0.55756,     0.55856,     0.55956,     0.56056,     0.56156,     0.56256,     0.56356,     0.56456,     0.56557,     0.56657,     0.56757,     0.56857,     0.56957,     0.57057,     0.57157,     0.57257,     0.57357,     0.57457,     0.57558,\n",
              "           0.57658,     0.57758,     0.57858,     0.57958,     0.58058,     0.58158,     0.58258,     0.58358,     0.58458,     0.58559,     0.58659,     0.58759,     0.58859,     0.58959,     0.59059,     0.59159,     0.59259,     0.59359,     0.59459,      0.5956,      0.5966,      0.5976,      0.5986,      0.5996,\n",
              "            0.6006,      0.6016,      0.6026,      0.6036,      0.6046,     0.60561,     0.60661,     0.60761,     0.60861,     0.60961,     0.61061,     0.61161,     0.61261,     0.61361,     0.61461,     0.61562,     0.61662,     0.61762,     0.61862,     0.61962,     0.62062,     0.62162,     0.62262,     0.62362,\n",
              "           0.62462,     0.62563,     0.62663,     0.62763,     0.62863,     0.62963,     0.63063,     0.63163,     0.63263,     0.63363,     0.63463,     0.63564,     0.63664,     0.63764,     0.63864,     0.63964,     0.64064,     0.64164,     0.64264,     0.64364,     0.64464,     0.64565,     0.64665,     0.64765,\n",
              "           0.64865,     0.64965,     0.65065,     0.65165,     0.65265,     0.65365,     0.65465,     0.65566,     0.65666,     0.65766,     0.65866,     0.65966,     0.66066,     0.66166,     0.66266,     0.66366,     0.66466,     0.66567,     0.66667,     0.66767,     0.66867,     0.66967,     0.67067,     0.67167,\n",
              "           0.67267,     0.67367,     0.67467,     0.67568,     0.67668,     0.67768,     0.67868,     0.67968,     0.68068,     0.68168,     0.68268,     0.68368,     0.68468,     0.68569,     0.68669,     0.68769,     0.68869,     0.68969,     0.69069,     0.69169,     0.69269,     0.69369,     0.69469,      0.6957,\n",
              "            0.6967,      0.6977,      0.6987,      0.6997,      0.7007,      0.7017,      0.7027,      0.7037,      0.7047,     0.70571,     0.70671,     0.70771,     0.70871,     0.70971,     0.71071,     0.71171,     0.71271,     0.71371,     0.71471,     0.71572,     0.71672,     0.71772,     0.71872,     0.71972,\n",
              "           0.72072,     0.72172,     0.72272,     0.72372,     0.72472,     0.72573,     0.72673,     0.72773,     0.72873,     0.72973,     0.73073,     0.73173,     0.73273,     0.73373,     0.73473,     0.73574,     0.73674,     0.73774,     0.73874,     0.73974,     0.74074,     0.74174,     0.74274,     0.74374,\n",
              "           0.74474,     0.74575,     0.74675,     0.74775,     0.74875,     0.74975,     0.75075,     0.75175,     0.75275,     0.75375,     0.75475,     0.75576,     0.75676,     0.75776,     0.75876,     0.75976,     0.76076,     0.76176,     0.76276,     0.76376,     0.76476,     0.76577,     0.76677,     0.76777,\n",
              "           0.76877,     0.76977,     0.77077,     0.77177,     0.77277,     0.77377,     0.77477,     0.77578,     0.77678,     0.77778,     0.77878,     0.77978,     0.78078,     0.78178,     0.78278,     0.78378,     0.78478,     0.78579,     0.78679,     0.78779,     0.78879,     0.78979,     0.79079,     0.79179,\n",
              "           0.79279,     0.79379,     0.79479,      0.7958,      0.7968,      0.7978,      0.7988,      0.7998,      0.8008,      0.8018,      0.8028,      0.8038,      0.8048,     0.80581,     0.80681,     0.80781,     0.80881,     0.80981,     0.81081,     0.81181,     0.81281,     0.81381,     0.81481,     0.81582,\n",
              "           0.81682,     0.81782,     0.81882,     0.81982,     0.82082,     0.82182,     0.82282,     0.82382,     0.82482,     0.82583,     0.82683,     0.82783,     0.82883,     0.82983,     0.83083,     0.83183,     0.83283,     0.83383,     0.83483,     0.83584,     0.83684,     0.83784,     0.83884,     0.83984,\n",
              "           0.84084,     0.84184,     0.84284,     0.84384,     0.84484,     0.84585,     0.84685,     0.84785,     0.84885,     0.84985,     0.85085,     0.85185,     0.85285,     0.85385,     0.85485,     0.85586,     0.85686,     0.85786,     0.85886,     0.85986,     0.86086,     0.86186,     0.86286,     0.86386,\n",
              "           0.86486,     0.86587,     0.86687,     0.86787,     0.86887,     0.86987,     0.87087,     0.87187,     0.87287,     0.87387,     0.87487,     0.87588,     0.87688,     0.87788,     0.87888,     0.87988,     0.88088,     0.88188,     0.88288,     0.88388,     0.88488,     0.88589,     0.88689,     0.88789,\n",
              "           0.88889,     0.88989,     0.89089,     0.89189,     0.89289,     0.89389,     0.89489,      0.8959,      0.8969,      0.8979,      0.8989,      0.8999,      0.9009,      0.9019,      0.9029,      0.9039,      0.9049,     0.90591,     0.90691,     0.90791,     0.90891,     0.90991,     0.91091,     0.91191,\n",
              "           0.91291,     0.91391,     0.91491,     0.91592,     0.91692,     0.91792,     0.91892,     0.91992,     0.92092,     0.92192,     0.92292,     0.92392,     0.92492,     0.92593,     0.92693,     0.92793,     0.92893,     0.92993,     0.93093,     0.93193,     0.93293,     0.93393,     0.93493,     0.93594,\n",
              "           0.93694,     0.93794,     0.93894,     0.93994,     0.94094,     0.94194,     0.94294,     0.94394,     0.94494,     0.94595,     0.94695,     0.94795,     0.94895,     0.94995,     0.95095,     0.95195,     0.95295,     0.95395,     0.95495,     0.95596,     0.95696,     0.95796,     0.95896,     0.95996,\n",
              "           0.96096,     0.96196,     0.96296,     0.96396,     0.96496,     0.96597,     0.96697,     0.96797,     0.96897,     0.96997,     0.97097,     0.97197,     0.97297,     0.97397,     0.97497,     0.97598,     0.97698,     0.97798,     0.97898,     0.97998,     0.98098,     0.98198,     0.98298,     0.98398,\n",
              "           0.98498,     0.98599,     0.98699,     0.98799,     0.98899,     0.98999,     0.99099,     0.99199,     0.99299,     0.99399,     0.99499,       0.996,       0.997,       0.998,       0.999,           1]), array([[  0.0085793,   0.0085839,    0.011745,    0.030015,    0.086557,     0.13773,     0.16944,     0.20006,     0.22881,     0.25471,      0.2774,     0.29421,     0.31292,     0.33915,     0.35357,     0.36678,     0.37669,     0.39073,      0.4036,     0.42362,     0.43818,      0.4475,     0.45942,\n",
              "            0.46938,     0.47965,     0.48614,      0.4951,     0.49718,     0.49941,     0.50851,     0.51202,     0.53046,     0.53573,     0.53816,     0.53906,     0.53996,     0.54437,     0.55107,     0.55568,     0.56379,     0.56926,     0.57352,      0.5818,     0.58422,     0.58632,     0.58936,\n",
              "            0.60341,     0.61362,     0.61491,      0.6162,     0.61783,     0.62133,     0.62419,     0.63369,     0.63871,     0.64094,     0.65096,     0.65898,     0.66208,     0.66402,     0.66589,     0.66768,     0.66941,     0.67113,     0.67828,     0.68212,     0.68605,      0.6889,     0.69472,\n",
              "            0.69731,     0.69976,     0.70177,     0.70377,     0.70981,     0.71201,     0.71421,     0.71928,     0.72127,     0.72317,     0.72622,     0.73088,     0.73291,     0.73494,     0.73842,      0.7416,     0.74383,     0.74606,     0.75079,      0.7577,     0.75907,     0.76044,      0.7618,\n",
              "            0.76316,     0.76361,      0.7639,     0.76419,     0.76448,     0.76477,     0.76506,     0.76535,     0.76564,     0.76593,     0.76622,     0.76651,      0.7668,     0.76709,     0.76738,     0.76767,     0.76796,     0.76825,     0.76854,     0.76883,     0.76912,     0.77349,     0.77691,\n",
              "            0.77916,     0.78131,     0.78212,     0.78293,     0.78374,     0.78455,     0.78536,     0.78616,     0.78697,     0.78918,     0.79302,     0.79378,     0.79393,     0.79409,     0.79424,     0.79439,     0.79455,      0.7947,     0.79486,     0.79501,     0.79516,     0.79532,     0.79547,\n",
              "            0.79562,     0.79578,     0.79593,     0.79608,     0.79624,     0.79639,     0.79654,      0.7967,     0.79685,       0.797,     0.79716,     0.79731,     0.79746,     0.79761,     0.79777,     0.79792,     0.79807,     0.79823,     0.79838,     0.79853,     0.79868,     0.79884,     0.79899,\n",
              "            0.79914,     0.79929,     0.79945,      0.7996,     0.79975,      0.7999,     0.80032,      0.8012,     0.80208,     0.80296,     0.80383,     0.80471,     0.80558,     0.80646,     0.81016,     0.81459,     0.81987,     0.82058,      0.8213,     0.82201,     0.82273,     0.82344,     0.82415,\n",
              "            0.82487,     0.82558,     0.82629,     0.83175,     0.83356,     0.83385,     0.83414,     0.83444,     0.83473,     0.83502,     0.83531,      0.8356,      0.8359,     0.83619,     0.83648,     0.83677,     0.83706,     0.83735,     0.83764,     0.83793,     0.83822,     0.83852,     0.83881,\n",
              "             0.8391,     0.83939,     0.83968,     0.83996,     0.84025,     0.84757,     0.84787,     0.84816,     0.84846,     0.84875,     0.84905,     0.84934,     0.84964,     0.84993,     0.85023,     0.85052,     0.85081,     0.85111,      0.8514,     0.85169,     0.85199,     0.85228,     0.85257,\n",
              "            0.85287,     0.85316,     0.85345,     0.85374,     0.85404,     0.85433,     0.85462,     0.85678,     0.85967,     0.86233,     0.86395,     0.86556,     0.86716,     0.86876,     0.86974,     0.87009,     0.87043,     0.87078,     0.87113,     0.87148,     0.87182,     0.87217,     0.87252,\n",
              "            0.87287,     0.87321,     0.87356,      0.8739,     0.87425,     0.87459,     0.87494,     0.87528,     0.87563,     0.87597,     0.87632,     0.87666,     0.87701,     0.87728,     0.87746,     0.87764,     0.87782,       0.878,     0.87818,     0.87836,     0.87855,     0.87873,     0.87891,\n",
              "            0.87909,     0.87927,     0.87945,     0.87963,     0.87981,     0.87999,     0.88017,     0.88035,     0.88053,     0.88071,      0.8809,     0.88108,     0.88126,     0.88144,     0.88162,      0.8818,     0.88198,     0.88216,     0.88234,     0.88252,      0.8827,     0.88288,     0.88305,\n",
              "            0.88323,     0.88341,     0.88359,     0.88377,     0.88395,     0.88413,     0.88431,     0.88449,     0.88467,     0.88485,      0.8851,     0.88546,     0.88581,     0.88617,     0.88653,     0.88689,     0.88724,      0.8876,     0.88796,     0.88831,     0.88867,     0.88902,     0.88938,\n",
              "            0.88973,     0.89009,     0.89044,      0.8908,     0.89115,     0.89151,     0.89186,     0.89221,     0.89257,     0.89255,     0.89077,     0.88899,      0.8872,     0.88541,     0.88362,     0.88291,     0.88297,     0.88302,     0.88308,     0.88313,     0.88319,     0.88324,     0.88329,\n",
              "            0.88335,      0.8834,     0.88346,     0.88351,     0.88357,     0.88362,     0.88367,     0.88373,     0.88378,     0.88384,     0.88389,     0.88394,       0.884,     0.88405,     0.88411,     0.88416,     0.88421,     0.88427,     0.88432,     0.88438,     0.88443,     0.88448,     0.88454,\n",
              "            0.88459,     0.88465,      0.8847,     0.88476,     0.88481,     0.88486,     0.88492,     0.88497,     0.88503,     0.88508,     0.88513,     0.88519,     0.88524,     0.88529,     0.88535,      0.8854,     0.88546,     0.88551,     0.88556,     0.88562,     0.88567,     0.88573,     0.88578,\n",
              "            0.88583,     0.88589,     0.88594,       0.886,     0.88605,      0.8861,     0.88616,     0.88621,     0.88627,     0.88632,     0.88637,     0.88643,     0.88648,     0.88653,     0.88659,     0.88664,      0.8867,     0.88675,      0.8868,     0.88686,     0.88691,     0.88697,     0.88702,\n",
              "            0.88707,     0.88713,     0.88718,     0.88723,     0.88729,     0.88734,      0.8874,     0.88745,      0.8875,     0.88756,     0.88761,     0.88766,     0.88772,     0.88777,     0.88783,     0.88788,     0.88793,     0.88799,     0.88804,     0.88809,     0.88815,      0.8882,     0.88825,\n",
              "            0.88831,     0.88836,     0.88842,     0.88847,     0.88852,     0.88858,     0.88863,     0.88868,     0.88874,     0.88879,     0.88884,      0.8889,     0.88895,     0.88901,     0.88906,     0.88911,     0.88917,     0.88922,     0.88927,     0.88933,     0.88938,     0.88943,     0.88949,\n",
              "            0.88954,     0.88959,     0.88965,      0.8897,     0.88975,     0.88981,     0.88986,     0.88992,     0.88997,     0.89002,     0.89008,     0.89013,     0.89018,     0.89024,     0.89029,     0.89034,      0.8904,     0.89045,      0.8905,     0.89056,     0.89061,     0.89066,     0.89072,\n",
              "            0.89077,     0.89082,     0.89088,     0.89104,     0.89138,     0.89171,     0.89205,     0.89238,     0.89271,     0.89305,     0.89338,     0.89371,     0.89405,     0.89438,     0.89471,     0.89504,     0.89538,     0.89571,     0.89604,     0.89637,      0.8967,     0.89703,     0.89736,\n",
              "            0.89769,     0.89802,     0.89835,     0.89868,     0.89901,     0.89994,     0.90104,     0.90214,     0.90323,     0.90432,     0.90541,     0.90649,     0.90766,     0.90933,       0.911,     0.91266,     0.91431,     0.91585,     0.91491,     0.91398,     0.91304,     0.91211,     0.91117,\n",
              "            0.91023,     0.90929,     0.90835,      0.9074,     0.90646,     0.90599,     0.90814,     0.91028,     0.91242,     0.91353,     0.90712,     0.90309,     0.90156,     0.90002,     0.89848,     0.89694,      0.8954,     0.89385,     0.89381,     0.89483,     0.89586,     0.89688,      0.8979,\n",
              "            0.89892,     0.89994,     0.90095,     0.90196,     0.90245,     0.90293,     0.90342,      0.9039,     0.90439,     0.90487,     0.90536,     0.90584,     0.90632,      0.9068,     0.90728,     0.90776,     0.90824,     0.90872,      0.9092,     0.90968,     0.91016,     0.91064,     0.91168,\n",
              "            0.91334,       0.915,     0.91665,     0.91829,     0.91993,      0.9198,     0.91959,     0.91939,     0.91918,     0.91897,     0.91876,     0.91855,     0.91835,     0.91814,     0.91793,     0.91772,     0.91751,     0.91731,      0.9171,     0.91689,     0.91668,     0.91647,     0.91626,\n",
              "            0.91605,     0.91585,     0.91564,     0.91543,     0.91522,     0.91501,      0.9148,     0.91459,     0.91438,     0.91417,     0.91396,     0.91375,     0.91354,     0.91333,     0.91312,     0.91291,     0.91271,      0.9125,     0.91229,     0.91208,     0.91186,     0.91165,     0.91144,\n",
              "            0.91123,     0.91102,     0.91081,      0.9106,     0.91039,     0.91018,     0.90997,     0.90976,     0.90955,     0.90934,     0.90913,     0.91605,     0.91809,      0.9177,     0.91731,     0.91691,     0.91652,     0.91613,     0.91574,     0.91535,     0.91496,     0.91456,     0.91417,\n",
              "            0.91378,     0.91338,     0.91299,      0.9126,      0.9122,     0.91181,     0.91141,     0.91102,     0.91062,     0.91023,     0.90983,     0.90944,     0.90904,     0.90864,     0.90825,     0.90785,     0.90745,     0.90627,     0.90391,     0.90153,     0.89915,     0.89677,      0.8953,\n",
              "            0.89443,     0.89355,     0.89268,      0.8918,     0.89092,     0.89004,     0.88916,     0.88827,     0.88739,     0.88651,     0.88562,     0.88473,     0.88427,     0.88442,     0.88456,     0.88471,     0.88486,       0.885,     0.88515,      0.8853,     0.88544,     0.88559,     0.88573,\n",
              "            0.88588,     0.88603,     0.88617,     0.88632,     0.88646,     0.88661,     0.88675,      0.8869,     0.88705,     0.88719,     0.88734,     0.88748,     0.88763,     0.88777,     0.88792,     0.88806,     0.88821,     0.88835,      0.8885,     0.88864,     0.88879,     0.88893,     0.88908,\n",
              "            0.88922,     0.88937,     0.88951,     0.88965,      0.8898,     0.88994,     0.89009,     0.89023,     0.89038,     0.89052,     0.89066,     0.89081,     0.89095,      0.8911,     0.89124,     0.89138,     0.89153,     0.89167,     0.89182,     0.89196,      0.8921,     0.89225,     0.89239,\n",
              "            0.89253,     0.89268,     0.89282,     0.89296,     0.89311,     0.89325,     0.89339,     0.89354,     0.89269,     0.89053,     0.88836,     0.88618,       0.884,      0.8818,     0.88078,     0.87981,     0.87883,     0.87785,     0.87687,     0.87589,      0.8749,     0.87392,     0.87293,\n",
              "            0.87194,     0.87095,     0.86996,     0.86785,     0.86502,     0.86217,     0.85931,     0.85679,     0.85535,     0.85391,     0.85247,     0.85102,     0.84957,     0.84812,     0.84666,      0.8452,     0.84358,     0.84177,     0.83996,     0.83815,     0.83633,      0.8345,     0.83267,\n",
              "            0.83175,     0.83261,     0.83347,     0.83433,     0.83518,     0.83603,     0.83688,     0.83773,     0.83857,     0.83941,     0.84025,     0.83995,     0.83536,     0.83074,     0.82725,     0.82618,     0.82512,     0.82405,     0.82299,     0.82192,     0.82085,     0.81977,      0.8187,\n",
              "            0.81762,     0.81654,     0.81546,     0.81437,     0.80977,     0.80287,     0.79912,     0.79761,      0.7961,     0.79458,     0.79307,     0.79154,     0.79002,     0.78849,     0.78696,     0.78525,     0.78282,     0.78037,     0.77792,     0.77546,     0.77298,     0.76396,     0.75576,\n",
              "             0.7553,     0.75485,     0.75439,     0.75393,     0.75347,     0.75301,     0.75256,      0.7521,     0.75164,     0.75118,     0.75072,     0.75026,      0.7498,     0.74934,     0.74888,     0.74841,     0.74795,     0.74749,     0.74703,     0.74657,      0.7461,     0.74564,     0.74517,\n",
              "            0.74471,     0.74425,     0.74378,     0.74332,     0.74285,     0.74238,     0.74192,     0.74145,     0.74098,     0.72451,     0.72215,     0.71978,     0.71741,     0.71503,     0.71263,     0.71023,     0.69222,     0.69081,     0.68939,     0.68798,     0.68655,     0.68513,      0.6837,\n",
              "            0.68227,     0.68084,      0.6794,     0.67796,     0.67652,     0.67441,     0.66913,     0.66382,     0.65846,     0.65547,     0.65275,     0.65002,     0.64728,     0.64452,     0.64176,     0.63418,     0.61877,      0.6057,     0.60144,     0.59977,     0.59809,     0.59641,     0.59473,\n",
              "            0.59304,     0.59134,     0.58964,     0.58794,     0.58624,     0.58453,     0.57918,     0.56536,      0.5348,     0.51989,     0.51434,     0.50875,     0.50312,     0.47525,     0.46966,     0.46402,     0.45834,     0.44399,     0.42946,     0.42723,     0.42499,     0.42274,     0.42049,\n",
              "            0.41823,     0.41597,      0.4137,     0.41142,     0.40913,     0.40684,      0.3774,     0.36642,     0.35529,     0.35113,     0.34726,     0.34336,     0.33944,     0.33551,     0.33156,     0.32665,     0.30937,     0.28784,     0.26933,     0.26432,     0.25927,      0.2542,     0.24909,\n",
              "            0.24396,     0.23578,     0.22447,     0.21301,     0.20287,     0.19303,     0.18308,     0.17428,     0.16643,     0.15851,     0.15053,     0.14249,     0.13442,     0.12627,     0.11806,    0.087919,    0.059918,    0.042629,           0,           0,           0,           0,           0,\n",
              "                  0,           0,           0,           0,           0,           0,           0,           0,           0,           0,           0,           0,           0,           0,           0,           0,           0,           0,           0,           0,           0,           0,           0,\n",
              "                  0,           0,           0,           0,           0,           0,           0,           0,           0,           0,           0]]), 'Confidence', 'F1'], [array([          0,    0.001001,    0.002002,    0.003003,    0.004004,    0.005005,    0.006006,    0.007007,    0.008008,    0.009009,     0.01001,    0.011011,    0.012012,    0.013013,    0.014014,    0.015015,    0.016016,    0.017017,    0.018018,    0.019019,     0.02002,    0.021021,    0.022022,    0.023023,\n",
              "          0.024024,    0.025025,    0.026026,    0.027027,    0.028028,    0.029029,     0.03003,    0.031031,    0.032032,    0.033033,    0.034034,    0.035035,    0.036036,    0.037037,    0.038038,    0.039039,     0.04004,    0.041041,    0.042042,    0.043043,    0.044044,    0.045045,    0.046046,    0.047047,\n",
              "          0.048048,    0.049049,     0.05005,    0.051051,    0.052052,    0.053053,    0.054054,    0.055055,    0.056056,    0.057057,    0.058058,    0.059059,     0.06006,    0.061061,    0.062062,    0.063063,    0.064064,    0.065065,    0.066066,    0.067067,    0.068068,    0.069069,     0.07007,    0.071071,\n",
              "          0.072072,    0.073073,    0.074074,    0.075075,    0.076076,    0.077077,    0.078078,    0.079079,     0.08008,    0.081081,    0.082082,    0.083083,    0.084084,    0.085085,    0.086086,    0.087087,    0.088088,    0.089089,     0.09009,    0.091091,    0.092092,    0.093093,    0.094094,    0.095095,\n",
              "          0.096096,    0.097097,    0.098098,    0.099099,      0.1001,      0.1011,      0.1021,      0.1031,      0.1041,     0.10511,     0.10611,     0.10711,     0.10811,     0.10911,     0.11011,     0.11111,     0.11211,     0.11311,     0.11411,     0.11512,     0.11612,     0.11712,     0.11812,     0.11912,\n",
              "           0.12012,     0.12112,     0.12212,     0.12312,     0.12412,     0.12513,     0.12613,     0.12713,     0.12813,     0.12913,     0.13013,     0.13113,     0.13213,     0.13313,     0.13413,     0.13514,     0.13614,     0.13714,     0.13814,     0.13914,     0.14014,     0.14114,     0.14214,     0.14314,\n",
              "           0.14414,     0.14515,     0.14615,     0.14715,     0.14815,     0.14915,     0.15015,     0.15115,     0.15215,     0.15315,     0.15415,     0.15516,     0.15616,     0.15716,     0.15816,     0.15916,     0.16016,     0.16116,     0.16216,     0.16316,     0.16416,     0.16517,     0.16617,     0.16717,\n",
              "           0.16817,     0.16917,     0.17017,     0.17117,     0.17217,     0.17317,     0.17417,     0.17518,     0.17618,     0.17718,     0.17818,     0.17918,     0.18018,     0.18118,     0.18218,     0.18318,     0.18418,     0.18519,     0.18619,     0.18719,     0.18819,     0.18919,     0.19019,     0.19119,\n",
              "           0.19219,     0.19319,     0.19419,      0.1952,      0.1962,      0.1972,      0.1982,      0.1992,      0.2002,      0.2012,      0.2022,      0.2032,      0.2042,     0.20521,     0.20621,     0.20721,     0.20821,     0.20921,     0.21021,     0.21121,     0.21221,     0.21321,     0.21421,     0.21522,\n",
              "           0.21622,     0.21722,     0.21822,     0.21922,     0.22022,     0.22122,     0.22222,     0.22322,     0.22422,     0.22523,     0.22623,     0.22723,     0.22823,     0.22923,     0.23023,     0.23123,     0.23223,     0.23323,     0.23423,     0.23524,     0.23624,     0.23724,     0.23824,     0.23924,\n",
              "           0.24024,     0.24124,     0.24224,     0.24324,     0.24424,     0.24525,     0.24625,     0.24725,     0.24825,     0.24925,     0.25025,     0.25125,     0.25225,     0.25325,     0.25425,     0.25526,     0.25626,     0.25726,     0.25826,     0.25926,     0.26026,     0.26126,     0.26226,     0.26326,\n",
              "           0.26426,     0.26527,     0.26627,     0.26727,     0.26827,     0.26927,     0.27027,     0.27127,     0.27227,     0.27327,     0.27427,     0.27528,     0.27628,     0.27728,     0.27828,     0.27928,     0.28028,     0.28128,     0.28228,     0.28328,     0.28428,     0.28529,     0.28629,     0.28729,\n",
              "           0.28829,     0.28929,     0.29029,     0.29129,     0.29229,     0.29329,     0.29429,      0.2953,      0.2963,      0.2973,      0.2983,      0.2993,      0.3003,      0.3013,      0.3023,      0.3033,      0.3043,     0.30531,     0.30631,     0.30731,     0.30831,     0.30931,     0.31031,     0.31131,\n",
              "           0.31231,     0.31331,     0.31431,     0.31532,     0.31632,     0.31732,     0.31832,     0.31932,     0.32032,     0.32132,     0.32232,     0.32332,     0.32432,     0.32533,     0.32633,     0.32733,     0.32833,     0.32933,     0.33033,     0.33133,     0.33233,     0.33333,     0.33433,     0.33534,\n",
              "           0.33634,     0.33734,     0.33834,     0.33934,     0.34034,     0.34134,     0.34234,     0.34334,     0.34434,     0.34535,     0.34635,     0.34735,     0.34835,     0.34935,     0.35035,     0.35135,     0.35235,     0.35335,     0.35435,     0.35536,     0.35636,     0.35736,     0.35836,     0.35936,\n",
              "           0.36036,     0.36136,     0.36236,     0.36336,     0.36436,     0.36537,     0.36637,     0.36737,     0.36837,     0.36937,     0.37037,     0.37137,     0.37237,     0.37337,     0.37437,     0.37538,     0.37638,     0.37738,     0.37838,     0.37938,     0.38038,     0.38138,     0.38238,     0.38338,\n",
              "           0.38438,     0.38539,     0.38639,     0.38739,     0.38839,     0.38939,     0.39039,     0.39139,     0.39239,     0.39339,     0.39439,      0.3954,      0.3964,      0.3974,      0.3984,      0.3994,      0.4004,      0.4014,      0.4024,      0.4034,      0.4044,     0.40541,     0.40641,     0.40741,\n",
              "           0.40841,     0.40941,     0.41041,     0.41141,     0.41241,     0.41341,     0.41441,     0.41542,     0.41642,     0.41742,     0.41842,     0.41942,     0.42042,     0.42142,     0.42242,     0.42342,     0.42442,     0.42543,     0.42643,     0.42743,     0.42843,     0.42943,     0.43043,     0.43143,\n",
              "           0.43243,     0.43343,     0.43443,     0.43544,     0.43644,     0.43744,     0.43844,     0.43944,     0.44044,     0.44144,     0.44244,     0.44344,     0.44444,     0.44545,     0.44645,     0.44745,     0.44845,     0.44945,     0.45045,     0.45145,     0.45245,     0.45345,     0.45445,     0.45546,\n",
              "           0.45646,     0.45746,     0.45846,     0.45946,     0.46046,     0.46146,     0.46246,     0.46346,     0.46446,     0.46547,     0.46647,     0.46747,     0.46847,     0.46947,     0.47047,     0.47147,     0.47247,     0.47347,     0.47447,     0.47548,     0.47648,     0.47748,     0.47848,     0.47948,\n",
              "           0.48048,     0.48148,     0.48248,     0.48348,     0.48448,     0.48549,     0.48649,     0.48749,     0.48849,     0.48949,     0.49049,     0.49149,     0.49249,     0.49349,     0.49449,      0.4955,      0.4965,      0.4975,      0.4985,      0.4995,      0.5005,      0.5015,      0.5025,      0.5035,\n",
              "            0.5045,     0.50551,     0.50651,     0.50751,     0.50851,     0.50951,     0.51051,     0.51151,     0.51251,     0.51351,     0.51451,     0.51552,     0.51652,     0.51752,     0.51852,     0.51952,     0.52052,     0.52152,     0.52252,     0.52352,     0.52452,     0.52553,     0.52653,     0.52753,\n",
              "           0.52853,     0.52953,     0.53053,     0.53153,     0.53253,     0.53353,     0.53453,     0.53554,     0.53654,     0.53754,     0.53854,     0.53954,     0.54054,     0.54154,     0.54254,     0.54354,     0.54454,     0.54555,     0.54655,     0.54755,     0.54855,     0.54955,     0.55055,     0.55155,\n",
              "           0.55255,     0.55355,     0.55455,     0.55556,     0.55656,     0.55756,     0.55856,     0.55956,     0.56056,     0.56156,     0.56256,     0.56356,     0.56456,     0.56557,     0.56657,     0.56757,     0.56857,     0.56957,     0.57057,     0.57157,     0.57257,     0.57357,     0.57457,     0.57558,\n",
              "           0.57658,     0.57758,     0.57858,     0.57958,     0.58058,     0.58158,     0.58258,     0.58358,     0.58458,     0.58559,     0.58659,     0.58759,     0.58859,     0.58959,     0.59059,     0.59159,     0.59259,     0.59359,     0.59459,      0.5956,      0.5966,      0.5976,      0.5986,      0.5996,\n",
              "            0.6006,      0.6016,      0.6026,      0.6036,      0.6046,     0.60561,     0.60661,     0.60761,     0.60861,     0.60961,     0.61061,     0.61161,     0.61261,     0.61361,     0.61461,     0.61562,     0.61662,     0.61762,     0.61862,     0.61962,     0.62062,     0.62162,     0.62262,     0.62362,\n",
              "           0.62462,     0.62563,     0.62663,     0.62763,     0.62863,     0.62963,     0.63063,     0.63163,     0.63263,     0.63363,     0.63463,     0.63564,     0.63664,     0.63764,     0.63864,     0.63964,     0.64064,     0.64164,     0.64264,     0.64364,     0.64464,     0.64565,     0.64665,     0.64765,\n",
              "           0.64865,     0.64965,     0.65065,     0.65165,     0.65265,     0.65365,     0.65465,     0.65566,     0.65666,     0.65766,     0.65866,     0.65966,     0.66066,     0.66166,     0.66266,     0.66366,     0.66466,     0.66567,     0.66667,     0.66767,     0.66867,     0.66967,     0.67067,     0.67167,\n",
              "           0.67267,     0.67367,     0.67467,     0.67568,     0.67668,     0.67768,     0.67868,     0.67968,     0.68068,     0.68168,     0.68268,     0.68368,     0.68468,     0.68569,     0.68669,     0.68769,     0.68869,     0.68969,     0.69069,     0.69169,     0.69269,     0.69369,     0.69469,      0.6957,\n",
              "            0.6967,      0.6977,      0.6987,      0.6997,      0.7007,      0.7017,      0.7027,      0.7037,      0.7047,     0.70571,     0.70671,     0.70771,     0.70871,     0.70971,     0.71071,     0.71171,     0.71271,     0.71371,     0.71471,     0.71572,     0.71672,     0.71772,     0.71872,     0.71972,\n",
              "           0.72072,     0.72172,     0.72272,     0.72372,     0.72472,     0.72573,     0.72673,     0.72773,     0.72873,     0.72973,     0.73073,     0.73173,     0.73273,     0.73373,     0.73473,     0.73574,     0.73674,     0.73774,     0.73874,     0.73974,     0.74074,     0.74174,     0.74274,     0.74374,\n",
              "           0.74474,     0.74575,     0.74675,     0.74775,     0.74875,     0.74975,     0.75075,     0.75175,     0.75275,     0.75375,     0.75475,     0.75576,     0.75676,     0.75776,     0.75876,     0.75976,     0.76076,     0.76176,     0.76276,     0.76376,     0.76476,     0.76577,     0.76677,     0.76777,\n",
              "           0.76877,     0.76977,     0.77077,     0.77177,     0.77277,     0.77377,     0.77477,     0.77578,     0.77678,     0.77778,     0.77878,     0.77978,     0.78078,     0.78178,     0.78278,     0.78378,     0.78478,     0.78579,     0.78679,     0.78779,     0.78879,     0.78979,     0.79079,     0.79179,\n",
              "           0.79279,     0.79379,     0.79479,      0.7958,      0.7968,      0.7978,      0.7988,      0.7998,      0.8008,      0.8018,      0.8028,      0.8038,      0.8048,     0.80581,     0.80681,     0.80781,     0.80881,     0.80981,     0.81081,     0.81181,     0.81281,     0.81381,     0.81481,     0.81582,\n",
              "           0.81682,     0.81782,     0.81882,     0.81982,     0.82082,     0.82182,     0.82282,     0.82382,     0.82482,     0.82583,     0.82683,     0.82783,     0.82883,     0.82983,     0.83083,     0.83183,     0.83283,     0.83383,     0.83483,     0.83584,     0.83684,     0.83784,     0.83884,     0.83984,\n",
              "           0.84084,     0.84184,     0.84284,     0.84384,     0.84484,     0.84585,     0.84685,     0.84785,     0.84885,     0.84985,     0.85085,     0.85185,     0.85285,     0.85385,     0.85485,     0.85586,     0.85686,     0.85786,     0.85886,     0.85986,     0.86086,     0.86186,     0.86286,     0.86386,\n",
              "           0.86486,     0.86587,     0.86687,     0.86787,     0.86887,     0.86987,     0.87087,     0.87187,     0.87287,     0.87387,     0.87487,     0.87588,     0.87688,     0.87788,     0.87888,     0.87988,     0.88088,     0.88188,     0.88288,     0.88388,     0.88488,     0.88589,     0.88689,     0.88789,\n",
              "           0.88889,     0.88989,     0.89089,     0.89189,     0.89289,     0.89389,     0.89489,      0.8959,      0.8969,      0.8979,      0.8989,      0.8999,      0.9009,      0.9019,      0.9029,      0.9039,      0.9049,     0.90591,     0.90691,     0.90791,     0.90891,     0.90991,     0.91091,     0.91191,\n",
              "           0.91291,     0.91391,     0.91491,     0.91592,     0.91692,     0.91792,     0.91892,     0.91992,     0.92092,     0.92192,     0.92292,     0.92392,     0.92492,     0.92593,     0.92693,     0.92793,     0.92893,     0.92993,     0.93093,     0.93193,     0.93293,     0.93393,     0.93493,     0.93594,\n",
              "           0.93694,     0.93794,     0.93894,     0.93994,     0.94094,     0.94194,     0.94294,     0.94394,     0.94494,     0.94595,     0.94695,     0.94795,     0.94895,     0.94995,     0.95095,     0.95195,     0.95295,     0.95395,     0.95495,     0.95596,     0.95696,     0.95796,     0.95896,     0.95996,\n",
              "           0.96096,     0.96196,     0.96296,     0.96396,     0.96496,     0.96597,     0.96697,     0.96797,     0.96897,     0.96997,     0.97097,     0.97197,     0.97297,     0.97397,     0.97497,     0.97598,     0.97698,     0.97798,     0.97898,     0.97998,     0.98098,     0.98198,     0.98298,     0.98398,\n",
              "           0.98498,     0.98599,     0.98699,     0.98799,     0.98899,     0.98999,     0.99099,     0.99199,     0.99299,     0.99399,     0.99499,       0.996,       0.997,       0.998,       0.999,           1]), array([[  0.0043085,   0.0043108,    0.005908,    0.015241,    0.045277,     0.07407,    0.092735,      0.1114,     0.12952,     0.14637,     0.16156,     0.17307,     0.18617,     0.20504,     0.21568,     0.22559,     0.23313,     0.24398,      0.2541,     0.27018,     0.28214,     0.28992,         0.3,\n",
              "            0.30855,     0.31749,      0.3232,     0.33117,     0.33304,     0.33504,     0.34328,     0.34648,      0.3636,     0.36857,     0.37087,     0.37173,     0.37258,     0.37679,     0.38324,     0.38772,     0.39566,     0.40107,     0.40531,     0.41363,     0.41608,     0.41822,     0.42132,\n",
              "            0.43583,     0.44656,     0.44793,     0.44929,     0.45104,     0.45478,     0.45784,     0.46814,     0.47364,      0.4761,     0.48724,     0.49628,     0.49981,     0.50202,     0.50416,     0.50621,      0.5082,     0.51019,      0.5185,       0.523,     0.52764,     0.53102,     0.53797,\n",
              "            0.54108,     0.54403,     0.54646,     0.54889,     0.55628,     0.55899,      0.5617,       0.568,     0.57049,     0.57287,     0.57671,     0.58261,     0.58519,     0.58778,     0.59225,     0.59635,     0.59924,     0.60214,     0.60833,     0.61745,     0.61927,     0.62109,     0.62291,\n",
              "            0.62473,     0.62533,     0.62572,     0.62612,     0.62651,      0.6269,     0.62729,     0.62768,     0.62807,     0.62846,     0.62885,     0.62924,     0.62963,     0.63002,     0.63041,      0.6308,     0.63119,     0.63158,     0.63198,     0.63237,     0.63276,      0.6387,     0.64337,\n",
              "            0.64647,     0.64943,     0.65055,     0.65167,      0.6528,     0.65392,     0.65504,     0.65617,     0.65729,     0.66039,     0.66578,     0.66685,     0.66707,     0.66728,      0.6675,     0.66772,     0.66793,     0.66815,     0.66837,     0.66859,      0.6688,     0.66902,     0.66924,\n",
              "            0.66945,     0.66967,     0.66989,     0.67011,     0.67032,     0.67054,     0.67076,     0.67098,     0.67119,     0.67141,     0.67163,     0.67184,     0.67206,     0.67228,      0.6725,     0.67271,     0.67293,     0.67315,     0.67336,     0.67358,      0.6738,     0.67402,     0.67423,\n",
              "            0.67445,     0.67467,     0.67489,      0.6751,     0.67532,     0.67554,     0.67613,     0.67739,     0.67864,      0.6799,     0.68116,     0.68242,     0.68368,     0.68494,      0.6903,     0.69675,     0.70451,     0.70557,     0.70663,     0.70769,     0.70875,     0.70981,     0.71087,\n",
              "            0.71193,     0.71299,     0.71405,     0.72225,     0.72498,     0.72542,     0.72586,     0.72631,     0.72675,     0.72719,     0.72764,     0.72808,     0.72852,     0.72897,     0.72941,     0.72985,     0.73029,     0.73074,     0.73118,     0.73162,     0.73207,     0.73251,     0.73295,\n",
              "             0.7334,     0.73384,     0.73428,     0.73473,     0.73517,     0.74645,     0.74691,     0.74736,     0.74782,     0.74828,     0.74874,      0.7492,     0.74966,     0.75011,     0.75057,     0.75103,     0.75149,     0.75195,     0.75241,     0.75286,     0.75332,     0.75378,     0.75424,\n",
              "             0.7547,     0.75516,     0.75561,     0.75607,     0.75653,     0.75699,     0.75745,     0.76085,     0.76541,     0.76965,     0.77223,      0.7748,     0.77738,     0.77995,     0.78153,     0.78209,     0.78265,     0.78322,     0.78378,     0.78434,     0.78491,     0.78547,     0.78603,\n",
              "            0.78659,     0.78716,     0.78772,     0.78828,     0.78884,     0.78941,     0.78997,     0.79053,     0.79109,     0.79166,     0.79222,     0.79278,     0.79335,     0.79379,     0.79408,     0.79438,     0.79468,     0.79498,     0.79527,     0.79557,     0.79587,     0.79617,     0.79646,\n",
              "            0.79676,     0.79706,     0.79735,     0.79765,     0.79795,     0.79825,     0.79854,     0.79884,     0.79914,     0.79944,     0.79973,     0.80003,     0.80033,     0.80062,     0.80092,     0.80122,     0.80152,     0.80181,     0.80211,     0.80241,     0.80271,       0.803,      0.8033,\n",
              "             0.8036,     0.80389,     0.80419,     0.80449,     0.80479,     0.80508,     0.80538,     0.80568,     0.80598,     0.80627,     0.80669,     0.80728,     0.80788,     0.80847,     0.80907,     0.80966,     0.81026,     0.81085,     0.81145,     0.81204,     0.81264,     0.81323,     0.81383,\n",
              "            0.81442,     0.81502,     0.81561,     0.81621,      0.8168,      0.8174,     0.81799,     0.81859,     0.81918,     0.81958,     0.81904,      0.8185,     0.81796,     0.81742,     0.81689,     0.81672,     0.81681,     0.81691,       0.817,     0.81709,     0.81719,     0.81728,     0.81737,\n",
              "            0.81746,     0.81756,     0.81765,     0.81774,     0.81783,     0.81793,     0.81802,     0.81811,     0.81821,      0.8183,     0.81839,     0.81848,     0.81858,     0.81867,     0.81876,     0.81886,     0.81895,     0.81904,     0.81913,     0.81923,     0.81932,     0.81941,      0.8195,\n",
              "             0.8196,     0.81969,     0.81978,     0.81988,     0.81997,     0.82006,     0.82015,     0.82025,     0.82034,     0.82043,     0.82053,     0.82062,     0.82071,      0.8208,      0.8209,     0.82099,     0.82108,     0.82118,     0.82127,     0.82136,     0.82145,     0.82155,     0.82164,\n",
              "            0.82173,     0.82182,     0.82192,     0.82201,      0.8221,      0.8222,     0.82229,     0.82238,     0.82247,     0.82257,     0.82266,     0.82275,     0.82285,     0.82294,     0.82303,     0.82312,     0.82322,     0.82331,      0.8234,     0.82349,     0.82359,     0.82368,     0.82377,\n",
              "            0.82387,     0.82396,     0.82405,     0.82414,     0.82424,     0.82433,     0.82442,     0.82452,     0.82461,      0.8247,     0.82479,     0.82489,     0.82498,     0.82507,     0.82516,     0.82526,     0.82535,     0.82544,     0.82554,     0.82563,     0.82572,     0.82581,     0.82591,\n",
              "              0.826,     0.82609,     0.82619,     0.82628,     0.82637,     0.82646,     0.82656,     0.82665,     0.82674,     0.82683,     0.82693,     0.82702,     0.82711,     0.82721,      0.8273,     0.82739,     0.82748,     0.82758,     0.82767,     0.82776,     0.82786,     0.82795,     0.82804,\n",
              "            0.82813,     0.82823,     0.82832,     0.82841,      0.8285,      0.8286,     0.82869,     0.82878,     0.82888,     0.82897,     0.82906,     0.82915,     0.82925,     0.82934,     0.82943,     0.82953,     0.82962,     0.82971,      0.8298,      0.8299,     0.82999,     0.83008,     0.83017,\n",
              "            0.83027,     0.83036,     0.83045,     0.83074,     0.83132,     0.83191,     0.83249,     0.83307,     0.83365,     0.83423,     0.83481,      0.8354,     0.83598,     0.83656,     0.83714,     0.83772,      0.8383,     0.83889,     0.83947,     0.84005,     0.84063,     0.84121,     0.84179,\n",
              "            0.84238,     0.84296,     0.84354,     0.84412,      0.8447,     0.84635,     0.84829,     0.85024,     0.85218,     0.85412,     0.85606,       0.858,     0.86011,     0.86311,     0.86612,     0.86912,     0.87213,     0.87499,     0.87478,     0.87457,     0.87436,     0.87416,     0.87395,\n",
              "            0.87374,     0.87353,     0.87332,     0.87311,      0.8729,     0.87335,     0.87735,     0.88136,     0.88536,     0.88874,     0.88745,     0.88664,     0.88632,     0.88601,     0.88569,     0.88538,     0.88506,     0.88475,      0.8858,     0.88782,     0.88984,     0.89186,     0.89388,\n",
              "             0.8959,     0.89792,     0.89994,     0.90196,     0.90294,     0.90391,     0.90488,     0.90586,     0.90683,      0.9078,     0.90878,     0.90975,     0.91072,      0.9117,     0.91267,     0.91364,     0.91462,     0.91559,     0.91656,     0.91754,     0.91851,     0.91948,      0.9216,\n",
              "            0.92501,     0.92841,     0.93182,     0.93523,     0.93863,     0.93875,     0.93873,      0.9387,     0.93868,     0.93865,     0.93863,     0.93861,     0.93858,     0.93856,     0.93853,     0.93851,     0.93848,     0.93846,     0.93843,     0.93841,     0.93839,     0.93836,     0.93834,\n",
              "            0.93831,     0.93829,     0.93826,     0.93824,     0.93821,     0.93819,     0.93816,     0.93814,     0.93812,     0.93809,     0.93807,     0.93804,     0.93802,     0.93799,     0.93797,     0.93794,     0.93792,      0.9379,     0.93787,     0.93785,     0.93782,      0.9378,     0.93777,\n",
              "            0.93775,     0.93772,      0.9377,     0.93768,     0.93765,     0.93763,      0.9376,     0.93758,     0.93755,     0.93753,      0.9375,     0.95242,     0.95742,     0.95739,     0.95736,     0.95733,     0.95729,     0.95726,     0.95723,     0.95719,     0.95716,     0.95713,      0.9571,\n",
              "            0.95706,     0.95703,       0.957,     0.95697,     0.95693,      0.9569,     0.95687,     0.95684,      0.9568,     0.95677,     0.95674,      0.9567,     0.95667,     0.95664,     0.95661,     0.95657,     0.95654,     0.95644,     0.95624,     0.95604,     0.95584,     0.95563,     0.95551,\n",
              "            0.95543,     0.95536,     0.95528,      0.9552,     0.95513,     0.95505,     0.95497,      0.9549,     0.95482,     0.95474,     0.95467,     0.95459,     0.95469,     0.95503,     0.95537,     0.95571,     0.95605,      0.9564,     0.95674,     0.95708,     0.95742,     0.95776,      0.9581,\n",
              "            0.95844,     0.95879,     0.95913,     0.95947,     0.95981,     0.96015,     0.96049,     0.96084,     0.96118,     0.96152,     0.96186,      0.9622,     0.96254,     0.96289,     0.96323,     0.96357,     0.96391,     0.96425,     0.96459,     0.96493,     0.96528,     0.96562,     0.96596,\n",
              "             0.9663,     0.96664,     0.96698,     0.96733,     0.96767,     0.96801,     0.96835,     0.96869,     0.96903,     0.96938,     0.96972,     0.97006,      0.9704,     0.97074,     0.97108,     0.97143,     0.97177,     0.97211,     0.97245,     0.97279,     0.97313,     0.97347,     0.97382,\n",
              "            0.97416,      0.9745,     0.97484,     0.97518,     0.97552,     0.97587,     0.97621,     0.97655,      0.9767,      0.9766,      0.9765,      0.9764,      0.9763,     0.97619,     0.97615,      0.9761,     0.97605,       0.976,     0.97596,     0.97591,     0.97586,     0.97582,     0.97577,\n",
              "            0.97572,     0.97568,     0.97563,     0.97552,     0.97539,     0.97525,     0.97511,     0.97498,     0.97491,     0.97484,     0.97476,     0.97469,     0.97462,     0.97454,     0.97447,      0.9744,     0.97431,     0.97422,     0.97412,     0.97403,     0.97394,     0.97384,     0.97375,\n",
              "            0.97449,     0.97686,     0.97922,     0.98158,     0.98395,     0.98631,     0.98868,     0.99104,     0.99341,     0.99577,     0.99813,           1,           1,           1,           1,           1,           1,           1,           1,           1,           1,           1,           1,\n",
              "                  1,           1,           1,           1,           1,           1,           1,           1,           1,           1,           1,           1,           1,           1,           1,           1,           1,           1,           1,           1,           1,           1,           1,\n",
              "                  1,           1,           1,           1,           1,           1,           1,           1,           1,           1,           1,           1,           1,           1,           1,           1,           1,           1,           1,           1,           1,           1,           1,\n",
              "                  1,           1,           1,           1,           1,           1,           1,           1,           1,           1,           1,           1,           1,           1,           1,           1,           1,           1,           1,           1,           1,           1,           1,\n",
              "                  1,           1,           1,           1,           1,           1,           1,           1,           1,           1,           1,           1,           1,           1,           1,           1,           1,           1,           1,           1,           1,           1,           1,\n",
              "                  1,           1,           1,           1,           1,           1,           1,           1,           1,           1,           1,           1,           1,           1,           1,           1,           1,           1,           1,           1,           1,           1,           1,\n",
              "                  1,           1,           1,           1,           1,           1,           1,           1,           1,           1,           1,           1,           1,           1,           1,           1,           1,           1,           1,           1,           1,           1,           1,\n",
              "                  1,           1,           1,           1,           1,           1,           1,           1,           1,           1,           1,           1,           1,           1,           1,           1,           1,           1,           1,           1,           1,           1,           1,\n",
              "                  1,           1,           1,           1,           1,           1,           1,           1,           1,           1,           1,           1,           1,           1,           1,           1,           1,           1,           1,           1,           1,           1,           1,\n",
              "                  1,           1,           1,           1,           1,           1,           1,           1,           1,           1,           1]]), 'Confidence', 'Precision'], [array([          0,    0.001001,    0.002002,    0.003003,    0.004004,    0.005005,    0.006006,    0.007007,    0.008008,    0.009009,     0.01001,    0.011011,    0.012012,    0.013013,    0.014014,    0.015015,    0.016016,    0.017017,    0.018018,    0.019019,     0.02002,    0.021021,    0.022022,    0.023023,\n",
              "          0.024024,    0.025025,    0.026026,    0.027027,    0.028028,    0.029029,     0.03003,    0.031031,    0.032032,    0.033033,    0.034034,    0.035035,    0.036036,    0.037037,    0.038038,    0.039039,     0.04004,    0.041041,    0.042042,    0.043043,    0.044044,    0.045045,    0.046046,    0.047047,\n",
              "          0.048048,    0.049049,     0.05005,    0.051051,    0.052052,    0.053053,    0.054054,    0.055055,    0.056056,    0.057057,    0.058058,    0.059059,     0.06006,    0.061061,    0.062062,    0.063063,    0.064064,    0.065065,    0.066066,    0.067067,    0.068068,    0.069069,     0.07007,    0.071071,\n",
              "          0.072072,    0.073073,    0.074074,    0.075075,    0.076076,    0.077077,    0.078078,    0.079079,     0.08008,    0.081081,    0.082082,    0.083083,    0.084084,    0.085085,    0.086086,    0.087087,    0.088088,    0.089089,     0.09009,    0.091091,    0.092092,    0.093093,    0.094094,    0.095095,\n",
              "          0.096096,    0.097097,    0.098098,    0.099099,      0.1001,      0.1011,      0.1021,      0.1031,      0.1041,     0.10511,     0.10611,     0.10711,     0.10811,     0.10911,     0.11011,     0.11111,     0.11211,     0.11311,     0.11411,     0.11512,     0.11612,     0.11712,     0.11812,     0.11912,\n",
              "           0.12012,     0.12112,     0.12212,     0.12312,     0.12412,     0.12513,     0.12613,     0.12713,     0.12813,     0.12913,     0.13013,     0.13113,     0.13213,     0.13313,     0.13413,     0.13514,     0.13614,     0.13714,     0.13814,     0.13914,     0.14014,     0.14114,     0.14214,     0.14314,\n",
              "           0.14414,     0.14515,     0.14615,     0.14715,     0.14815,     0.14915,     0.15015,     0.15115,     0.15215,     0.15315,     0.15415,     0.15516,     0.15616,     0.15716,     0.15816,     0.15916,     0.16016,     0.16116,     0.16216,     0.16316,     0.16416,     0.16517,     0.16617,     0.16717,\n",
              "           0.16817,     0.16917,     0.17017,     0.17117,     0.17217,     0.17317,     0.17417,     0.17518,     0.17618,     0.17718,     0.17818,     0.17918,     0.18018,     0.18118,     0.18218,     0.18318,     0.18418,     0.18519,     0.18619,     0.18719,     0.18819,     0.18919,     0.19019,     0.19119,\n",
              "           0.19219,     0.19319,     0.19419,      0.1952,      0.1962,      0.1972,      0.1982,      0.1992,      0.2002,      0.2012,      0.2022,      0.2032,      0.2042,     0.20521,     0.20621,     0.20721,     0.20821,     0.20921,     0.21021,     0.21121,     0.21221,     0.21321,     0.21421,     0.21522,\n",
              "           0.21622,     0.21722,     0.21822,     0.21922,     0.22022,     0.22122,     0.22222,     0.22322,     0.22422,     0.22523,     0.22623,     0.22723,     0.22823,     0.22923,     0.23023,     0.23123,     0.23223,     0.23323,     0.23423,     0.23524,     0.23624,     0.23724,     0.23824,     0.23924,\n",
              "           0.24024,     0.24124,     0.24224,     0.24324,     0.24424,     0.24525,     0.24625,     0.24725,     0.24825,     0.24925,     0.25025,     0.25125,     0.25225,     0.25325,     0.25425,     0.25526,     0.25626,     0.25726,     0.25826,     0.25926,     0.26026,     0.26126,     0.26226,     0.26326,\n",
              "           0.26426,     0.26527,     0.26627,     0.26727,     0.26827,     0.26927,     0.27027,     0.27127,     0.27227,     0.27327,     0.27427,     0.27528,     0.27628,     0.27728,     0.27828,     0.27928,     0.28028,     0.28128,     0.28228,     0.28328,     0.28428,     0.28529,     0.28629,     0.28729,\n",
              "           0.28829,     0.28929,     0.29029,     0.29129,     0.29229,     0.29329,     0.29429,      0.2953,      0.2963,      0.2973,      0.2983,      0.2993,      0.3003,      0.3013,      0.3023,      0.3033,      0.3043,     0.30531,     0.30631,     0.30731,     0.30831,     0.30931,     0.31031,     0.31131,\n",
              "           0.31231,     0.31331,     0.31431,     0.31532,     0.31632,     0.31732,     0.31832,     0.31932,     0.32032,     0.32132,     0.32232,     0.32332,     0.32432,     0.32533,     0.32633,     0.32733,     0.32833,     0.32933,     0.33033,     0.33133,     0.33233,     0.33333,     0.33433,     0.33534,\n",
              "           0.33634,     0.33734,     0.33834,     0.33934,     0.34034,     0.34134,     0.34234,     0.34334,     0.34434,     0.34535,     0.34635,     0.34735,     0.34835,     0.34935,     0.35035,     0.35135,     0.35235,     0.35335,     0.35435,     0.35536,     0.35636,     0.35736,     0.35836,     0.35936,\n",
              "           0.36036,     0.36136,     0.36236,     0.36336,     0.36436,     0.36537,     0.36637,     0.36737,     0.36837,     0.36937,     0.37037,     0.37137,     0.37237,     0.37337,     0.37437,     0.37538,     0.37638,     0.37738,     0.37838,     0.37938,     0.38038,     0.38138,     0.38238,     0.38338,\n",
              "           0.38438,     0.38539,     0.38639,     0.38739,     0.38839,     0.38939,     0.39039,     0.39139,     0.39239,     0.39339,     0.39439,      0.3954,      0.3964,      0.3974,      0.3984,      0.3994,      0.4004,      0.4014,      0.4024,      0.4034,      0.4044,     0.40541,     0.40641,     0.40741,\n",
              "           0.40841,     0.40941,     0.41041,     0.41141,     0.41241,     0.41341,     0.41441,     0.41542,     0.41642,     0.41742,     0.41842,     0.41942,     0.42042,     0.42142,     0.42242,     0.42342,     0.42442,     0.42543,     0.42643,     0.42743,     0.42843,     0.42943,     0.43043,     0.43143,\n",
              "           0.43243,     0.43343,     0.43443,     0.43544,     0.43644,     0.43744,     0.43844,     0.43944,     0.44044,     0.44144,     0.44244,     0.44344,     0.44444,     0.44545,     0.44645,     0.44745,     0.44845,     0.44945,     0.45045,     0.45145,     0.45245,     0.45345,     0.45445,     0.45546,\n",
              "           0.45646,     0.45746,     0.45846,     0.45946,     0.46046,     0.46146,     0.46246,     0.46346,     0.46446,     0.46547,     0.46647,     0.46747,     0.46847,     0.46947,     0.47047,     0.47147,     0.47247,     0.47347,     0.47447,     0.47548,     0.47648,     0.47748,     0.47848,     0.47948,\n",
              "           0.48048,     0.48148,     0.48248,     0.48348,     0.48448,     0.48549,     0.48649,     0.48749,     0.48849,     0.48949,     0.49049,     0.49149,     0.49249,     0.49349,     0.49449,      0.4955,      0.4965,      0.4975,      0.4985,      0.4995,      0.5005,      0.5015,      0.5025,      0.5035,\n",
              "            0.5045,     0.50551,     0.50651,     0.50751,     0.50851,     0.50951,     0.51051,     0.51151,     0.51251,     0.51351,     0.51451,     0.51552,     0.51652,     0.51752,     0.51852,     0.51952,     0.52052,     0.52152,     0.52252,     0.52352,     0.52452,     0.52553,     0.52653,     0.52753,\n",
              "           0.52853,     0.52953,     0.53053,     0.53153,     0.53253,     0.53353,     0.53453,     0.53554,     0.53654,     0.53754,     0.53854,     0.53954,     0.54054,     0.54154,     0.54254,     0.54354,     0.54454,     0.54555,     0.54655,     0.54755,     0.54855,     0.54955,     0.55055,     0.55155,\n",
              "           0.55255,     0.55355,     0.55455,     0.55556,     0.55656,     0.55756,     0.55856,     0.55956,     0.56056,     0.56156,     0.56256,     0.56356,     0.56456,     0.56557,     0.56657,     0.56757,     0.56857,     0.56957,     0.57057,     0.57157,     0.57257,     0.57357,     0.57457,     0.57558,\n",
              "           0.57658,     0.57758,     0.57858,     0.57958,     0.58058,     0.58158,     0.58258,     0.58358,     0.58458,     0.58559,     0.58659,     0.58759,     0.58859,     0.58959,     0.59059,     0.59159,     0.59259,     0.59359,     0.59459,      0.5956,      0.5966,      0.5976,      0.5986,      0.5996,\n",
              "            0.6006,      0.6016,      0.6026,      0.6036,      0.6046,     0.60561,     0.60661,     0.60761,     0.60861,     0.60961,     0.61061,     0.61161,     0.61261,     0.61361,     0.61461,     0.61562,     0.61662,     0.61762,     0.61862,     0.61962,     0.62062,     0.62162,     0.62262,     0.62362,\n",
              "           0.62462,     0.62563,     0.62663,     0.62763,     0.62863,     0.62963,     0.63063,     0.63163,     0.63263,     0.63363,     0.63463,     0.63564,     0.63664,     0.63764,     0.63864,     0.63964,     0.64064,     0.64164,     0.64264,     0.64364,     0.64464,     0.64565,     0.64665,     0.64765,\n",
              "           0.64865,     0.64965,     0.65065,     0.65165,     0.65265,     0.65365,     0.65465,     0.65566,     0.65666,     0.65766,     0.65866,     0.65966,     0.66066,     0.66166,     0.66266,     0.66366,     0.66466,     0.66567,     0.66667,     0.66767,     0.66867,     0.66967,     0.67067,     0.67167,\n",
              "           0.67267,     0.67367,     0.67467,     0.67568,     0.67668,     0.67768,     0.67868,     0.67968,     0.68068,     0.68168,     0.68268,     0.68368,     0.68468,     0.68569,     0.68669,     0.68769,     0.68869,     0.68969,     0.69069,     0.69169,     0.69269,     0.69369,     0.69469,      0.6957,\n",
              "            0.6967,      0.6977,      0.6987,      0.6997,      0.7007,      0.7017,      0.7027,      0.7037,      0.7047,     0.70571,     0.70671,     0.70771,     0.70871,     0.70971,     0.71071,     0.71171,     0.71271,     0.71371,     0.71471,     0.71572,     0.71672,     0.71772,     0.71872,     0.71972,\n",
              "           0.72072,     0.72172,     0.72272,     0.72372,     0.72472,     0.72573,     0.72673,     0.72773,     0.72873,     0.72973,     0.73073,     0.73173,     0.73273,     0.73373,     0.73473,     0.73574,     0.73674,     0.73774,     0.73874,     0.73974,     0.74074,     0.74174,     0.74274,     0.74374,\n",
              "           0.74474,     0.74575,     0.74675,     0.74775,     0.74875,     0.74975,     0.75075,     0.75175,     0.75275,     0.75375,     0.75475,     0.75576,     0.75676,     0.75776,     0.75876,     0.75976,     0.76076,     0.76176,     0.76276,     0.76376,     0.76476,     0.76577,     0.76677,     0.76777,\n",
              "           0.76877,     0.76977,     0.77077,     0.77177,     0.77277,     0.77377,     0.77477,     0.77578,     0.77678,     0.77778,     0.77878,     0.77978,     0.78078,     0.78178,     0.78278,     0.78378,     0.78478,     0.78579,     0.78679,     0.78779,     0.78879,     0.78979,     0.79079,     0.79179,\n",
              "           0.79279,     0.79379,     0.79479,      0.7958,      0.7968,      0.7978,      0.7988,      0.7998,      0.8008,      0.8018,      0.8028,      0.8038,      0.8048,     0.80581,     0.80681,     0.80781,     0.80881,     0.80981,     0.81081,     0.81181,     0.81281,     0.81381,     0.81481,     0.81582,\n",
              "           0.81682,     0.81782,     0.81882,     0.81982,     0.82082,     0.82182,     0.82282,     0.82382,     0.82482,     0.82583,     0.82683,     0.82783,     0.82883,     0.82983,     0.83083,     0.83183,     0.83283,     0.83383,     0.83483,     0.83584,     0.83684,     0.83784,     0.83884,     0.83984,\n",
              "           0.84084,     0.84184,     0.84284,     0.84384,     0.84484,     0.84585,     0.84685,     0.84785,     0.84885,     0.84985,     0.85085,     0.85185,     0.85285,     0.85385,     0.85485,     0.85586,     0.85686,     0.85786,     0.85886,     0.85986,     0.86086,     0.86186,     0.86286,     0.86386,\n",
              "           0.86486,     0.86587,     0.86687,     0.86787,     0.86887,     0.86987,     0.87087,     0.87187,     0.87287,     0.87387,     0.87487,     0.87588,     0.87688,     0.87788,     0.87888,     0.87988,     0.88088,     0.88188,     0.88288,     0.88388,     0.88488,     0.88589,     0.88689,     0.88789,\n",
              "           0.88889,     0.88989,     0.89089,     0.89189,     0.89289,     0.89389,     0.89489,      0.8959,      0.8969,      0.8979,      0.8989,      0.8999,      0.9009,      0.9019,      0.9029,      0.9039,      0.9049,     0.90591,     0.90691,     0.90791,     0.90891,     0.90991,     0.91091,     0.91191,\n",
              "           0.91291,     0.91391,     0.91491,     0.91592,     0.91692,     0.91792,     0.91892,     0.91992,     0.92092,     0.92192,     0.92292,     0.92392,     0.92492,     0.92593,     0.92693,     0.92793,     0.92893,     0.92993,     0.93093,     0.93193,     0.93293,     0.93393,     0.93493,     0.93594,\n",
              "           0.93694,     0.93794,     0.93894,     0.93994,     0.94094,     0.94194,     0.94294,     0.94394,     0.94494,     0.94595,     0.94695,     0.94795,     0.94895,     0.94995,     0.95095,     0.95195,     0.95295,     0.95395,     0.95495,     0.95596,     0.95696,     0.95796,     0.95896,     0.95996,\n",
              "           0.96096,     0.96196,     0.96296,     0.96396,     0.96496,     0.96597,     0.96697,     0.96797,     0.96897,     0.96997,     0.97097,     0.97197,     0.97297,     0.97397,     0.97497,     0.97598,     0.97698,     0.97798,     0.97898,     0.97998,     0.98098,     0.98198,     0.98298,     0.98398,\n",
              "           0.98498,     0.98599,     0.98699,     0.98799,     0.98899,     0.98999,     0.99099,     0.99199,     0.99299,     0.99399,     0.99499,       0.996,       0.997,       0.998,       0.999,           1]), array([[    0.98039,     0.98039,     0.98039,     0.98039,     0.98039,     0.98039,     0.98039,     0.98039,     0.98039,     0.98039,     0.98039,     0.98039,     0.98039,     0.98039,     0.98039,     0.98039,     0.98039,     0.98039,     0.98039,     0.98039,     0.98039,     0.98039,     0.98039,\n",
              "            0.98039,     0.98039,     0.98039,     0.98039,     0.98039,     0.98039,     0.98039,     0.98039,     0.98039,     0.98039,     0.98039,     0.98039,     0.98039,     0.98039,     0.98039,     0.98039,     0.98039,     0.98039,     0.98039,     0.98039,     0.98039,     0.98039,     0.98039,\n",
              "            0.98039,     0.98039,     0.98039,     0.98039,     0.98039,     0.98039,     0.98039,     0.98039,     0.98039,     0.98039,     0.98039,     0.98039,     0.98039,     0.98039,     0.98039,     0.98039,     0.98039,     0.98039,     0.98039,     0.98039,     0.98039,     0.98039,     0.98039,\n",
              "            0.98039,     0.98039,     0.98039,     0.98039,     0.98039,     0.98039,     0.98039,     0.98039,     0.98039,     0.98039,     0.98039,     0.98039,     0.98039,     0.98039,     0.98039,     0.98039,     0.98039,     0.98039,     0.98039,     0.98039,     0.98039,     0.98039,     0.98039,\n",
              "            0.98039,     0.98039,     0.98039,     0.98039,     0.98039,     0.98039,     0.98039,     0.98039,     0.98039,     0.98039,     0.98039,     0.98039,     0.98039,     0.98039,     0.98039,     0.98039,     0.98039,     0.98039,     0.98039,     0.98039,     0.98039,     0.98039,     0.98039,\n",
              "            0.98039,     0.98039,     0.98039,     0.98039,     0.98039,     0.98039,     0.98039,     0.98039,     0.98039,     0.98039,     0.98039,     0.98039,     0.98039,     0.98039,     0.98039,     0.98039,     0.98039,     0.98039,     0.98039,     0.98039,     0.98039,     0.98039,     0.98039,\n",
              "            0.98039,     0.98039,     0.98039,     0.98039,     0.98039,     0.98039,     0.98039,     0.98039,     0.98039,     0.98039,     0.98039,     0.98039,     0.98039,     0.98039,     0.98039,     0.98039,     0.98039,     0.98039,     0.98039,     0.98039,     0.98039,     0.98039,     0.98039,\n",
              "            0.98039,     0.98039,     0.98039,     0.98039,     0.98039,     0.98039,     0.98039,     0.98039,     0.98039,     0.98039,     0.98039,     0.98039,     0.98039,     0.98039,     0.98039,     0.98039,     0.98039,     0.98039,     0.98039,     0.98039,     0.98039,     0.98039,     0.98039,\n",
              "            0.98039,     0.98039,     0.98039,     0.98039,     0.98039,     0.98039,     0.98039,     0.98039,     0.98039,     0.98039,     0.98039,     0.98039,     0.98039,     0.98039,     0.98039,     0.98039,     0.98039,     0.98039,     0.98039,     0.98039,     0.98039,     0.98039,     0.98039,\n",
              "            0.98039,     0.98039,     0.98039,     0.98039,     0.98039,     0.98039,     0.98039,     0.98039,     0.98039,     0.98039,     0.98039,     0.98039,     0.98039,     0.98039,     0.98039,     0.98039,     0.98039,     0.98039,     0.98039,     0.98039,     0.98039,     0.98039,     0.98039,\n",
              "            0.98039,     0.98039,     0.98039,     0.98039,     0.98039,     0.98039,     0.98039,     0.98039,     0.98039,     0.98039,     0.98039,     0.98039,     0.98039,     0.98039,     0.98039,     0.98039,     0.98039,     0.98039,     0.98039,     0.98039,     0.98039,     0.98039,     0.98039,\n",
              "            0.98039,     0.98039,     0.98039,     0.98039,     0.98039,     0.98039,     0.98039,     0.98039,     0.98039,     0.98039,     0.98039,     0.98039,     0.98039,     0.98039,     0.98039,     0.98039,     0.98039,     0.98039,     0.98039,     0.98039,     0.98039,     0.98039,     0.98039,\n",
              "            0.98039,     0.98039,     0.98039,     0.98039,     0.98039,     0.98039,     0.98039,     0.98039,     0.98039,     0.98039,     0.98039,     0.98039,     0.98039,     0.98039,     0.98039,     0.98039,     0.98039,     0.98039,     0.98039,     0.98039,     0.98039,     0.98039,     0.98039,\n",
              "            0.98039,     0.98039,     0.98039,     0.98039,     0.98039,     0.98039,     0.98039,     0.98039,     0.98039,     0.98039,     0.98039,     0.98039,     0.98039,     0.98039,     0.98039,     0.98039,     0.98039,     0.98039,     0.98039,     0.98039,     0.98039,     0.98039,     0.98039,\n",
              "            0.98039,     0.98039,     0.98039,     0.98039,     0.98039,     0.98039,     0.98039,     0.98039,     0.98039,     0.97978,     0.97627,     0.97275,     0.96924,     0.96573,     0.96222,     0.96078,     0.96078,     0.96078,     0.96078,     0.96078,     0.96078,     0.96078,     0.96078,\n",
              "            0.96078,     0.96078,     0.96078,     0.96078,     0.96078,     0.96078,     0.96078,     0.96078,     0.96078,     0.96078,     0.96078,     0.96078,     0.96078,     0.96078,     0.96078,     0.96078,     0.96078,     0.96078,     0.96078,     0.96078,     0.96078,     0.96078,     0.96078,\n",
              "            0.96078,     0.96078,     0.96078,     0.96078,     0.96078,     0.96078,     0.96078,     0.96078,     0.96078,     0.96078,     0.96078,     0.96078,     0.96078,     0.96078,     0.96078,     0.96078,     0.96078,     0.96078,     0.96078,     0.96078,     0.96078,     0.96078,     0.96078,\n",
              "            0.96078,     0.96078,     0.96078,     0.96078,     0.96078,     0.96078,     0.96078,     0.96078,     0.96078,     0.96078,     0.96078,     0.96078,     0.96078,     0.96078,     0.96078,     0.96078,     0.96078,     0.96078,     0.96078,     0.96078,     0.96078,     0.96078,     0.96078,\n",
              "            0.96078,     0.96078,     0.96078,     0.96078,     0.96078,     0.96078,     0.96078,     0.96078,     0.96078,     0.96078,     0.96078,     0.96078,     0.96078,     0.96078,     0.96078,     0.96078,     0.96078,     0.96078,     0.96078,     0.96078,     0.96078,     0.96078,     0.96078,\n",
              "            0.96078,     0.96078,     0.96078,     0.96078,     0.96078,     0.96078,     0.96078,     0.96078,     0.96078,     0.96078,     0.96078,     0.96078,     0.96078,     0.96078,     0.96078,     0.96078,     0.96078,     0.96078,     0.96078,     0.96078,     0.96078,     0.96078,     0.96078,\n",
              "            0.96078,     0.96078,     0.96078,     0.96078,     0.96078,     0.96078,     0.96078,     0.96078,     0.96078,     0.96078,     0.96078,     0.96078,     0.96078,     0.96078,     0.96078,     0.96078,     0.96078,     0.96078,     0.96078,     0.96078,     0.96078,     0.96078,     0.96078,\n",
              "            0.96078,     0.96078,     0.96078,     0.96078,     0.96078,     0.96078,     0.96078,     0.96078,     0.96078,     0.96078,     0.96078,     0.96078,     0.96078,     0.96078,     0.96078,     0.96078,     0.96078,     0.96078,     0.96078,     0.96078,     0.96078,     0.96078,     0.96078,\n",
              "            0.96078,     0.96078,     0.96078,     0.96078,     0.96078,     0.96078,     0.96078,     0.96078,     0.96078,     0.96078,     0.96078,     0.96078,     0.96078,     0.96078,     0.96078,     0.96078,     0.96078,     0.96071,     0.95891,      0.9571,      0.9553,      0.9535,      0.9517,\n",
              "             0.9499,      0.9481,      0.9463,      0.9445,      0.9427,     0.94118,     0.94118,     0.94118,     0.94118,     0.93974,     0.92768,     0.92017,     0.91733,     0.91449,     0.91165,     0.90881,     0.90597,     0.90313,     0.90196,     0.90196,     0.90196,     0.90196,     0.90196,\n",
              "            0.90196,     0.90196,     0.90196,     0.90196,     0.90196,     0.90196,     0.90196,     0.90196,     0.90196,     0.90196,     0.90196,     0.90196,     0.90196,     0.90196,     0.90196,     0.90196,     0.90196,     0.90196,     0.90196,     0.90196,     0.90196,     0.90196,     0.90196,\n",
              "            0.90196,     0.90196,     0.90196,     0.90196,     0.90196,      0.9016,     0.90122,     0.90085,     0.90047,      0.9001,     0.89972,     0.89934,     0.89897,     0.89859,     0.89821,     0.89784,     0.89746,     0.89709,     0.89671,     0.89633,     0.89596,     0.89558,     0.89521,\n",
              "            0.89483,     0.89445,     0.89408,      0.8937,     0.89332,     0.89295,     0.89257,      0.8922,     0.89182,     0.89144,     0.89107,     0.89069,     0.89032,     0.88994,     0.88956,     0.88919,     0.88881,     0.88843,     0.88806,     0.88768,     0.88731,     0.88693,     0.88655,\n",
              "            0.88618,      0.8858,     0.88542,     0.88505,     0.88467,      0.8843,     0.88392,     0.88354,     0.88317,     0.88279,     0.88242,     0.88235,     0.88185,     0.88116,     0.88047,     0.87978,     0.87908,     0.87839,      0.8777,     0.87701,     0.87632,     0.87562,     0.87493,\n",
              "            0.87424,     0.87355,     0.87285,     0.87216,     0.87147,     0.87078,     0.87008,     0.86939,      0.8687,     0.86801,     0.86731,     0.86662,     0.86593,     0.86524,     0.86454,     0.86385,     0.86316,     0.86109,       0.857,     0.85291,     0.84882,     0.84473,     0.84223,\n",
              "            0.84074,     0.83926,     0.83777,     0.83629,      0.8348,     0.83331,     0.83183,     0.83034,     0.82886,     0.82737,     0.82589,      0.8244,     0.82353,     0.82353,     0.82353,     0.82353,     0.82353,     0.82353,     0.82353,     0.82353,     0.82353,     0.82353,     0.82353,\n",
              "            0.82353,     0.82353,     0.82353,     0.82353,     0.82353,     0.82353,     0.82353,     0.82353,     0.82353,     0.82353,     0.82353,     0.82353,     0.82353,     0.82353,     0.82353,     0.82353,     0.82353,     0.82353,     0.82353,     0.82353,     0.82353,     0.82353,     0.82353,\n",
              "            0.82353,     0.82353,     0.82353,     0.82353,     0.82353,     0.82353,     0.82353,     0.82353,     0.82353,     0.82353,     0.82353,     0.82353,     0.82353,     0.82353,     0.82353,     0.82353,     0.82353,     0.82353,     0.82353,     0.82353,     0.82353,     0.82353,     0.82353,\n",
              "            0.82353,     0.82353,     0.82353,     0.82353,     0.82353,     0.82353,     0.82353,     0.82353,     0.82199,      0.8184,     0.81482,     0.81123,     0.80765,     0.80406,      0.8024,     0.80081,     0.79922,     0.79763,     0.79605,     0.79446,     0.79287,     0.79129,      0.7897,\n",
              "            0.78811,     0.78653,     0.78494,     0.78159,     0.77709,      0.7726,      0.7681,     0.76416,     0.76192,     0.75968,     0.75744,     0.75521,     0.75297,     0.75073,     0.74849,     0.74626,     0.74377,     0.74103,     0.73828,     0.73554,     0.73279,     0.73004,      0.7273,\n",
              "            0.72549,     0.72549,     0.72549,     0.72549,     0.72549,     0.72549,     0.72549,     0.72549,     0.72549,     0.72549,     0.72549,     0.72406,     0.71728,     0.71049,     0.70539,     0.70384,      0.7023,     0.70076,     0.69922,     0.69767,     0.69613,     0.69459,     0.69304,\n",
              "             0.6915,     0.68996,     0.68842,     0.68687,     0.68035,     0.67066,     0.66544,     0.66335,     0.66127,     0.65918,     0.65709,     0.65501,     0.65292,     0.65083,     0.64875,     0.64643,     0.64314,     0.63984,     0.63655,     0.63326,     0.62997,     0.61807,      0.6074,\n",
              "            0.60682,     0.60623,     0.60564,     0.60505,     0.60446,     0.60387,     0.60328,     0.60269,      0.6021,     0.60151,     0.60092,     0.60033,     0.59974,     0.59915,     0.59856,     0.59797,     0.59738,     0.59679,     0.59621,     0.59562,     0.59503,     0.59444,     0.59385,\n",
              "            0.59326,     0.59267,     0.59208,     0.59149,      0.5909,     0.59031,     0.58972,     0.58913,     0.58854,     0.56802,     0.56513,     0.56224,     0.55934,     0.55645,     0.55356,     0.55066,     0.52931,     0.52766,     0.52601,     0.52436,     0.52271,     0.52106,     0.51941,\n",
              "            0.51776,     0.51611,     0.51446,     0.51281,     0.51116,     0.50876,     0.50278,     0.49681,     0.49083,     0.48751,     0.48451,      0.4815,      0.4785,      0.4755,     0.47249,     0.46432,     0.44799,     0.43441,     0.43005,     0.42834,     0.42663,     0.42492,     0.42321,\n",
              "             0.4215,     0.41979,     0.41808,     0.41637,     0.41466,     0.41295,     0.40764,     0.39408,       0.365,     0.35125,      0.3462,     0.34116,     0.33611,     0.31169,      0.3069,      0.3021,      0.2973,     0.28534,     0.27345,     0.27164,     0.26983,     0.26803,     0.26622,\n",
              "            0.26441,      0.2626,     0.26079,     0.25898,     0.25718,     0.25537,     0.23259,     0.22431,     0.21602,     0.21295,     0.21011,     0.20726,     0.20442,     0.20157,     0.19872,     0.19521,     0.18299,     0.16811,     0.15562,     0.15228,     0.14894,      0.1456,     0.14227,\n",
              "            0.13893,     0.13365,     0.12642,      0.1192,     0.11289,     0.10683,     0.10076,    0.095458,    0.090769,    0.086079,    0.081389,     0.07671,    0.072051,    0.067391,    0.062731,    0.045981,    0.030884,    0.021779,           0,           0,           0,           0,           0,\n",
              "                  0,           0,           0,           0,           0,           0,           0,           0,           0,           0,           0,           0,           0,           0,           0,           0,           0,           0,           0,           0,           0,           0,           0,\n",
              "                  0,           0,           0,           0,           0,           0,           0,           0,           0,           0,           0]]), 'Confidence', 'Recall']]\n",
              "fitness: 1.6276628562966318\n",
              "keys: ['metrics/precision(B)', 'metrics/recall(B)', 'metrics/mAP50(B)', 'metrics/mAP50-95(B)', 'metrics/precision(M)', 'metrics/recall(M)', 'metrics/mAP50(M)', 'metrics/mAP50-95(M)']\n",
              "maps: array([     1.5932])\n",
              "names: {0: 'person'}\n",
              "plot: True\n",
              "results_dict: {'metrics/precision(B)': 0.9379934769512335, 'metrics/recall(B)': 0.8899389397993536, 'metrics/mAP50(B)': 0.9690650584880044, 'metrics/mAP50-95(B)': 0.7656926752512134, 'metrics/precision(M)': 0.9379934769512335, 'metrics/recall(M)': 0.8899389397993536, 'metrics/mAP50(M)': 0.9683677087852536, 'metrics/mAP50-95(M)': 0.8275513020480154, 'fitness': 1.6276628562966318}\n",
              "save_dir: PosixPath('runs/segment/train4')\n",
              "seg: ultralytics.utils.metrics.Metric object\n",
              "speed: {'preprocess': 0.2634143829345703, 'inference': 17.2908878326416, 'loss': 0.00013828277587890625, 'postprocess': 1.0674285888671875}\n",
              "task: 'segment'"
            ]
          },
          "execution_count": 7,
          "metadata": {},
          "output_type": "execute_result"
        }
      ],
      "source": [
        "import os\n",
        "\n",
        "from ultralytics import YOLO\n",
        "\n",
        "model = YOLO('yolov8n-seg.pt')\n",
        "\n",
        "model.train(data = '/content/gdrive/MyDrive/Photos/Training/config.yaml', epochs = 10, imgsz = 640)"
      ]
    },
    {
      "cell_type": "code",
      "execution_count": null,
      "metadata": {
        "id": "9qGfEXI0NPhA"
      },
      "outputs": [],
      "source": [
        "!scp -r /content/runs '/content/gdrive/MyDrive/Photos/Training'"
      ]
    },
    {
      "cell_type": "code",
      "execution_count": null,
      "metadata": {
        "colab": {
          "base_uri": "https://localhost:8080/"
        },
        "id": "D_c-e8b8oMYY",
        "outputId": "26bcbe4e-7f45-49d1-d188-453cf6c0beb7"
      },
      "outputs": [
        {
          "name": "stdout",
          "output_type": "stream",
          "text": [
            "\n",
            "0: 480x640 2 persons, 57.7ms\n",
            "Speed: 2.1ms preprocess, 57.7ms inference, 2.4ms postprocess per image at shape (1, 3, 480, 640)\n"
          ]
        }
      ],
      "source": [
        "from ultralytics import YOLO\n",
        "\n",
        "import cv2\n",
        "\n",
        "\n",
        "image_path = '/content/person5.png'\n",
        "\n",
        "img = cv2.imread(image_path)\n",
        "H, W, _ = img.shape\n",
        "\n",
        "results = model(img)\n",
        "\n",
        "for result in results:\n",
        "    for j, mask in enumerate(result.masks.data):\n",
        "\n",
        "        mask = mask.numpy() * 255\n",
        "\n",
        "        mask = cv2.resize(mask, (W, H))\n",
        "\n",
        "        cv2.imwrite('/content/output.png', mask)"
      ]
    },
    {
      "cell_type": "code",
      "execution_count": null,
      "metadata": {
        "id": "5jfvC86ScaE7"
      },
      "outputs": [],
      "source": []
    }
  ],
  "metadata": {
    "accelerator": "TPU",
    "colab": {
      "gpuType": "V28",
      "provenance": []
    },
    "kernelspec": {
      "display_name": "Python 3",
      "name": "python3"
    },
    "language_info": {
      "name": "python"
    }
  },
  "nbformat": 4,
  "nbformat_minor": 0
}
